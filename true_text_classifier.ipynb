{
  "nbformat": 4,
  "nbformat_minor": 0,
  "metadata": {
    "colab": {
      "provenance": [],
      "authorship_tag": "ABX9TyM7sBHIrgCC4FX11yg24bza",
      "include_colab_link": true
    },
    "kernelspec": {
      "name": "python3",
      "display_name": "Python 3"
    },
    "language_info": {
      "name": "python"
    }
  },
  "cells": [
    {
      "cell_type": "markdown",
      "metadata": {
        "id": "view-in-github",
        "colab_type": "text"
      },
      "source": [
        "<a href=\"https://colab.research.google.com/github/mannmoshe/text-recognition/blob/main/true_text_classifier.ipynb\" target=\"_parent\"><img src=\"https://colab.research.google.com/assets/colab-badge.svg\" alt=\"Open In Colab\"/></a>"
      ]
    },
    {
      "cell_type": "code",
      "execution_count": 1,
      "metadata": {
        "id": "GVE3qnCz_nJn"
      },
      "outputs": [],
      "source": [
        "import requests\n",
        "import pandas as pd"
      ]
    },
    {
      "cell_type": "code",
      "source": [
        "req = requests.get(\"https://raw.githubusercontent.com/mannmoshe/text-recognition/main/torah_text.txt\")\n",
        "req.encoding = 'ISO-8859-8'\n",
        "torah_text = req.text"
      ],
      "metadata": {
        "id": "XqEe8yeI_1Ov"
      },
      "execution_count": 2,
      "outputs": []
    },
    {
      "cell_type": "code",
      "source": [
        "torah_words = torah_text.split()"
      ],
      "metadata": {
        "id": "3f8SrSIV_1sW"
      },
      "execution_count": 3,
      "outputs": []
    },
    {
      "cell_type": "code",
      "source": [
        "phrases = []\n",
        "for i in range(0, int(len(torah_words)), 3):\n",
        "  phrase = ' '.join(torah_words[i: i+3])\n",
        "  phrases.append(phrase)"
      ],
      "metadata": {
        "id": "I_hpqLriAHjV"
      },
      "execution_count": 8,
      "outputs": []
    },
    {
      "cell_type": "code",
      "source": [
        "phrases[:3]"
      ],
      "metadata": {
        "colab": {
          "base_uri": "https://localhost:8080/"
        },
        "id": "2phTo-GED1Iq",
        "outputId": "88c5ddaa-d2f8-459a-e504-026c68c6047f"
      },
      "execution_count": 13,
      "outputs": [
        {
          "output_type": "execute_result",
          "data": {
            "text/plain": [
              "['בראשית ברא אלהים', 'את השמים ואת', 'הארץ והארץ היתה']"
            ]
          },
          "metadata": {},
          "execution_count": 13
        }
      ]
    },
    {
      "cell_type": "code",
      "source": [
        "phrases[-3:]"
      ],
      "metadata": {
        "colab": {
          "base_uri": "https://localhost:8080/"
        },
        "id": "fH2dLEF6D3sZ",
        "outputId": "4550f672-aa17-4033-f7ee-30729a51d2f0"
      },
      "execution_count": 10,
      "outputs": [
        {
          "output_type": "execute_result",
          "data": {
            "text/plain": [
              "['ולכל המורא הגדול', 'אשר עשה משה', 'לעיני כל ישראל']"
            ]
          },
          "metadata": {},
          "execution_count": 10
        }
      ]
    },
    {
      "cell_type": "code",
      "source": [
        "len(phrases)"
      ],
      "metadata": {
        "colab": {
          "base_uri": "https://localhost:8080/"
        },
        "id": "-yW82-zKEFTh",
        "outputId": "107a5e1b-5c7d-4c3d-c4a0-da37b6695460"
      },
      "execution_count": 11,
      "outputs": [
        {
          "output_type": "execute_result",
          "data": {
            "text/plain": [
              "26637"
            ]
          },
          "metadata": {},
          "execution_count": 11
        }
      ]
    }
  ]
}