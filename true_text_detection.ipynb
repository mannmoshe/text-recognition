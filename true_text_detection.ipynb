{
  "nbformat": 4,
  "nbformat_minor": 0,
  "metadata": {
    "colab": {
      "provenance": [],
      "authorship_tag": "ABX9TyPTg/fX76LIBxjkQphdli9D",
      "include_colab_link": true
    },
    "kernelspec": {
      "name": "python3",
      "display_name": "Python 3"
    },
    "language_info": {
      "name": "python"
    }
  },
  "cells": [
    {
      "cell_type": "markdown",
      "metadata": {
        "id": "view-in-github",
        "colab_type": "text"
      },
      "source": [
        "<a href=\"https://colab.research.google.com/github/mannmoshe/text-recognition/blob/main/true_text_detection.ipynb\" target=\"_parent\"><img src=\"https://colab.research.google.com/assets/colab-badge.svg\" alt=\"Open In Colab\"/></a>"
      ]
    },
    {
      "cell_type": "code",
      "execution_count": 1,
      "metadata": {
        "id": "GVE3qnCz_nJn"
      },
      "outputs": [],
      "source": [
        "import requests\n",
        "import pandas as pd\n",
        "import random"
      ]
    },
    {
      "cell_type": "code",
      "source": [
        "req = requests.get(\"https://raw.githubusercontent.com/mannmoshe/text-recognition/main/torah_heb.txt\")\n",
        "req.encoding = 'ISO-8859-8'\n",
        "torah_text = req.text"
      ],
      "metadata": {
        "id": "XqEe8yeI_1Ov"
      },
      "execution_count": 2,
      "outputs": []
    },
    {
      "cell_type": "code",
      "source": [
        "torah_words = torah_text.split()"
      ],
      "metadata": {
        "id": "3f8SrSIV_1sW"
      },
      "execution_count": 3,
      "outputs": []
    },
    {
      "cell_type": "code",
      "source": [
        "phrases = {}\n",
        "for i in range(0, int(len(torah_words)), 3):\n",
        "  phrase = ''.join(torah_words[i: i+3])\n",
        "  phrases[phrase] = 1 # true text\n",
        "  phrase_letters_list = [l for l in phrase]\n",
        "  random.Random(4).shuffle(phrase_letters_list) \n",
        "  # Random(4) for same result every time, see https://stackoverflow.com/questions/19306976/python-shuffling-with-a-parameter-to-get-the-same-result\n",
        "  phrases[''.join(phrase_letters_list)] = 0 # random text"
      ],
      "metadata": {
        "id": "I_hpqLriAHjV"
      },
      "execution_count": 4,
      "outputs": []
    },
    {
      "cell_type": "code",
      "source": [
        "phrases_dataset = pd.DataFrame.from_dict(phrases, orient='index').reset_index()"
      ],
      "metadata": {
        "id": "OMpEvn0ZLRTR"
      },
      "execution_count": 5,
      "outputs": []
    },
    {
      "cell_type": "code",
      "source": [
        "phrases_dataset.columns = ['text', 'label']"
      ],
      "metadata": {
        "id": "TnJThY6UbggT"
      },
      "execution_count": 6,
      "outputs": []
    },
    {
      "cell_type": "code",
      "source": [
        "phrases_dataset.head(10)"
      ],
      "metadata": {
        "colab": {
          "base_uri": "https://localhost:8080/",
          "height": 363
        },
        "id": "4GuU29agLfOx",
        "outputId": "9de25c95-471e-4934-a120-54310253fced"
      },
      "execution_count": 7,
      "outputs": [
        {
          "output_type": "execute_result",
          "data": {
            "text/plain": [
              "             text  label\n",
              "0  בראשיתבראאלהים      1\n",
              "1  איתאםלבהארבריש      0\n",
              "2      אתהשמיםואת      1\n",
              "3      אהאוםתיתמש      0\n",
              "4   הארץוהארץהיתה      1\n",
              "5   תיץההההרראאוץ      0\n",
              "6     תהוובהווחשך      1\n",
              "7     והושתחךוהבו      0\n",
              "8       עלפניתהום      1\n",
              "9       לפהוםתעינ      0"
            ],
            "text/html": [
              "\n",
              "  <div id=\"df-96ee6389-378a-4c76-be66-ac07bf409dd1\">\n",
              "    <div class=\"colab-df-container\">\n",
              "      <div>\n",
              "<style scoped>\n",
              "    .dataframe tbody tr th:only-of-type {\n",
              "        vertical-align: middle;\n",
              "    }\n",
              "\n",
              "    .dataframe tbody tr th {\n",
              "        vertical-align: top;\n",
              "    }\n",
              "\n",
              "    .dataframe thead th {\n",
              "        text-align: right;\n",
              "    }\n",
              "</style>\n",
              "<table border=\"1\" class=\"dataframe\">\n",
              "  <thead>\n",
              "    <tr style=\"text-align: right;\">\n",
              "      <th></th>\n",
              "      <th>text</th>\n",
              "      <th>label</th>\n",
              "    </tr>\n",
              "  </thead>\n",
              "  <tbody>\n",
              "    <tr>\n",
              "      <th>0</th>\n",
              "      <td>בראשיתבראאלהים</td>\n",
              "      <td>1</td>\n",
              "    </tr>\n",
              "    <tr>\n",
              "      <th>1</th>\n",
              "      <td>איתאםלבהארבריש</td>\n",
              "      <td>0</td>\n",
              "    </tr>\n",
              "    <tr>\n",
              "      <th>2</th>\n",
              "      <td>אתהשמיםואת</td>\n",
              "      <td>1</td>\n",
              "    </tr>\n",
              "    <tr>\n",
              "      <th>3</th>\n",
              "      <td>אהאוםתיתמש</td>\n",
              "      <td>0</td>\n",
              "    </tr>\n",
              "    <tr>\n",
              "      <th>4</th>\n",
              "      <td>הארץוהארץהיתה</td>\n",
              "      <td>1</td>\n",
              "    </tr>\n",
              "    <tr>\n",
              "      <th>5</th>\n",
              "      <td>תיץההההרראאוץ</td>\n",
              "      <td>0</td>\n",
              "    </tr>\n",
              "    <tr>\n",
              "      <th>6</th>\n",
              "      <td>תהוובהווחשך</td>\n",
              "      <td>1</td>\n",
              "    </tr>\n",
              "    <tr>\n",
              "      <th>7</th>\n",
              "      <td>והושתחךוהבו</td>\n",
              "      <td>0</td>\n",
              "    </tr>\n",
              "    <tr>\n",
              "      <th>8</th>\n",
              "      <td>עלפניתהום</td>\n",
              "      <td>1</td>\n",
              "    </tr>\n",
              "    <tr>\n",
              "      <th>9</th>\n",
              "      <td>לפהוםתעינ</td>\n",
              "      <td>0</td>\n",
              "    </tr>\n",
              "  </tbody>\n",
              "</table>\n",
              "</div>\n",
              "      <button class=\"colab-df-convert\" onclick=\"convertToInteractive('df-96ee6389-378a-4c76-be66-ac07bf409dd1')\"\n",
              "              title=\"Convert this dataframe to an interactive table.\"\n",
              "              style=\"display:none;\">\n",
              "        \n",
              "  <svg xmlns=\"http://www.w3.org/2000/svg\" height=\"24px\"viewBox=\"0 0 24 24\"\n",
              "       width=\"24px\">\n",
              "    <path d=\"M0 0h24v24H0V0z\" fill=\"none\"/>\n",
              "    <path d=\"M18.56 5.44l.94 2.06.94-2.06 2.06-.94-2.06-.94-.94-2.06-.94 2.06-2.06.94zm-11 1L8.5 8.5l.94-2.06 2.06-.94-2.06-.94L8.5 2.5l-.94 2.06-2.06.94zm10 10l.94 2.06.94-2.06 2.06-.94-2.06-.94-.94-2.06-.94 2.06-2.06.94z\"/><path d=\"M17.41 7.96l-1.37-1.37c-.4-.4-.92-.59-1.43-.59-.52 0-1.04.2-1.43.59L10.3 9.45l-7.72 7.72c-.78.78-.78 2.05 0 2.83L4 21.41c.39.39.9.59 1.41.59.51 0 1.02-.2 1.41-.59l7.78-7.78 2.81-2.81c.8-.78.8-2.07 0-2.86zM5.41 20L4 18.59l7.72-7.72 1.47 1.35L5.41 20z\"/>\n",
              "  </svg>\n",
              "      </button>\n",
              "      \n",
              "  <style>\n",
              "    .colab-df-container {\n",
              "      display:flex;\n",
              "      flex-wrap:wrap;\n",
              "      gap: 12px;\n",
              "    }\n",
              "\n",
              "    .colab-df-convert {\n",
              "      background-color: #E8F0FE;\n",
              "      border: none;\n",
              "      border-radius: 50%;\n",
              "      cursor: pointer;\n",
              "      display: none;\n",
              "      fill: #1967D2;\n",
              "      height: 32px;\n",
              "      padding: 0 0 0 0;\n",
              "      width: 32px;\n",
              "    }\n",
              "\n",
              "    .colab-df-convert:hover {\n",
              "      background-color: #E2EBFA;\n",
              "      box-shadow: 0px 1px 2px rgba(60, 64, 67, 0.3), 0px 1px 3px 1px rgba(60, 64, 67, 0.15);\n",
              "      fill: #174EA6;\n",
              "    }\n",
              "\n",
              "    [theme=dark] .colab-df-convert {\n",
              "      background-color: #3B4455;\n",
              "      fill: #D2E3FC;\n",
              "    }\n",
              "\n",
              "    [theme=dark] .colab-df-convert:hover {\n",
              "      background-color: #434B5C;\n",
              "      box-shadow: 0px 1px 3px 1px rgba(0, 0, 0, 0.15);\n",
              "      filter: drop-shadow(0px 1px 2px rgba(0, 0, 0, 0.3));\n",
              "      fill: #FFFFFF;\n",
              "    }\n",
              "  </style>\n",
              "\n",
              "      <script>\n",
              "        const buttonEl =\n",
              "          document.querySelector('#df-96ee6389-378a-4c76-be66-ac07bf409dd1 button.colab-df-convert');\n",
              "        buttonEl.style.display =\n",
              "          google.colab.kernel.accessAllowed ? 'block' : 'none';\n",
              "\n",
              "        async function convertToInteractive(key) {\n",
              "          const element = document.querySelector('#df-96ee6389-378a-4c76-be66-ac07bf409dd1');\n",
              "          const dataTable =\n",
              "            await google.colab.kernel.invokeFunction('convertToInteractive',\n",
              "                                                     [key], {});\n",
              "          if (!dataTable) return;\n",
              "\n",
              "          const docLinkHtml = 'Like what you see? Visit the ' +\n",
              "            '<a target=\"_blank\" href=https://colab.research.google.com/notebooks/data_table.ipynb>data table notebook</a>'\n",
              "            + ' to learn more about interactive tables.';\n",
              "          element.innerHTML = '';\n",
              "          dataTable['output_type'] = 'display_data';\n",
              "          await google.colab.output.renderOutput(dataTable, element);\n",
              "          const docLink = document.createElement('div');\n",
              "          docLink.innerHTML = docLinkHtml;\n",
              "          element.appendChild(docLink);\n",
              "        }\n",
              "      </script>\n",
              "    </div>\n",
              "  </div>\n",
              "  "
            ]
          },
          "metadata": {},
          "execution_count": 7
        }
      ]
    },
    {
      "cell_type": "code",
      "source": [
        "X = phrases_dataset['text']\n",
        "y = phrases_dataset['label']"
      ],
      "metadata": {
        "id": "bxG47mYziPqO"
      },
      "execution_count": 8,
      "outputs": []
    },
    {
      "cell_type": "code",
      "source": [
        "from sklearn.model_selection import train_test_split\n",
        "x_train, x_test, y_train, y_test = train_test_split(X, y, test_size=0.33, random_state=4, stratify=y)"
      ],
      "metadata": {
        "id": "iUgjCLMhidyl"
      },
      "execution_count": 9,
      "outputs": []
    },
    {
      "cell_type": "code",
      "source": [
        "train_samples = x_train.tolist()\n",
        "test_samples = x_test.tolist()"
      ],
      "metadata": {
        "id": "LxWdvSAHiqUt"
      },
      "execution_count": 10,
      "outputs": []
    },
    {
      "cell_type": "code",
      "source": [
        "import numpy as np\n",
        "from keras.preprocessing.text import Tokenizer"
      ],
      "metadata": {
        "id": "Ah22EMcFi6cz"
      },
      "execution_count": 11,
      "outputs": []
    },
    {
      "cell_type": "code",
      "source": [
        "# We create a tokenizer, configured to only take\n",
        "# into account the top-10000 most common words\n",
        "tokenizer = Tokenizer(num_words=10000, char_level=True)\n",
        "# This builds the word index\n",
        "tokenizer.fit_on_texts(train_samples)\n",
        "\n",
        "# This turns strings into lists of integer indices.\n",
        "train_sequences = tokenizer.texts_to_sequences(train_samples)\n",
        "test_sequences = tokenizer.texts_to_sequences(test_samples)\n",
        "\n",
        "# You could also directly get the one-hot binary representations.\n",
        "# Note that other vectorization modes than one-hot encoding are supported!\n",
        "x_train = tokenizer.texts_to_matrix(train_samples, mode='binary')\n",
        "x_test = tokenizer.texts_to_matrix(test_samples, mode='binary')\n",
        "\n",
        "# This is how you can recover the word index that was computed\n",
        "word_index = tokenizer.word_index\n",
        "print('Found %s unique tokens.' % len(word_index))"
      ],
      "metadata": {
        "colab": {
          "base_uri": "https://localhost:8080/"
        },
        "id": "sgM6V13Ki9Wb",
        "outputId": "40f3ba8e-7de9-4b3e-ee1e-62cdf3ae4003"
      },
      "execution_count": 12,
      "outputs": [
        {
          "output_type": "stream",
          "name": "stdout",
          "text": [
            "Found 27 unique tokens.\n"
          ]
        }
      ]
    },
    {
      "cell_type": "code",
      "source": [
        "word_index"
      ],
      "metadata": {
        "colab": {
          "base_uri": "https://localhost:8080/"
        },
        "id": "id6z6nbOjViC",
        "outputId": "f4e8e19b-cbf1-4d80-c303-e1ba6277f0b6"
      },
      "execution_count": 13,
      "outputs": [
        {
          "output_type": "execute_result",
          "data": {
            "text/plain": [
              "{'י': 1,\n",
              " 'ו': 2,\n",
              " 'ה': 3,\n",
              " 'א': 4,\n",
              " 'ל': 5,\n",
              " 'ת': 6,\n",
              " 'ר': 7,\n",
              " 'ב': 8,\n",
              " 'ש': 9,\n",
              " 'מ': 10,\n",
              " 'ע': 11,\n",
              " 'ם': 12,\n",
              " 'נ': 13,\n",
              " 'כ': 14,\n",
              " 'ח': 15,\n",
              " 'ד': 16,\n",
              " 'ק': 17,\n",
              " 'ן': 18,\n",
              " 'פ': 19,\n",
              " 'ך': 20,\n",
              " 'צ': 21,\n",
              " 'ז': 22,\n",
              " 'ג': 23,\n",
              " 'ס': 24,\n",
              " 'ט': 25,\n",
              " 'ץ': 26,\n",
              " 'ף': 27}"
            ]
          },
          "metadata": {},
          "execution_count": 13
        }
      ]
    },
    {
      "cell_type": "code",
      "source": [
        "lens = [len(s) for s in train_sequences]\n",
        "lens[:20]"
      ],
      "metadata": {
        "colab": {
          "base_uri": "https://localhost:8080/"
        },
        "id": "95GZdRJ0jhfM",
        "outputId": "a1a2bd67-5437-42fd-bab3-ad2ebd3e0e67"
      },
      "execution_count": 14,
      "outputs": [
        {
          "output_type": "execute_result",
          "data": {
            "text/plain": [
              "[13, 9, 11, 9, 10, 11, 15, 13, 13, 14, 12, 10, 14, 14, 10, 13, 11, 8, 11, 10]"
            ]
          },
          "metadata": {},
          "execution_count": 14
        }
      ]
    },
    {
      "cell_type": "code",
      "source": [
        "sum(lens)/len(lens)"
      ],
      "metadata": {
        "colab": {
          "base_uri": "https://localhost:8080/"
        },
        "id": "lfieYLFqjug5",
        "outputId": "acf09304-07ae-4453-80ca-dbf8d882a810"
      },
      "execution_count": 15,
      "outputs": [
        {
          "output_type": "execute_result",
          "data": {
            "text/plain": [
              "11.49652566134341"
            ]
          },
          "metadata": {},
          "execution_count": 15
        }
      ]
    },
    {
      "cell_type": "code",
      "source": [
        "max_len = 12\n",
        "x_train_embedding = []\n",
        "\n",
        "for s in train_sequences:\n",
        "  if len(s) >= 12:\n",
        "    x_train_embedding.append(s[:12])\n",
        "  else:\n",
        "    x_train_embedding.append(s + [0]*(max_len-len(s)))\n",
        "\n",
        "x_train_embedding = np.array(x_train_embedding)"
      ],
      "metadata": {
        "id": "o_wjZIYRjynB"
      },
      "execution_count": 16,
      "outputs": []
    },
    {
      "cell_type": "code",
      "source": [
        "x_test_embedding = []\n",
        "\n",
        "for s in test_sequences:\n",
        "  if len(s) >= 12:\n",
        "    x_test_embedding.append(s[:12])\n",
        "  else:\n",
        "    x_test_embedding.append(s + [0]*(max_len-len(s)))\n",
        "\n",
        "x_test_embedding = np.array(x_test_embedding)"
      ],
      "metadata": {
        "id": "GqXDvvMes2_m"
      },
      "execution_count": 17,
      "outputs": []
    },
    {
      "cell_type": "code",
      "source": [
        "y_train = y_train.to_numpy()"
      ],
      "metadata": {
        "id": "p6yZ4fg3m8BR"
      },
      "execution_count": 18,
      "outputs": []
    },
    {
      "cell_type": "code",
      "source": [
        "y_train"
      ],
      "metadata": {
        "colab": {
          "base_uri": "https://localhost:8080/"
        },
        "id": "63LK1x3RnV2G",
        "outputId": "9ffc95cd-272d-4532-ba42-948441c3f7c8"
      },
      "execution_count": 19,
      "outputs": [
        {
          "output_type": "execute_result",
          "data": {
            "text/plain": [
              "array([0, 1, 0, ..., 0, 0, 0])"
            ]
          },
          "metadata": {},
          "execution_count": 19
        }
      ]
    },
    {
      "cell_type": "code",
      "source": [
        "x_train_embedding"
      ],
      "metadata": {
        "colab": {
          "base_uri": "https://localhost:8080/"
        },
        "id": "4Cn0mCWsnZVW",
        "outputId": "8661c2da-d47c-4476-89e1-29a241b4118f"
      },
      "execution_count": 20,
      "outputs": [
        {
          "output_type": "execute_result",
          "data": {
            "text/plain": [
              "array([[ 1,  9, 15, ...,  6,  1, 15],\n",
              "       [ 1,  3,  1, ...,  0,  0,  0],\n",
              "       [ 7,  3,  9, ...,  7,  9,  0],\n",
              "       ...,\n",
              "       [ 1,  8,  5, ..., 14,  0,  0],\n",
              "       [10,  1,  9, ..., 13,  8,  0],\n",
              "       [ 7,  3,  4, ..., 13,  0,  0]])"
            ]
          },
          "metadata": {},
          "execution_count": 20
        }
      ]
    },
    {
      "cell_type": "code",
      "source": [
        "from keras.models import Sequential\n",
        "from keras.layers import Embedding\n",
        "from keras.layers import SimpleRNN, Dense\n",
        "from keras.layers import LSTM\n",
        "from keras.layers import Dropout"
      ],
      "metadata": {
        "id": "e0JLl5UZkEYL"
      },
      "execution_count": 21,
      "outputs": []
    },
    {
      "cell_type": "code",
      "source": [
        "model = Sequential()\n",
        "model.add(Embedding(10000, 8, input_length=max_len))\n",
        "model.add(LSTM(64))\n",
        "model.compile(optimizer='rmsprop',\n",
        "              loss=\"binary_crossentropy\",\n",
        "              metrics=[\"accuracy\"])\n",
        "model.add(Dense(1, activation=\"sigmoid\"))\n",
        "model.summary()\n",
        "\n",
        "history = model.fit(x_train_embedding, \n",
        "                    y_train,\n",
        "                    epochs=50,\n",
        "                    batch_size=64,\n",
        "                    validation_split=0.33)"
      ],
      "metadata": {
        "colab": {
          "base_uri": "https://localhost:8080/"
        },
        "id": "DZOOQ_0YkSML",
        "outputId": "bec95a09-4f9a-4a16-c4fa-a72c5d96926c"
      },
      "execution_count": 22,
      "outputs": [
        {
          "output_type": "stream",
          "name": "stdout",
          "text": [
            "Model: \"sequential\"\n",
            "_________________________________________________________________\n",
            " Layer (type)                Output Shape              Param #   \n",
            "=================================================================\n",
            " embedding (Embedding)       (None, 12, 8)             80000     \n",
            "                                                                 \n",
            " lstm (LSTM)                 (None, 64)                18688     \n",
            "                                                                 \n",
            " dense (Dense)               (None, 1)                 65        \n",
            "                                                                 \n",
            "=================================================================\n",
            "Total params: 98,753\n",
            "Trainable params: 98,753\n",
            "Non-trainable params: 0\n",
            "_________________________________________________________________\n",
            "Epoch 1/50\n",
            "344/344 [==============================] - 8s 14ms/step - loss: 0.6560 - accuracy: 0.5867 - val_loss: 0.6279 - val_accuracy: 0.6361\n",
            "Epoch 2/50\n",
            "344/344 [==============================] - 4s 12ms/step - loss: 0.6192 - accuracy: 0.6433 - val_loss: 0.6321 - val_accuracy: 0.6445\n",
            "Epoch 3/50\n",
            "344/344 [==============================] - 4s 12ms/step - loss: 0.6108 - accuracy: 0.6564 - val_loss: 0.6201 - val_accuracy: 0.6492\n",
            "Epoch 4/50\n",
            "344/344 [==============================] - 4s 12ms/step - loss: 0.6021 - accuracy: 0.6701 - val_loss: 0.6032 - val_accuracy: 0.6684\n",
            "Epoch 5/50\n",
            "344/344 [==============================] - 4s 12ms/step - loss: 0.5977 - accuracy: 0.6749 - val_loss: 0.5993 - val_accuracy: 0.6698\n",
            "Epoch 6/50\n",
            "344/344 [==============================] - 4s 12ms/step - loss: 0.5916 - accuracy: 0.6790 - val_loss: 0.6032 - val_accuracy: 0.6694\n",
            "Epoch 7/50\n",
            "344/344 [==============================] - 4s 13ms/step - loss: 0.5883 - accuracy: 0.6806 - val_loss: 0.6026 - val_accuracy: 0.6637\n",
            "Epoch 8/50\n",
            "344/344 [==============================] - 4s 13ms/step - loss: 0.5849 - accuracy: 0.6831 - val_loss: 0.5958 - val_accuracy: 0.6711\n",
            "Epoch 9/50\n",
            "344/344 [==============================] - 4s 13ms/step - loss: 0.5805 - accuracy: 0.6843 - val_loss: 0.5893 - val_accuracy: 0.6757\n",
            "Epoch 10/50\n",
            "344/344 [==============================] - 4s 13ms/step - loss: 0.5712 - accuracy: 0.6946 - val_loss: 0.5917 - val_accuracy: 0.6667\n",
            "Epoch 11/50\n",
            "344/344 [==============================] - 4s 12ms/step - loss: 0.5588 - accuracy: 0.7063 - val_loss: 0.5872 - val_accuracy: 0.6794\n",
            "Epoch 12/50\n",
            "344/344 [==============================] - 4s 13ms/step - loss: 0.5417 - accuracy: 0.7208 - val_loss: 0.5393 - val_accuracy: 0.7243\n",
            "Epoch 13/50\n",
            "344/344 [==============================] - 4s 13ms/step - loss: 0.5289 - accuracy: 0.7303 - val_loss: 0.5303 - val_accuracy: 0.7313\n",
            "Epoch 14/50\n",
            "344/344 [==============================] - 4s 12ms/step - loss: 0.5181 - accuracy: 0.7313 - val_loss: 0.5241 - val_accuracy: 0.7349\n",
            "Epoch 15/50\n",
            "344/344 [==============================] - 4s 13ms/step - loss: 0.5081 - accuracy: 0.7435 - val_loss: 0.5206 - val_accuracy: 0.7302\n",
            "Epoch 16/50\n",
            "344/344 [==============================] - 5s 16ms/step - loss: 0.4957 - accuracy: 0.7527 - val_loss: 0.5516 - val_accuracy: 0.7298\n",
            "Epoch 17/50\n",
            "344/344 [==============================] - 5s 15ms/step - loss: 0.4858 - accuracy: 0.7598 - val_loss: 0.4974 - val_accuracy: 0.7504\n",
            "Epoch 18/50\n",
            "344/344 [==============================] - 4s 12ms/step - loss: 0.4773 - accuracy: 0.7663 - val_loss: 0.4818 - val_accuracy: 0.7595\n",
            "Epoch 19/50\n",
            "344/344 [==============================] - 4s 13ms/step - loss: 0.4687 - accuracy: 0.7690 - val_loss: 0.4744 - val_accuracy: 0.7636\n",
            "Epoch 20/50\n",
            "344/344 [==============================] - 5s 14ms/step - loss: 0.4618 - accuracy: 0.7752 - val_loss: 0.4676 - val_accuracy: 0.7685\n",
            "Epoch 21/50\n",
            "344/344 [==============================] - 5s 14ms/step - loss: 0.4543 - accuracy: 0.7801 - val_loss: 0.4638 - val_accuracy: 0.7760\n",
            "Epoch 22/50\n",
            "344/344 [==============================] - 4s 13ms/step - loss: 0.4484 - accuracy: 0.7847 - val_loss: 0.4621 - val_accuracy: 0.7749\n",
            "Epoch 23/50\n",
            "344/344 [==============================] - 4s 12ms/step - loss: 0.4416 - accuracy: 0.7895 - val_loss: 0.4625 - val_accuracy: 0.7739\n",
            "Epoch 24/50\n",
            "344/344 [==============================] - 4s 12ms/step - loss: 0.4359 - accuracy: 0.7917 - val_loss: 0.4425 - val_accuracy: 0.7857\n",
            "Epoch 25/50\n",
            "344/344 [==============================] - 4s 13ms/step - loss: 0.4284 - accuracy: 0.7962 - val_loss: 0.4392 - val_accuracy: 0.7905\n",
            "Epoch 26/50\n",
            "344/344 [==============================] - 4s 13ms/step - loss: 0.4204 - accuracy: 0.8012 - val_loss: 0.4434 - val_accuracy: 0.7880\n",
            "Epoch 27/50\n",
            "344/344 [==============================] - 4s 13ms/step - loss: 0.4146 - accuracy: 0.8037 - val_loss: 0.4322 - val_accuracy: 0.7965\n",
            "Epoch 28/50\n",
            "344/344 [==============================] - 4s 12ms/step - loss: 0.4074 - accuracy: 0.8089 - val_loss: 0.4184 - val_accuracy: 0.8031\n",
            "Epoch 29/50\n",
            "344/344 [==============================] - 4s 13ms/step - loss: 0.4000 - accuracy: 0.8127 - val_loss: 0.4176 - val_accuracy: 0.8052\n",
            "Epoch 30/50\n",
            "344/344 [==============================] - 4s 13ms/step - loss: 0.3927 - accuracy: 0.8196 - val_loss: 0.4097 - val_accuracy: 0.8107\n",
            "Epoch 31/50\n",
            "344/344 [==============================] - 4s 12ms/step - loss: 0.3863 - accuracy: 0.8213 - val_loss: 0.4089 - val_accuracy: 0.8098\n",
            "Epoch 32/50\n",
            "344/344 [==============================] - 4s 12ms/step - loss: 0.3783 - accuracy: 0.8286 - val_loss: 0.4067 - val_accuracy: 0.8109\n",
            "Epoch 33/50\n",
            "344/344 [==============================] - 4s 12ms/step - loss: 0.3721 - accuracy: 0.8329 - val_loss: 0.4014 - val_accuracy: 0.8124\n",
            "Epoch 34/50\n",
            "344/344 [==============================] - 4s 12ms/step - loss: 0.3639 - accuracy: 0.8353 - val_loss: 0.3879 - val_accuracy: 0.8219\n",
            "Epoch 35/50\n",
            "344/344 [==============================] - 4s 12ms/step - loss: 0.3560 - accuracy: 0.8407 - val_loss: 0.3848 - val_accuracy: 0.8222\n",
            "Epoch 36/50\n",
            "344/344 [==============================] - 4s 13ms/step - loss: 0.3486 - accuracy: 0.8443 - val_loss: 0.3770 - val_accuracy: 0.8275\n",
            "Epoch 37/50\n",
            "344/344 [==============================] - 4s 13ms/step - loss: 0.3410 - accuracy: 0.8473 - val_loss: 0.3968 - val_accuracy: 0.8193\n",
            "Epoch 38/50\n",
            "344/344 [==============================] - 4s 13ms/step - loss: 0.3343 - accuracy: 0.8517 - val_loss: 0.3672 - val_accuracy: 0.8344\n",
            "Epoch 39/50\n",
            "344/344 [==============================] - 4s 13ms/step - loss: 0.3254 - accuracy: 0.8590 - val_loss: 0.3711 - val_accuracy: 0.8308\n",
            "Epoch 40/50\n",
            "344/344 [==============================] - 4s 13ms/step - loss: 0.3181 - accuracy: 0.8586 - val_loss: 0.3716 - val_accuracy: 0.8325\n",
            "Epoch 41/50\n",
            "344/344 [==============================] - 5s 15ms/step - loss: 0.3108 - accuracy: 0.8657 - val_loss: 0.3655 - val_accuracy: 0.8381\n",
            "Epoch 42/50\n",
            "344/344 [==============================] - 4s 13ms/step - loss: 0.3040 - accuracy: 0.8663 - val_loss: 0.3641 - val_accuracy: 0.8372\n",
            "Epoch 43/50\n",
            "344/344 [==============================] - 4s 12ms/step - loss: 0.2974 - accuracy: 0.8718 - val_loss: 0.3620 - val_accuracy: 0.8397\n",
            "Epoch 44/50\n",
            "344/344 [==============================] - 4s 13ms/step - loss: 0.2906 - accuracy: 0.8754 - val_loss: 0.3532 - val_accuracy: 0.8432\n",
            "Epoch 45/50\n",
            "344/344 [==============================] - 4s 13ms/step - loss: 0.2827 - accuracy: 0.8765 - val_loss: 0.3713 - val_accuracy: 0.8427\n",
            "Epoch 46/50\n",
            "344/344 [==============================] - 4s 13ms/step - loss: 0.2782 - accuracy: 0.8805 - val_loss: 0.3551 - val_accuracy: 0.8490\n",
            "Epoch 47/50\n",
            "344/344 [==============================] - 4s 13ms/step - loss: 0.2717 - accuracy: 0.8830 - val_loss: 0.3427 - val_accuracy: 0.8495\n",
            "Epoch 48/50\n",
            "344/344 [==============================] - 4s 13ms/step - loss: 0.2649 - accuracy: 0.8882 - val_loss: 0.3451 - val_accuracy: 0.8542\n",
            "Epoch 49/50\n",
            "344/344 [==============================] - 4s 12ms/step - loss: 0.2579 - accuracy: 0.8891 - val_loss: 0.3395 - val_accuracy: 0.8565\n",
            "Epoch 50/50\n",
            "344/344 [==============================] - 4s 12ms/step - loss: 0.2504 - accuracy: 0.8942 - val_loss: 0.3620 - val_accuracy: 0.8511\n"
          ]
        }
      ]
    },
    {
      "cell_type": "code",
      "source": [
        "x_train[0]"
      ],
      "metadata": {
        "colab": {
          "base_uri": "https://localhost:8080/"
        },
        "id": "QkVzMVDgr-cC",
        "outputId": "370b30c9-e30d-40c8-df4d-f20d087f9c69"
      },
      "execution_count": 23,
      "outputs": [
        {
          "output_type": "execute_result",
          "data": {
            "text/plain": [
              "array([0., 1., 1., ..., 0., 0., 0.])"
            ]
          },
          "metadata": {},
          "execution_count": 23
        }
      ]
    },
    {
      "cell_type": "code",
      "source": [
        "predicted_labels = model.predict(x_test_embedding)"
      ],
      "metadata": {
        "colab": {
          "base_uri": "https://localhost:8080/"
        },
        "id": "8psKr2B8rNRg",
        "outputId": "972837e3-00e2-4883-d900-03622c2a8545"
      },
      "execution_count": 24,
      "outputs": [
        {
          "output_type": "stream",
          "name": "stdout",
          "text": [
            "506/506 [==============================] - 2s 3ms/step\n"
          ]
        }
      ]
    },
    {
      "cell_type": "code",
      "source": [
        "print(type(predicted_labels),type(y_test))"
      ],
      "metadata": {
        "colab": {
          "base_uri": "https://localhost:8080/"
        },
        "id": "_PGoiW9QtGtJ",
        "outputId": "304f5359-2098-430b-f4df-86a78d33cc3f"
      },
      "execution_count": 25,
      "outputs": [
        {
          "output_type": "stream",
          "name": "stdout",
          "text": [
            "<class 'numpy.ndarray'> <class 'pandas.core.series.Series'>\n"
          ]
        }
      ]
    },
    {
      "cell_type": "code",
      "source": [
        "predicted_labels"
      ],
      "metadata": {
        "colab": {
          "base_uri": "https://localhost:8080/"
        },
        "id": "p6HnrDDMuFCv",
        "outputId": "adf6b04e-eef6-4a48-abce-193c0b32d7c5"
      },
      "execution_count": 26,
      "outputs": [
        {
          "output_type": "execute_result",
          "data": {
            "text/plain": [
              "array([[0.9960794 ],\n",
              "       [0.21760963],\n",
              "       [0.99526215],\n",
              "       ...,\n",
              "       [0.9911014 ],\n",
              "       [0.00292157],\n",
              "       [0.99211717]], dtype=float32)"
            ]
          },
          "metadata": {},
          "execution_count": 26
        }
      ]
    },
    {
      "cell_type": "code",
      "source": [
        "my_list = map(lambda x: x[0], predicted_labels)\n",
        "predictions = pd.Series(my_list)"
      ],
      "metadata": {
        "id": "sFLsLYHst1Ui"
      },
      "execution_count": 27,
      "outputs": []
    },
    {
      "cell_type": "code",
      "source": [
        "pd.concat([predictions, y_test], axis=1).reset_index()"
      ],
      "metadata": {
        "colab": {
          "base_uri": "https://localhost:8080/",
          "height": 165
        },
        "id": "m_4BvwEbulVu",
        "outputId": "53de16a2-8bb2-4796-c081-d7a4eada3591"
      },
      "execution_count": 1,
      "outputs": [
        {
          "output_type": "error",
          "ename": "NameError",
          "evalue": "ignored",
          "traceback": [
            "\u001b[0;31m---------------------------------------------------------------------------\u001b[0m",
            "\u001b[0;31mNameError\u001b[0m                                 Traceback (most recent call last)",
            "\u001b[0;32m<ipython-input-1-e548895b388b>\u001b[0m in \u001b[0;36m<module>\u001b[0;34m\u001b[0m\n\u001b[0;32m----> 1\u001b[0;31m \u001b[0mpd\u001b[0m\u001b[0;34m.\u001b[0m\u001b[0mconcat\u001b[0m\u001b[0;34m(\u001b[0m\u001b[0;34m[\u001b[0m\u001b[0mpredictions\u001b[0m\u001b[0;34m,\u001b[0m \u001b[0my_test\u001b[0m\u001b[0;34m]\u001b[0m\u001b[0;34m,\u001b[0m \u001b[0maxis\u001b[0m\u001b[0;34m=\u001b[0m\u001b[0;36m1\u001b[0m\u001b[0;34m)\u001b[0m\u001b[0;34m.\u001b[0m\u001b[0mreset_index\u001b[0m\u001b[0;34m(\u001b[0m\u001b[0;34m)\u001b[0m\u001b[0;34m\u001b[0m\u001b[0;34m\u001b[0m\u001b[0m\n\u001b[0m",
            "\u001b[0;31mNameError\u001b[0m: name 'pd' is not defined"
          ]
        }
      ]
    }
  ]
}