{
  "nbformat": 4,
  "nbformat_minor": 0,
  "metadata": {
    "colab": {
      "provenance": [],
      "authorship_tag": "ABX9TyO0vds8FCv76E6JUq58PWgm",
      "include_colab_link": true
    },
    "kernelspec": {
      "name": "python3",
      "display_name": "Python 3"
    },
    "language_info": {
      "name": "python"
    }
  },
  "cells": [
    {
      "cell_type": "markdown",
      "metadata": {
        "id": "view-in-github",
        "colab_type": "text"
      },
      "source": [
        "<a href=\"https://colab.research.google.com/github/mannmoshe/text-recognition/blob/main/true_text_detection.ipynb\" target=\"_parent\"><img src=\"https://colab.research.google.com/assets/colab-badge.svg\" alt=\"Open In Colab\"/></a>"
      ]
    },
    {
      "cell_type": "code",
      "execution_count": 1,
      "metadata": {
        "id": "GVE3qnCz_nJn"
      },
      "outputs": [],
      "source": [
        "import requests\n",
        "import pandas as pd\n",
        "import random"
      ]
    },
    {
      "cell_type": "code",
      "source": [
        "req = requests.get(\"https://raw.githubusercontent.com/mannmoshe/text-recognition/main/torah_heb.txt\")\n",
        "req.encoding = 'ISO-8859-8'\n",
        "torah_text = req.text"
      ],
      "metadata": {
        "id": "XqEe8yeI_1Ov"
      },
      "execution_count": 2,
      "outputs": []
    },
    {
      "cell_type": "code",
      "source": [
        "torah_words = torah_text.split()"
      ],
      "metadata": {
        "id": "3f8SrSIV_1sW"
      },
      "execution_count": 3,
      "outputs": []
    },
    {
      "cell_type": "code",
      "source": [
        "phrases = {}\n",
        "for i in range(0, int(len(torah_words)), 3):\n",
        "  phrase = ''.join(torah_words[i: i+3])\n",
        "  phrases[phrase] = 1 # true text\n",
        "  phrase_letters_list = [l for l in phrase]\n",
        "  random.Random(4).shuffle(phrase_letters_list) \n",
        "  # Random(4) for same result every time, see https://stackoverflow.com/questions/19306976/python-shuffling-with-a-parameter-to-get-the-same-result\n",
        "  phrases[''.join(phrase_letters_list)] = 0 # random text"
      ],
      "metadata": {
        "id": "I_hpqLriAHjV"
      },
      "execution_count": 4,
      "outputs": []
    },
    {
      "cell_type": "code",
      "source": [
        "phrases_dataset = pd.DataFrame.from_dict(phrases, orient='index').reset_index()"
      ],
      "metadata": {
        "id": "OMpEvn0ZLRTR"
      },
      "execution_count": 5,
      "outputs": []
    },
    {
      "cell_type": "code",
      "source": [
        "phrases_dataset.columns = ['text', 'label']"
      ],
      "metadata": {
        "id": "TnJThY6UbggT"
      },
      "execution_count": 6,
      "outputs": []
    },
    {
      "cell_type": "code",
      "source": [
        "phrases_dataset.shape"
      ],
      "metadata": {
        "colab": {
          "base_uri": "https://localhost:8080/"
        },
        "id": "frVcaESAHGD_",
        "outputId": "8480780a-8e68-4f38-ebd9-a2648b8d4b25"
      },
      "execution_count": 27,
      "outputs": [
        {
          "output_type": "execute_result",
          "data": {
            "text/plain": [
              "(48974, 2)"
            ]
          },
          "metadata": {},
          "execution_count": 27
        }
      ]
    },
    {
      "cell_type": "code",
      "source": [
        "phrases_dataset.head(10)"
      ],
      "metadata": {
        "colab": {
          "base_uri": "https://localhost:8080/",
          "height": 363
        },
        "id": "4GuU29agLfOx",
        "outputId": "f94037cc-1412-41e8-89ef-11bf205c75aa"
      },
      "execution_count": 7,
      "outputs": [
        {
          "output_type": "execute_result",
          "data": {
            "text/plain": [
              "             text  label\n",
              "0  בראשיתבראאלהים      1\n",
              "1  איתאםלבהארבריש      0\n",
              "2      אתהשמיםואת      1\n",
              "3      אהאוםתיתמש      0\n",
              "4   הארץוהארץהיתה      1\n",
              "5   תיץההההרראאוץ      0\n",
              "6     תהוובהווחשך      1\n",
              "7     והושתחךוהבו      0\n",
              "8       עלפניתהום      1\n",
              "9       לפהוםתעינ      0"
            ],
            "text/html": [
              "\n",
              "  <div id=\"df-a94ba246-0aaf-4bd8-b67c-9445017d4175\">\n",
              "    <div class=\"colab-df-container\">\n",
              "      <div>\n",
              "<style scoped>\n",
              "    .dataframe tbody tr th:only-of-type {\n",
              "        vertical-align: middle;\n",
              "    }\n",
              "\n",
              "    .dataframe tbody tr th {\n",
              "        vertical-align: top;\n",
              "    }\n",
              "\n",
              "    .dataframe thead th {\n",
              "        text-align: right;\n",
              "    }\n",
              "</style>\n",
              "<table border=\"1\" class=\"dataframe\">\n",
              "  <thead>\n",
              "    <tr style=\"text-align: right;\">\n",
              "      <th></th>\n",
              "      <th>text</th>\n",
              "      <th>label</th>\n",
              "    </tr>\n",
              "  </thead>\n",
              "  <tbody>\n",
              "    <tr>\n",
              "      <th>0</th>\n",
              "      <td>בראשיתבראאלהים</td>\n",
              "      <td>1</td>\n",
              "    </tr>\n",
              "    <tr>\n",
              "      <th>1</th>\n",
              "      <td>איתאםלבהארבריש</td>\n",
              "      <td>0</td>\n",
              "    </tr>\n",
              "    <tr>\n",
              "      <th>2</th>\n",
              "      <td>אתהשמיםואת</td>\n",
              "      <td>1</td>\n",
              "    </tr>\n",
              "    <tr>\n",
              "      <th>3</th>\n",
              "      <td>אהאוםתיתמש</td>\n",
              "      <td>0</td>\n",
              "    </tr>\n",
              "    <tr>\n",
              "      <th>4</th>\n",
              "      <td>הארץוהארץהיתה</td>\n",
              "      <td>1</td>\n",
              "    </tr>\n",
              "    <tr>\n",
              "      <th>5</th>\n",
              "      <td>תיץההההרראאוץ</td>\n",
              "      <td>0</td>\n",
              "    </tr>\n",
              "    <tr>\n",
              "      <th>6</th>\n",
              "      <td>תהוובהווחשך</td>\n",
              "      <td>1</td>\n",
              "    </tr>\n",
              "    <tr>\n",
              "      <th>7</th>\n",
              "      <td>והושתחךוהבו</td>\n",
              "      <td>0</td>\n",
              "    </tr>\n",
              "    <tr>\n",
              "      <th>8</th>\n",
              "      <td>עלפניתהום</td>\n",
              "      <td>1</td>\n",
              "    </tr>\n",
              "    <tr>\n",
              "      <th>9</th>\n",
              "      <td>לפהוםתעינ</td>\n",
              "      <td>0</td>\n",
              "    </tr>\n",
              "  </tbody>\n",
              "</table>\n",
              "</div>\n",
              "      <button class=\"colab-df-convert\" onclick=\"convertToInteractive('df-a94ba246-0aaf-4bd8-b67c-9445017d4175')\"\n",
              "              title=\"Convert this dataframe to an interactive table.\"\n",
              "              style=\"display:none;\">\n",
              "        \n",
              "  <svg xmlns=\"http://www.w3.org/2000/svg\" height=\"24px\"viewBox=\"0 0 24 24\"\n",
              "       width=\"24px\">\n",
              "    <path d=\"M0 0h24v24H0V0z\" fill=\"none\"/>\n",
              "    <path d=\"M18.56 5.44l.94 2.06.94-2.06 2.06-.94-2.06-.94-.94-2.06-.94 2.06-2.06.94zm-11 1L8.5 8.5l.94-2.06 2.06-.94-2.06-.94L8.5 2.5l-.94 2.06-2.06.94zm10 10l.94 2.06.94-2.06 2.06-.94-2.06-.94-.94-2.06-.94 2.06-2.06.94z\"/><path d=\"M17.41 7.96l-1.37-1.37c-.4-.4-.92-.59-1.43-.59-.52 0-1.04.2-1.43.59L10.3 9.45l-7.72 7.72c-.78.78-.78 2.05 0 2.83L4 21.41c.39.39.9.59 1.41.59.51 0 1.02-.2 1.41-.59l7.78-7.78 2.81-2.81c.8-.78.8-2.07 0-2.86zM5.41 20L4 18.59l7.72-7.72 1.47 1.35L5.41 20z\"/>\n",
              "  </svg>\n",
              "      </button>\n",
              "      \n",
              "  <style>\n",
              "    .colab-df-container {\n",
              "      display:flex;\n",
              "      flex-wrap:wrap;\n",
              "      gap: 12px;\n",
              "    }\n",
              "\n",
              "    .colab-df-convert {\n",
              "      background-color: #E8F0FE;\n",
              "      border: none;\n",
              "      border-radius: 50%;\n",
              "      cursor: pointer;\n",
              "      display: none;\n",
              "      fill: #1967D2;\n",
              "      height: 32px;\n",
              "      padding: 0 0 0 0;\n",
              "      width: 32px;\n",
              "    }\n",
              "\n",
              "    .colab-df-convert:hover {\n",
              "      background-color: #E2EBFA;\n",
              "      box-shadow: 0px 1px 2px rgba(60, 64, 67, 0.3), 0px 1px 3px 1px rgba(60, 64, 67, 0.15);\n",
              "      fill: #174EA6;\n",
              "    }\n",
              "\n",
              "    [theme=dark] .colab-df-convert {\n",
              "      background-color: #3B4455;\n",
              "      fill: #D2E3FC;\n",
              "    }\n",
              "\n",
              "    [theme=dark] .colab-df-convert:hover {\n",
              "      background-color: #434B5C;\n",
              "      box-shadow: 0px 1px 3px 1px rgba(0, 0, 0, 0.15);\n",
              "      filter: drop-shadow(0px 1px 2px rgba(0, 0, 0, 0.3));\n",
              "      fill: #FFFFFF;\n",
              "    }\n",
              "  </style>\n",
              "\n",
              "      <script>\n",
              "        const buttonEl =\n",
              "          document.querySelector('#df-a94ba246-0aaf-4bd8-b67c-9445017d4175 button.colab-df-convert');\n",
              "        buttonEl.style.display =\n",
              "          google.colab.kernel.accessAllowed ? 'block' : 'none';\n",
              "\n",
              "        async function convertToInteractive(key) {\n",
              "          const element = document.querySelector('#df-a94ba246-0aaf-4bd8-b67c-9445017d4175');\n",
              "          const dataTable =\n",
              "            await google.colab.kernel.invokeFunction('convertToInteractive',\n",
              "                                                     [key], {});\n",
              "          if (!dataTable) return;\n",
              "\n",
              "          const docLinkHtml = 'Like what you see? Visit the ' +\n",
              "            '<a target=\"_blank\" href=https://colab.research.google.com/notebooks/data_table.ipynb>data table notebook</a>'\n",
              "            + ' to learn more about interactive tables.';\n",
              "          element.innerHTML = '';\n",
              "          dataTable['output_type'] = 'display_data';\n",
              "          await google.colab.output.renderOutput(dataTable, element);\n",
              "          const docLink = document.createElement('div');\n",
              "          docLink.innerHTML = docLinkHtml;\n",
              "          element.appendChild(docLink);\n",
              "        }\n",
              "      </script>\n",
              "    </div>\n",
              "  </div>\n",
              "  "
            ]
          },
          "metadata": {},
          "execution_count": 7
        }
      ]
    },
    {
      "cell_type": "code",
      "source": [
        "X = phrases_dataset['text']\n",
        "y = phrases_dataset['label']"
      ],
      "metadata": {
        "id": "bxG47mYziPqO"
      },
      "execution_count": 8,
      "outputs": []
    },
    {
      "cell_type": "code",
      "source": [
        "from sklearn.model_selection import train_test_split\n",
        "x_train, x_test, y_train, y_test = train_test_split(X, y, test_size=0.33, random_state=4, stratify=y)"
      ],
      "metadata": {
        "id": "iUgjCLMhidyl"
      },
      "execution_count": 9,
      "outputs": []
    },
    {
      "cell_type": "code",
      "source": [
        "len(x_train)"
      ],
      "metadata": {
        "colab": {
          "base_uri": "https://localhost:8080/"
        },
        "id": "_Lf65r7vHAWo",
        "outputId": "04ee8cde-37b6-4f17-f32f-bc900ad080be"
      },
      "execution_count": 26,
      "outputs": [
        {
          "output_type": "execute_result",
          "data": {
            "text/plain": [
              "32812"
            ]
          },
          "metadata": {},
          "execution_count": 26
        }
      ]
    },
    {
      "cell_type": "code",
      "source": [
        "len(x_test)"
      ],
      "metadata": {
        "colab": {
          "base_uri": "https://localhost:8080/"
        },
        "id": "GrbcbT36HIfu",
        "outputId": "55d4c27e-6113-4eb6-a540-bfca68965c44"
      },
      "execution_count": 28,
      "outputs": [
        {
          "output_type": "execute_result",
          "data": {
            "text/plain": [
              "16162"
            ]
          },
          "metadata": {},
          "execution_count": 28
        }
      ]
    },
    {
      "cell_type": "code",
      "source": [
        "len(x_train) + len(x_test)"
      ],
      "metadata": {
        "colab": {
          "base_uri": "https://localhost:8080/"
        },
        "id": "RkBJqFLfHLu-",
        "outputId": "45ade351-5f38-4370-d998-1439a01d9f46"
      },
      "execution_count": 29,
      "outputs": [
        {
          "output_type": "execute_result",
          "data": {
            "text/plain": [
              "48974"
            ]
          },
          "metadata": {},
          "execution_count": 29
        }
      ]
    },
    {
      "cell_type": "code",
      "source": [
        "train_samples = x_train.tolist()\n",
        "test_samples = x_test.tolist()"
      ],
      "metadata": {
        "id": "LxWdvSAHiqUt"
      },
      "execution_count": 10,
      "outputs": []
    },
    {
      "cell_type": "code",
      "source": [
        "import numpy as np\n",
        "from keras.preprocessing.text import Tokenizer"
      ],
      "metadata": {
        "id": "Ah22EMcFi6cz"
      },
      "execution_count": 11,
      "outputs": []
    },
    {
      "cell_type": "code",
      "source": [
        "# We create a tokenizer, configured to only take\n",
        "# into account the top-10000 most common words\n",
        "#tokenizer = Tokenizer(num_words=10000, char_level=True) # char_level = True --> token by letters\n",
        "tokenizer = Tokenizer(char_level=True) # char_level = True --> token by letters\n",
        "# This builds the word index\n",
        "tokenizer.fit_on_texts(train_samples)\n",
        "\n",
        "# This turns strings into lists of integer indices.\n",
        "train_sequences = tokenizer.texts_to_sequences(train_samples)\n",
        "test_sequences = tokenizer.texts_to_sequences(test_samples)\n",
        "\n",
        "# You could also directly get the one-hot binary representations.\n",
        "# Note that other vectorization modes than one-hot encoding are supported!\n",
        "x_train = tokenizer.texts_to_matrix(train_samples, mode='binary')\n",
        "x_test = tokenizer.texts_to_matrix(test_samples, mode='binary')\n",
        "\n",
        "# This is how you can recover the word index that was computed\n",
        "word_index = tokenizer.word_index\n",
        "print('Found %s unique tokens.' % len(word_index))"
      ],
      "metadata": {
        "colab": {
          "base_uri": "https://localhost:8080/"
        },
        "id": "sgM6V13Ki9Wb",
        "outputId": "bcac8ffe-d1de-47b8-ecb9-959f31d926b9"
      },
      "execution_count": 17,
      "outputs": [
        {
          "output_type": "stream",
          "name": "stdout",
          "text": [
            "Found 27 unique tokens.\n"
          ]
        }
      ]
    },
    {
      "cell_type": "code",
      "source": [
        "x_train"
      ],
      "metadata": {
        "colab": {
          "base_uri": "https://localhost:8080/"
        },
        "id": "HVNsNwgcFh52",
        "outputId": "69b81502-3c36-49f9-f36a-4b012589262b"
      },
      "execution_count": 18,
      "outputs": [
        {
          "output_type": "execute_result",
          "data": {
            "text/plain": [
              "array([[0., 1., 1., ..., 0., 0., 0.],\n",
              "       [0., 1., 1., ..., 0., 0., 0.],\n",
              "       [0., 1., 0., ..., 0., 0., 0.],\n",
              "       ...,\n",
              "       [0., 1., 0., ..., 0., 0., 0.],\n",
              "       [0., 1., 0., ..., 0., 0., 0.],\n",
              "       [0., 1., 0., ..., 0., 0., 0.]])"
            ]
          },
          "metadata": {},
          "execution_count": 18
        }
      ]
    },
    {
      "cell_type": "code",
      "source": [
        "x_train.shape"
      ],
      "metadata": {
        "colab": {
          "base_uri": "https://localhost:8080/"
        },
        "id": "XUuG4sPEG0WG",
        "outputId": "35139ad7-c468-4906-e606-74f5f6a752ff"
      },
      "execution_count": 25,
      "outputs": [
        {
          "output_type": "execute_result",
          "data": {
            "text/plain": [
              "(32812, 28)"
            ]
          },
          "metadata": {},
          "execution_count": 25
        }
      ]
    },
    {
      "cell_type": "code",
      "source": [
        "len(x_train[0])"
      ],
      "metadata": {
        "colab": {
          "base_uri": "https://localhost:8080/"
        },
        "id": "hYiBNBGUFzFw",
        "outputId": "f8e4adf6-4683-486f-e952-998e4efe180b"
      },
      "execution_count": 19,
      "outputs": [
        {
          "output_type": "execute_result",
          "data": {
            "text/plain": [
              "28"
            ]
          },
          "metadata": {},
          "execution_count": 19
        }
      ]
    },
    {
      "cell_type": "code",
      "source": [
        "train_samples[0]"
      ],
      "metadata": {
        "colab": {
          "base_uri": "https://localhost:8080/",
          "height": 35
        },
        "id": "k9XWg6yDGiIA",
        "outputId": "af8e713d-531b-4a71-c411-d76678e5e4e3"
      },
      "execution_count": 22,
      "outputs": [
        {
          "output_type": "execute_result",
          "data": {
            "text/plain": [
              "'ישחםתמאשותיחמ'"
            ],
            "application/vnd.google.colaboratory.intrinsic+json": {
              "type": "string"
            }
          },
          "metadata": {},
          "execution_count": 22
        }
      ]
    },
    {
      "cell_type": "code",
      "source": [
        "x_train[0]"
      ],
      "metadata": {
        "colab": {
          "base_uri": "https://localhost:8080/"
        },
        "id": "CB-LmKdxGfVw",
        "outputId": "10ffafad-4f75-4d86-9b48-aa2879c07141"
      },
      "execution_count": 21,
      "outputs": [
        {
          "output_type": "execute_result",
          "data": {
            "text/plain": [
              "array([0., 1., 1., 0., 1., 0., 1., 0., 0., 1., 1., 0., 1., 0., 0., 1., 0.,\n",
              "       0., 0., 0., 0., 0., 0., 0., 0., 0., 0., 0.])"
            ]
          },
          "metadata": {},
          "execution_count": 21
        }
      ]
    },
    {
      "cell_type": "code",
      "source": [
        "sum(x_train[0])"
      ],
      "metadata": {
        "colab": {
          "base_uri": "https://localhost:8080/"
        },
        "id": "oBh3TWm2F-YT",
        "outputId": "b4aea140-94b1-4894-f26a-76aea42db523"
      },
      "execution_count": 20,
      "outputs": [
        {
          "output_type": "execute_result",
          "data": {
            "text/plain": [
              "8.0"
            ]
          },
          "metadata": {},
          "execution_count": 20
        }
      ]
    },
    {
      "cell_type": "code",
      "source": [
        "word_index"
      ],
      "metadata": {
        "colab": {
          "base_uri": "https://localhost:8080/"
        },
        "id": "id6z6nbOjViC",
        "outputId": "50ec6847-b3e3-4ffc-e0be-991feaa8114b"
      },
      "execution_count": null,
      "outputs": [
        {
          "output_type": "execute_result",
          "data": {
            "text/plain": [
              "{'י': 1,\n",
              " 'ו': 2,\n",
              " 'ה': 3,\n",
              " 'א': 4,\n",
              " 'ל': 5,\n",
              " 'ת': 6,\n",
              " 'ר': 7,\n",
              " 'ב': 8,\n",
              " 'ש': 9,\n",
              " 'מ': 10,\n",
              " 'ע': 11,\n",
              " 'ם': 12,\n",
              " 'נ': 13,\n",
              " 'כ': 14,\n",
              " 'ח': 15,\n",
              " 'ד': 16,\n",
              " 'ק': 17,\n",
              " 'ן': 18,\n",
              " 'פ': 19,\n",
              " 'ך': 20,\n",
              " 'צ': 21,\n",
              " 'ז': 22,\n",
              " 'ג': 23,\n",
              " 'ס': 24,\n",
              " 'ט': 25,\n",
              " 'ץ': 26,\n",
              " 'ף': 27}"
            ]
          },
          "metadata": {},
          "execution_count": 13
        }
      ]
    },
    {
      "cell_type": "code",
      "source": [
        "lens = [len(s) for s in train_sequences]\n",
        "lens[:20]"
      ],
      "metadata": {
        "colab": {
          "base_uri": "https://localhost:8080/"
        },
        "id": "95GZdRJ0jhfM",
        "outputId": "8ef492f4-dbf1-4ea4-9c3a-18c4a9930919"
      },
      "execution_count": null,
      "outputs": [
        {
          "output_type": "execute_result",
          "data": {
            "text/plain": [
              "[13, 9, 11, 9, 10, 11, 15, 13, 13, 14, 12, 10, 14, 14, 10, 13, 11, 8, 11, 10]"
            ]
          },
          "metadata": {},
          "execution_count": 14
        }
      ]
    },
    {
      "cell_type": "code",
      "source": [
        "sum(lens)/len(lens)"
      ],
      "metadata": {
        "colab": {
          "base_uri": "https://localhost:8080/"
        },
        "id": "lfieYLFqjug5",
        "outputId": "18ce178b-4835-4263-8758-7e33718c3074"
      },
      "execution_count": null,
      "outputs": [
        {
          "output_type": "execute_result",
          "data": {
            "text/plain": [
              "11.49652566134341"
            ]
          },
          "metadata": {},
          "execution_count": 15
        }
      ]
    },
    {
      "cell_type": "code",
      "source": [
        "train_sequences[:10]"
      ],
      "metadata": {
        "id": "VMbCO50XHlFW",
        "outputId": "b3e8f394-3c48-4726-d495-dd56ac2d8aa8",
        "colab": {
          "base_uri": "https://localhost:8080/"
        }
      },
      "execution_count": 31,
      "outputs": [
        {
          "output_type": "execute_result",
          "data": {
            "text/plain": [
              "[[1, 9, 15, 12, 6, 10, 4, 9, 2, 6, 1, 15, 10],\n",
              " [1, 3, 1, 3, 8, 2, 10, 2, 12],\n",
              " [7, 3, 9, 1, 22, 17, 12, 10, 14, 7, 9],\n",
              " [12, 14, 5, 2, 3, 6, 4, 27, 24],\n",
              " [17, 8, 7, 2, 4, 6, 4, 8, 1, 2],\n",
              " [8, 10, 24, 19, 7, 9, 10, 6, 10, 8, 18],\n",
              " [6, 9, 10, 11, 2, 18, 4, 6, 3, 10, 9, 19, 25, 1, 12],\n",
              " [4, 7, 3, 2, 15, 2, 10, 7, 17, 2, 4, 7, 26],\n",
              " [9, 5, 1, 7, 20, 14, 4, 1, 19, 2, 8, 5, 10],\n",
              " [3, 8, 10, 10, 2, 2, 8, 9, 4, 15, 5, 7, 12, 6]]"
            ]
          },
          "metadata": {},
          "execution_count": 31
        }
      ]
    },
    {
      "cell_type": "code",
      "source": [
        "max_len = 12\n",
        "x_train_embedding = []\n",
        "\n",
        "for s in train_sequences:\n",
        "  if len(s) >= 12:\n",
        "    x_train_embedding.append(s[:12])\n",
        "  else:\n",
        "    x_train_embedding.append(s + [0]*(max_len-len(s)))\n",
        "\n",
        "x_train_embedding = np.array(x_train_embedding)"
      ],
      "metadata": {
        "id": "o_wjZIYRjynB"
      },
      "execution_count": null,
      "outputs": []
    },
    {
      "cell_type": "code",
      "source": [
        "x_test_embedding = []\n",
        "\n",
        "for s in test_sequences:\n",
        "  if len(s) >= 12:\n",
        "    x_test_embedding.append(s[:12])\n",
        "  else:\n",
        "    x_test_embedding.append(s + [0]*(max_len-len(s)))\n",
        "\n",
        "x_test_embedding = np.array(x_test_embedding)"
      ],
      "metadata": {
        "id": "GqXDvvMes2_m"
      },
      "execution_count": null,
      "outputs": []
    },
    {
      "cell_type": "code",
      "source": [
        "y_train = y_train.to_numpy()"
      ],
      "metadata": {
        "id": "p6yZ4fg3m8BR"
      },
      "execution_count": null,
      "outputs": []
    },
    {
      "cell_type": "code",
      "source": [
        "y_train"
      ],
      "metadata": {
        "colab": {
          "base_uri": "https://localhost:8080/"
        },
        "id": "63LK1x3RnV2G",
        "outputId": "4b0cc886-97fa-44f1-a93d-e8ab40bdac00"
      },
      "execution_count": null,
      "outputs": [
        {
          "output_type": "execute_result",
          "data": {
            "text/plain": [
              "array([0, 1, 0, ..., 0, 0, 0])"
            ]
          },
          "metadata": {},
          "execution_count": 19
        }
      ]
    },
    {
      "cell_type": "code",
      "source": [
        "x_train_embedding"
      ],
      "metadata": {
        "colab": {
          "base_uri": "https://localhost:8080/"
        },
        "id": "4Cn0mCWsnZVW",
        "outputId": "0ed69734-9aa3-4143-9ed6-6d5d40f2dbca"
      },
      "execution_count": null,
      "outputs": [
        {
          "output_type": "execute_result",
          "data": {
            "text/plain": [
              "array([[ 1,  9, 15, ...,  6,  1, 15],\n",
              "       [ 1,  3,  1, ...,  0,  0,  0],\n",
              "       [ 7,  3,  9, ...,  7,  9,  0],\n",
              "       ...,\n",
              "       [ 1,  8,  5, ..., 14,  0,  0],\n",
              "       [10,  1,  9, ..., 13,  8,  0],\n",
              "       [ 7,  3,  4, ..., 13,  0,  0]])"
            ]
          },
          "metadata": {},
          "execution_count": 20
        }
      ]
    },
    {
      "cell_type": "code",
      "source": [
        "from keras.models import Sequential\n",
        "from keras.layers import Embedding\n",
        "from keras.layers import SimpleRNN, Dense\n",
        "from keras.layers import LSTM\n",
        "from keras.layers import Dropout"
      ],
      "metadata": {
        "id": "e0JLl5UZkEYL"
      },
      "execution_count": null,
      "outputs": []
    },
    {
      "cell_type": "code",
      "source": [
        "model = Sequential()\n",
        "model.add(Embedding(10000, 8, input_length=max_len))\n",
        "model.add(LSTM(64))\n",
        "model.compile(optimizer='rmsprop',\n",
        "              loss=\"binary_crossentropy\",\n",
        "              metrics=[\"accuracy\"])\n",
        "model.add(Dense(1, activation=\"sigmoid\"))\n",
        "model.summary()\n",
        "\n",
        "history = model.fit(x_train_embedding, \n",
        "                    y_train,\n",
        "                    epochs=50,\n",
        "                    batch_size=64,\n",
        "                    validation_split=0.33)"
      ],
      "metadata": {
        "colab": {
          "base_uri": "https://localhost:8080/"
        },
        "id": "DZOOQ_0YkSML",
        "outputId": "3038d064-07b0-4fbf-9087-e21167a70add"
      },
      "execution_count": null,
      "outputs": [
        {
          "output_type": "stream",
          "name": "stdout",
          "text": [
            "Model: \"sequential\"\n",
            "_________________________________________________________________\n",
            " Layer (type)                Output Shape              Param #   \n",
            "=================================================================\n",
            " embedding (Embedding)       (None, 12, 8)             80000     \n",
            "                                                                 \n",
            " lstm (LSTM)                 (None, 64)                18688     \n",
            "                                                                 \n",
            " dense (Dense)               (None, 1)                 65        \n",
            "                                                                 \n",
            "=================================================================\n",
            "Total params: 98,753\n",
            "Trainable params: 98,753\n",
            "Non-trainable params: 0\n",
            "_________________________________________________________________\n",
            "Epoch 1/50\n",
            "344/344 [==============================] - 8s 12ms/step - loss: 0.6502 - accuracy: 0.5952 - val_loss: 0.6259 - val_accuracy: 0.6374\n",
            "Epoch 2/50\n",
            "344/344 [==============================] - 4s 11ms/step - loss: 0.6201 - accuracy: 0.6438 - val_loss: 0.6721 - val_accuracy: 0.6323\n",
            "Epoch 3/50\n",
            "344/344 [==============================] - 4s 10ms/step - loss: 0.6122 - accuracy: 0.6557 - val_loss: 0.6144 - val_accuracy: 0.6550\n",
            "Epoch 4/50\n",
            "344/344 [==============================] - 4s 11ms/step - loss: 0.6068 - accuracy: 0.6638 - val_loss: 0.6131 - val_accuracy: 0.6568\n",
            "Epoch 5/50\n",
            "344/344 [==============================] - 4s 10ms/step - loss: 0.5991 - accuracy: 0.6728 - val_loss: 0.6163 - val_accuracy: 0.6511\n",
            "Epoch 6/50\n",
            "344/344 [==============================] - 3s 10ms/step - loss: 0.5933 - accuracy: 0.6769 - val_loss: 0.6031 - val_accuracy: 0.6660\n",
            "Epoch 7/50\n",
            "344/344 [==============================] - 4s 10ms/step - loss: 0.5890 - accuracy: 0.6811 - val_loss: 0.5997 - val_accuracy: 0.6723\n",
            "Epoch 8/50\n",
            "344/344 [==============================] - 4s 10ms/step - loss: 0.5834 - accuracy: 0.6869 - val_loss: 0.5995 - val_accuracy: 0.6574\n",
            "Epoch 9/50\n",
            "344/344 [==============================] - 4s 10ms/step - loss: 0.5770 - accuracy: 0.6916 - val_loss: 0.5856 - val_accuracy: 0.6860\n",
            "Epoch 10/50\n",
            "344/344 [==============================] - 4s 10ms/step - loss: 0.5647 - accuracy: 0.7030 - val_loss: 0.5712 - val_accuracy: 0.6977\n",
            "Epoch 11/50\n",
            "344/344 [==============================] - 4s 11ms/step - loss: 0.5540 - accuracy: 0.7113 - val_loss: 0.5539 - val_accuracy: 0.7095\n",
            "Epoch 12/50\n",
            "344/344 [==============================] - 4s 10ms/step - loss: 0.5406 - accuracy: 0.7199 - val_loss: 0.5391 - val_accuracy: 0.7178\n",
            "Epoch 13/50\n",
            "344/344 [==============================] - 4s 10ms/step - loss: 0.5275 - accuracy: 0.7319 - val_loss: 0.5263 - val_accuracy: 0.7325\n",
            "Epoch 14/50\n",
            "344/344 [==============================] - 4s 10ms/step - loss: 0.5157 - accuracy: 0.7360 - val_loss: 0.5134 - val_accuracy: 0.7400\n",
            "Epoch 15/50\n",
            "344/344 [==============================] - 4s 10ms/step - loss: 0.5069 - accuracy: 0.7446 - val_loss: 0.5046 - val_accuracy: 0.7438\n",
            "Epoch 16/50\n",
            "344/344 [==============================] - 4s 11ms/step - loss: 0.4985 - accuracy: 0.7486 - val_loss: 0.5086 - val_accuracy: 0.7420\n",
            "Epoch 17/50\n",
            "344/344 [==============================] - 4s 11ms/step - loss: 0.4898 - accuracy: 0.7566 - val_loss: 0.4904 - val_accuracy: 0.7543\n",
            "Epoch 18/50\n",
            "344/344 [==============================] - 4s 10ms/step - loss: 0.4818 - accuracy: 0.7623 - val_loss: 0.5048 - val_accuracy: 0.7536\n",
            "Epoch 19/50\n",
            "344/344 [==============================] - 4s 10ms/step - loss: 0.4743 - accuracy: 0.7682 - val_loss: 0.4831 - val_accuracy: 0.7583\n",
            "Epoch 20/50\n",
            "344/344 [==============================] - 4s 11ms/step - loss: 0.4676 - accuracy: 0.7705 - val_loss: 0.4848 - val_accuracy: 0.7615\n",
            "Epoch 21/50\n",
            "344/344 [==============================] - 3s 10ms/step - loss: 0.4598 - accuracy: 0.7745 - val_loss: 0.4838 - val_accuracy: 0.7606\n",
            "Epoch 22/50\n",
            "344/344 [==============================] - 4s 10ms/step - loss: 0.4525 - accuracy: 0.7787 - val_loss: 0.4628 - val_accuracy: 0.7737\n",
            "Epoch 23/50\n",
            "344/344 [==============================] - 4s 10ms/step - loss: 0.4457 - accuracy: 0.7841 - val_loss: 0.4578 - val_accuracy: 0.7806\n",
            "Epoch 24/50\n",
            "344/344 [==============================] - 4s 10ms/step - loss: 0.4396 - accuracy: 0.7883 - val_loss: 0.4446 - val_accuracy: 0.7827\n",
            "Epoch 25/50\n",
            "344/344 [==============================] - 4s 10ms/step - loss: 0.4330 - accuracy: 0.7909 - val_loss: 0.4455 - val_accuracy: 0.7846\n",
            "Epoch 26/50\n",
            "344/344 [==============================] - 4s 10ms/step - loss: 0.4252 - accuracy: 0.8004 - val_loss: 0.4322 - val_accuracy: 0.7947\n",
            "Epoch 27/50\n",
            "344/344 [==============================] - 4s 12ms/step - loss: 0.4186 - accuracy: 0.8025 - val_loss: 0.4338 - val_accuracy: 0.7931\n",
            "Epoch 28/50\n",
            "344/344 [==============================] - 4s 10ms/step - loss: 0.4111 - accuracy: 0.8090 - val_loss: 0.4217 - val_accuracy: 0.8003\n",
            "Epoch 29/50\n",
            "344/344 [==============================] - 4s 10ms/step - loss: 0.4045 - accuracy: 0.8120 - val_loss: 0.4216 - val_accuracy: 0.7988\n",
            "Epoch 30/50\n",
            "344/344 [==============================] - 4s 10ms/step - loss: 0.3960 - accuracy: 0.8148 - val_loss: 0.4261 - val_accuracy: 0.7968\n",
            "Epoch 31/50\n",
            "344/344 [==============================] - 4s 10ms/step - loss: 0.3883 - accuracy: 0.8219 - val_loss: 0.4106 - val_accuracy: 0.8081\n",
            "Epoch 32/50\n",
            "344/344 [==============================] - 4s 10ms/step - loss: 0.3821 - accuracy: 0.8246 - val_loss: 0.4232 - val_accuracy: 0.8066\n",
            "Epoch 33/50\n",
            "344/344 [==============================] - 4s 10ms/step - loss: 0.3738 - accuracy: 0.8298 - val_loss: 0.3989 - val_accuracy: 0.8170\n",
            "Epoch 34/50\n",
            "344/344 [==============================] - 4s 11ms/step - loss: 0.3654 - accuracy: 0.8331 - val_loss: 0.3981 - val_accuracy: 0.8179\n",
            "Epoch 35/50\n",
            "344/344 [==============================] - 4s 11ms/step - loss: 0.3578 - accuracy: 0.8360 - val_loss: 0.3862 - val_accuracy: 0.8246\n",
            "Epoch 36/50\n",
            "344/344 [==============================] - 4s 11ms/step - loss: 0.3506 - accuracy: 0.8416 - val_loss: 0.3794 - val_accuracy: 0.8291\n",
            "Epoch 37/50\n",
            "344/344 [==============================] - 4s 10ms/step - loss: 0.3420 - accuracy: 0.8467 - val_loss: 0.3796 - val_accuracy: 0.8265\n",
            "Epoch 38/50\n",
            "344/344 [==============================] - 4s 10ms/step - loss: 0.3358 - accuracy: 0.8495 - val_loss: 0.3714 - val_accuracy: 0.8341\n",
            "Epoch 39/50\n",
            "344/344 [==============================] - 4s 11ms/step - loss: 0.3278 - accuracy: 0.8533 - val_loss: 0.3654 - val_accuracy: 0.8372\n",
            "Epoch 40/50\n",
            "344/344 [==============================] - 4s 11ms/step - loss: 0.3210 - accuracy: 0.8584 - val_loss: 0.3723 - val_accuracy: 0.8312\n",
            "Epoch 41/50\n",
            "344/344 [==============================] - 4s 11ms/step - loss: 0.3150 - accuracy: 0.8597 - val_loss: 0.3661 - val_accuracy: 0.8367\n",
            "Epoch 42/50\n",
            "344/344 [==============================] - 4s 11ms/step - loss: 0.3076 - accuracy: 0.8642 - val_loss: 0.3493 - val_accuracy: 0.8475\n",
            "Epoch 43/50\n",
            "344/344 [==============================] - 4s 11ms/step - loss: 0.3001 - accuracy: 0.8674 - val_loss: 0.3514 - val_accuracy: 0.8490\n",
            "Epoch 44/50\n",
            "344/344 [==============================] - 4s 10ms/step - loss: 0.2927 - accuracy: 0.8712 - val_loss: 0.3435 - val_accuracy: 0.8497\n",
            "Epoch 45/50\n",
            "344/344 [==============================] - 4s 11ms/step - loss: 0.2875 - accuracy: 0.8749 - val_loss: 0.3623 - val_accuracy: 0.8397\n",
            "Epoch 46/50\n",
            "344/344 [==============================] - 4s 11ms/step - loss: 0.2808 - accuracy: 0.8770 - val_loss: 0.3430 - val_accuracy: 0.8499\n",
            "Epoch 47/50\n",
            "344/344 [==============================] - 4s 11ms/step - loss: 0.2751 - accuracy: 0.8797 - val_loss: 0.3416 - val_accuracy: 0.8521\n",
            "Epoch 48/50\n",
            "344/344 [==============================] - 4s 11ms/step - loss: 0.2665 - accuracy: 0.8837 - val_loss: 0.3409 - val_accuracy: 0.8569\n",
            "Epoch 49/50\n",
            "344/344 [==============================] - 4s 11ms/step - loss: 0.2611 - accuracy: 0.8874 - val_loss: 0.3290 - val_accuracy: 0.8582\n",
            "Epoch 50/50\n",
            "344/344 [==============================] - 4s 11ms/step - loss: 0.2550 - accuracy: 0.8915 - val_loss: 0.3479 - val_accuracy: 0.8473\n"
          ]
        }
      ]
    },
    {
      "cell_type": "code",
      "source": [
        "x_train[0]"
      ],
      "metadata": {
        "colab": {
          "base_uri": "https://localhost:8080/"
        },
        "id": "QkVzMVDgr-cC",
        "outputId": "61de413d-e548-493f-b230-277212f8f22c"
      },
      "execution_count": null,
      "outputs": [
        {
          "output_type": "execute_result",
          "data": {
            "text/plain": [
              "array([0., 1., 1., ..., 0., 0., 0.])"
            ]
          },
          "metadata": {},
          "execution_count": 23
        }
      ]
    },
    {
      "cell_type": "code",
      "source": [
        "predicted_labels = model.predict(x_test_embedding)"
      ],
      "metadata": {
        "colab": {
          "base_uri": "https://localhost:8080/"
        },
        "id": "8psKr2B8rNRg",
        "outputId": "86e90e25-d362-4e88-ead0-415a2b6c4655"
      },
      "execution_count": null,
      "outputs": [
        {
          "output_type": "stream",
          "name": "stdout",
          "text": [
            "506/506 [==============================] - 2s 3ms/step\n"
          ]
        }
      ]
    },
    {
      "cell_type": "code",
      "source": [
        "print(type(predicted_labels),type(y_test))"
      ],
      "metadata": {
        "colab": {
          "base_uri": "https://localhost:8080/"
        },
        "id": "_PGoiW9QtGtJ",
        "outputId": "c29a8abe-16ea-48f5-b353-02d6cc2da9f8"
      },
      "execution_count": null,
      "outputs": [
        {
          "output_type": "stream",
          "name": "stdout",
          "text": [
            "<class 'numpy.ndarray'> <class 'pandas.core.series.Series'>\n"
          ]
        }
      ]
    },
    {
      "cell_type": "code",
      "source": [
        "predicted_labels"
      ],
      "metadata": {
        "colab": {
          "base_uri": "https://localhost:8080/"
        },
        "id": "p6HnrDDMuFCv",
        "outputId": "84607f8b-4f0c-46c2-8c61-e82df225517a"
      },
      "execution_count": null,
      "outputs": [
        {
          "output_type": "execute_result",
          "data": {
            "text/plain": [
              "array([[0.99338895],\n",
              "       [0.98412657],\n",
              "       [0.98997134],\n",
              "       ...,\n",
              "       [0.9927102 ],\n",
              "       [0.0019497 ],\n",
              "       [0.98397607]], dtype=float32)"
            ]
          },
          "metadata": {},
          "execution_count": 26
        }
      ]
    },
    {
      "cell_type": "code",
      "source": [
        "my_list = map(lambda x: x[0], predicted_labels)\n",
        "predictions = pd.Series(my_list)"
      ],
      "metadata": {
        "id": "sFLsLYHst1Ui"
      },
      "execution_count": null,
      "outputs": []
    },
    {
      "cell_type": "code",
      "source": [
        "len(predictions)"
      ],
      "metadata": {
        "id": "_B9a2FwxU2tO",
        "outputId": "3845801a-cfa4-400c-e08c-b601d48eba06",
        "colab": {
          "base_uri": "https://localhost:8080/"
        }
      },
      "execution_count": null,
      "outputs": [
        {
          "output_type": "execute_result",
          "data": {
            "text/plain": [
              "16162"
            ]
          },
          "metadata": {},
          "execution_count": 29
        }
      ]
    },
    {
      "cell_type": "code",
      "source": [
        "len(y_test)"
      ],
      "metadata": {
        "id": "nhBdWS5tU5s7",
        "outputId": "4deec2d6-03ba-40a5-cc38-e09553d9c123",
        "colab": {
          "base_uri": "https://localhost:8080/"
        }
      },
      "execution_count": null,
      "outputs": [
        {
          "output_type": "execute_result",
          "data": {
            "text/plain": [
              "16162"
            ]
          },
          "metadata": {},
          "execution_count": 30
        }
      ]
    },
    {
      "cell_type": "code",
      "source": [
        "predictions"
      ],
      "metadata": {
        "id": "aY3XRUqSU9ab",
        "outputId": "ad78d86d-a44f-4d13-b682-a546b351dec7",
        "colab": {
          "base_uri": "https://localhost:8080/"
        }
      },
      "execution_count": null,
      "outputs": [
        {
          "output_type": "execute_result",
          "data": {
            "text/plain": [
              "0        0.993389\n",
              "1        0.984127\n",
              "2        0.989971\n",
              "3        0.994392\n",
              "4        0.832334\n",
              "           ...   \n",
              "16157    0.468051\n",
              "16158    0.022049\n",
              "16159    0.992710\n",
              "16160    0.001950\n",
              "16161    0.983976\n",
              "Length: 16162, dtype: float32"
            ]
          },
          "metadata": {},
          "execution_count": 31
        }
      ]
    },
    {
      "cell_type": "code",
      "source": [
        "y_test_ri = y_test.reset_index() "
      ],
      "metadata": {
        "id": "C3uqheINVCxx"
      },
      "execution_count": null,
      "outputs": []
    },
    {
      "cell_type": "code",
      "source": [
        "y_test_ri"
      ],
      "metadata": {
        "id": "YEBMUXSnVMx5",
        "outputId": "f1cdf662-aaa3-4cdb-f462-c2f775820dd4",
        "colab": {
          "base_uri": "https://localhost:8080/",
          "height": 424
        }
      },
      "execution_count": null,
      "outputs": [
        {
          "output_type": "execute_result",
          "data": {
            "text/plain": [
              "       index  label\n",
              "0      15542      1\n",
              "1      14953      0\n",
              "2      20832      1\n",
              "3      20498      1\n",
              "4       1782      1\n",
              "...      ...    ...\n",
              "16157  26075      0\n",
              "16158  27721      0\n",
              "16159  36666      1\n",
              "16160  41767      0\n",
              "16161  12782      1\n",
              "\n",
              "[16162 rows x 2 columns]"
            ],
            "text/html": [
              "\n",
              "  <div id=\"df-fbe657f2-7cf3-4fbf-aa32-8510d64da507\">\n",
              "    <div class=\"colab-df-container\">\n",
              "      <div>\n",
              "<style scoped>\n",
              "    .dataframe tbody tr th:only-of-type {\n",
              "        vertical-align: middle;\n",
              "    }\n",
              "\n",
              "    .dataframe tbody tr th {\n",
              "        vertical-align: top;\n",
              "    }\n",
              "\n",
              "    .dataframe thead th {\n",
              "        text-align: right;\n",
              "    }\n",
              "</style>\n",
              "<table border=\"1\" class=\"dataframe\">\n",
              "  <thead>\n",
              "    <tr style=\"text-align: right;\">\n",
              "      <th></th>\n",
              "      <th>index</th>\n",
              "      <th>label</th>\n",
              "    </tr>\n",
              "  </thead>\n",
              "  <tbody>\n",
              "    <tr>\n",
              "      <th>0</th>\n",
              "      <td>15542</td>\n",
              "      <td>1</td>\n",
              "    </tr>\n",
              "    <tr>\n",
              "      <th>1</th>\n",
              "      <td>14953</td>\n",
              "      <td>0</td>\n",
              "    </tr>\n",
              "    <tr>\n",
              "      <th>2</th>\n",
              "      <td>20832</td>\n",
              "      <td>1</td>\n",
              "    </tr>\n",
              "    <tr>\n",
              "      <th>3</th>\n",
              "      <td>20498</td>\n",
              "      <td>1</td>\n",
              "    </tr>\n",
              "    <tr>\n",
              "      <th>4</th>\n",
              "      <td>1782</td>\n",
              "      <td>1</td>\n",
              "    </tr>\n",
              "    <tr>\n",
              "      <th>...</th>\n",
              "      <td>...</td>\n",
              "      <td>...</td>\n",
              "    </tr>\n",
              "    <tr>\n",
              "      <th>16157</th>\n",
              "      <td>26075</td>\n",
              "      <td>0</td>\n",
              "    </tr>\n",
              "    <tr>\n",
              "      <th>16158</th>\n",
              "      <td>27721</td>\n",
              "      <td>0</td>\n",
              "    </tr>\n",
              "    <tr>\n",
              "      <th>16159</th>\n",
              "      <td>36666</td>\n",
              "      <td>1</td>\n",
              "    </tr>\n",
              "    <tr>\n",
              "      <th>16160</th>\n",
              "      <td>41767</td>\n",
              "      <td>0</td>\n",
              "    </tr>\n",
              "    <tr>\n",
              "      <th>16161</th>\n",
              "      <td>12782</td>\n",
              "      <td>1</td>\n",
              "    </tr>\n",
              "  </tbody>\n",
              "</table>\n",
              "<p>16162 rows × 2 columns</p>\n",
              "</div>\n",
              "      <button class=\"colab-df-convert\" onclick=\"convertToInteractive('df-fbe657f2-7cf3-4fbf-aa32-8510d64da507')\"\n",
              "              title=\"Convert this dataframe to an interactive table.\"\n",
              "              style=\"display:none;\">\n",
              "        \n",
              "  <svg xmlns=\"http://www.w3.org/2000/svg\" height=\"24px\"viewBox=\"0 0 24 24\"\n",
              "       width=\"24px\">\n",
              "    <path d=\"M0 0h24v24H0V0z\" fill=\"none\"/>\n",
              "    <path d=\"M18.56 5.44l.94 2.06.94-2.06 2.06-.94-2.06-.94-.94-2.06-.94 2.06-2.06.94zm-11 1L8.5 8.5l.94-2.06 2.06-.94-2.06-.94L8.5 2.5l-.94 2.06-2.06.94zm10 10l.94 2.06.94-2.06 2.06-.94-2.06-.94-.94-2.06-.94 2.06-2.06.94z\"/><path d=\"M17.41 7.96l-1.37-1.37c-.4-.4-.92-.59-1.43-.59-.52 0-1.04.2-1.43.59L10.3 9.45l-7.72 7.72c-.78.78-.78 2.05 0 2.83L4 21.41c.39.39.9.59 1.41.59.51 0 1.02-.2 1.41-.59l7.78-7.78 2.81-2.81c.8-.78.8-2.07 0-2.86zM5.41 20L4 18.59l7.72-7.72 1.47 1.35L5.41 20z\"/>\n",
              "  </svg>\n",
              "      </button>\n",
              "      \n",
              "  <style>\n",
              "    .colab-df-container {\n",
              "      display:flex;\n",
              "      flex-wrap:wrap;\n",
              "      gap: 12px;\n",
              "    }\n",
              "\n",
              "    .colab-df-convert {\n",
              "      background-color: #E8F0FE;\n",
              "      border: none;\n",
              "      border-radius: 50%;\n",
              "      cursor: pointer;\n",
              "      display: none;\n",
              "      fill: #1967D2;\n",
              "      height: 32px;\n",
              "      padding: 0 0 0 0;\n",
              "      width: 32px;\n",
              "    }\n",
              "\n",
              "    .colab-df-convert:hover {\n",
              "      background-color: #E2EBFA;\n",
              "      box-shadow: 0px 1px 2px rgba(60, 64, 67, 0.3), 0px 1px 3px 1px rgba(60, 64, 67, 0.15);\n",
              "      fill: #174EA6;\n",
              "    }\n",
              "\n",
              "    [theme=dark] .colab-df-convert {\n",
              "      background-color: #3B4455;\n",
              "      fill: #D2E3FC;\n",
              "    }\n",
              "\n",
              "    [theme=dark] .colab-df-convert:hover {\n",
              "      background-color: #434B5C;\n",
              "      box-shadow: 0px 1px 3px 1px rgba(0, 0, 0, 0.15);\n",
              "      filter: drop-shadow(0px 1px 2px rgba(0, 0, 0, 0.3));\n",
              "      fill: #FFFFFF;\n",
              "    }\n",
              "  </style>\n",
              "\n",
              "      <script>\n",
              "        const buttonEl =\n",
              "          document.querySelector('#df-fbe657f2-7cf3-4fbf-aa32-8510d64da507 button.colab-df-convert');\n",
              "        buttonEl.style.display =\n",
              "          google.colab.kernel.accessAllowed ? 'block' : 'none';\n",
              "\n",
              "        async function convertToInteractive(key) {\n",
              "          const element = document.querySelector('#df-fbe657f2-7cf3-4fbf-aa32-8510d64da507');\n",
              "          const dataTable =\n",
              "            await google.colab.kernel.invokeFunction('convertToInteractive',\n",
              "                                                     [key], {});\n",
              "          if (!dataTable) return;\n",
              "\n",
              "          const docLinkHtml = 'Like what you see? Visit the ' +\n",
              "            '<a target=\"_blank\" href=https://colab.research.google.com/notebooks/data_table.ipynb>data table notebook</a>'\n",
              "            + ' to learn more about interactive tables.';\n",
              "          element.innerHTML = '';\n",
              "          dataTable['output_type'] = 'display_data';\n",
              "          await google.colab.output.renderOutput(dataTable, element);\n",
              "          const docLink = document.createElement('div');\n",
              "          docLink.innerHTML = docLinkHtml;\n",
              "          element.appendChild(docLink);\n",
              "        }\n",
              "      </script>\n",
              "    </div>\n",
              "  </div>\n",
              "  "
            ]
          },
          "metadata": {},
          "execution_count": 34
        }
      ]
    },
    {
      "cell_type": "code",
      "source": [
        "pd.concat([predictions, y_test_ri], axis=1)"
      ],
      "metadata": {
        "colab": {
          "base_uri": "https://localhost:8080/",
          "height": 424
        },
        "id": "m_4BvwEbulVu",
        "outputId": "d9a436af-e2ed-4a3d-f8e5-71749b3d6c62"
      },
      "execution_count": null,
      "outputs": [
        {
          "output_type": "execute_result",
          "data": {
            "text/plain": [
              "              0  index  label\n",
              "0      0.993389  15542      1\n",
              "1      0.984127  14953      0\n",
              "2      0.989971  20832      1\n",
              "3      0.994392  20498      1\n",
              "4      0.832334   1782      1\n",
              "...         ...    ...    ...\n",
              "16157  0.468051  26075      0\n",
              "16158  0.022049  27721      0\n",
              "16159  0.992710  36666      1\n",
              "16160  0.001950  41767      0\n",
              "16161  0.983976  12782      1\n",
              "\n",
              "[16162 rows x 3 columns]"
            ],
            "text/html": [
              "\n",
              "  <div id=\"df-e1da9fa1-d8a3-4636-85a6-e1a48d706f6d\">\n",
              "    <div class=\"colab-df-container\">\n",
              "      <div>\n",
              "<style scoped>\n",
              "    .dataframe tbody tr th:only-of-type {\n",
              "        vertical-align: middle;\n",
              "    }\n",
              "\n",
              "    .dataframe tbody tr th {\n",
              "        vertical-align: top;\n",
              "    }\n",
              "\n",
              "    .dataframe thead th {\n",
              "        text-align: right;\n",
              "    }\n",
              "</style>\n",
              "<table border=\"1\" class=\"dataframe\">\n",
              "  <thead>\n",
              "    <tr style=\"text-align: right;\">\n",
              "      <th></th>\n",
              "      <th>0</th>\n",
              "      <th>index</th>\n",
              "      <th>label</th>\n",
              "    </tr>\n",
              "  </thead>\n",
              "  <tbody>\n",
              "    <tr>\n",
              "      <th>0</th>\n",
              "      <td>0.993389</td>\n",
              "      <td>15542</td>\n",
              "      <td>1</td>\n",
              "    </tr>\n",
              "    <tr>\n",
              "      <th>1</th>\n",
              "      <td>0.984127</td>\n",
              "      <td>14953</td>\n",
              "      <td>0</td>\n",
              "    </tr>\n",
              "    <tr>\n",
              "      <th>2</th>\n",
              "      <td>0.989971</td>\n",
              "      <td>20832</td>\n",
              "      <td>1</td>\n",
              "    </tr>\n",
              "    <tr>\n",
              "      <th>3</th>\n",
              "      <td>0.994392</td>\n",
              "      <td>20498</td>\n",
              "      <td>1</td>\n",
              "    </tr>\n",
              "    <tr>\n",
              "      <th>4</th>\n",
              "      <td>0.832334</td>\n",
              "      <td>1782</td>\n",
              "      <td>1</td>\n",
              "    </tr>\n",
              "    <tr>\n",
              "      <th>...</th>\n",
              "      <td>...</td>\n",
              "      <td>...</td>\n",
              "      <td>...</td>\n",
              "    </tr>\n",
              "    <tr>\n",
              "      <th>16157</th>\n",
              "      <td>0.468051</td>\n",
              "      <td>26075</td>\n",
              "      <td>0</td>\n",
              "    </tr>\n",
              "    <tr>\n",
              "      <th>16158</th>\n",
              "      <td>0.022049</td>\n",
              "      <td>27721</td>\n",
              "      <td>0</td>\n",
              "    </tr>\n",
              "    <tr>\n",
              "      <th>16159</th>\n",
              "      <td>0.992710</td>\n",
              "      <td>36666</td>\n",
              "      <td>1</td>\n",
              "    </tr>\n",
              "    <tr>\n",
              "      <th>16160</th>\n",
              "      <td>0.001950</td>\n",
              "      <td>41767</td>\n",
              "      <td>0</td>\n",
              "    </tr>\n",
              "    <tr>\n",
              "      <th>16161</th>\n",
              "      <td>0.983976</td>\n",
              "      <td>12782</td>\n",
              "      <td>1</td>\n",
              "    </tr>\n",
              "  </tbody>\n",
              "</table>\n",
              "<p>16162 rows × 3 columns</p>\n",
              "</div>\n",
              "      <button class=\"colab-df-convert\" onclick=\"convertToInteractive('df-e1da9fa1-d8a3-4636-85a6-e1a48d706f6d')\"\n",
              "              title=\"Convert this dataframe to an interactive table.\"\n",
              "              style=\"display:none;\">\n",
              "        \n",
              "  <svg xmlns=\"http://www.w3.org/2000/svg\" height=\"24px\"viewBox=\"0 0 24 24\"\n",
              "       width=\"24px\">\n",
              "    <path d=\"M0 0h24v24H0V0z\" fill=\"none\"/>\n",
              "    <path d=\"M18.56 5.44l.94 2.06.94-2.06 2.06-.94-2.06-.94-.94-2.06-.94 2.06-2.06.94zm-11 1L8.5 8.5l.94-2.06 2.06-.94-2.06-.94L8.5 2.5l-.94 2.06-2.06.94zm10 10l.94 2.06.94-2.06 2.06-.94-2.06-.94-.94-2.06-.94 2.06-2.06.94z\"/><path d=\"M17.41 7.96l-1.37-1.37c-.4-.4-.92-.59-1.43-.59-.52 0-1.04.2-1.43.59L10.3 9.45l-7.72 7.72c-.78.78-.78 2.05 0 2.83L4 21.41c.39.39.9.59 1.41.59.51 0 1.02-.2 1.41-.59l7.78-7.78 2.81-2.81c.8-.78.8-2.07 0-2.86zM5.41 20L4 18.59l7.72-7.72 1.47 1.35L5.41 20z\"/>\n",
              "  </svg>\n",
              "      </button>\n",
              "      \n",
              "  <style>\n",
              "    .colab-df-container {\n",
              "      display:flex;\n",
              "      flex-wrap:wrap;\n",
              "      gap: 12px;\n",
              "    }\n",
              "\n",
              "    .colab-df-convert {\n",
              "      background-color: #E8F0FE;\n",
              "      border: none;\n",
              "      border-radius: 50%;\n",
              "      cursor: pointer;\n",
              "      display: none;\n",
              "      fill: #1967D2;\n",
              "      height: 32px;\n",
              "      padding: 0 0 0 0;\n",
              "      width: 32px;\n",
              "    }\n",
              "\n",
              "    .colab-df-convert:hover {\n",
              "      background-color: #E2EBFA;\n",
              "      box-shadow: 0px 1px 2px rgba(60, 64, 67, 0.3), 0px 1px 3px 1px rgba(60, 64, 67, 0.15);\n",
              "      fill: #174EA6;\n",
              "    }\n",
              "\n",
              "    [theme=dark] .colab-df-convert {\n",
              "      background-color: #3B4455;\n",
              "      fill: #D2E3FC;\n",
              "    }\n",
              "\n",
              "    [theme=dark] .colab-df-convert:hover {\n",
              "      background-color: #434B5C;\n",
              "      box-shadow: 0px 1px 3px 1px rgba(0, 0, 0, 0.15);\n",
              "      filter: drop-shadow(0px 1px 2px rgba(0, 0, 0, 0.3));\n",
              "      fill: #FFFFFF;\n",
              "    }\n",
              "  </style>\n",
              "\n",
              "      <script>\n",
              "        const buttonEl =\n",
              "          document.querySelector('#df-e1da9fa1-d8a3-4636-85a6-e1a48d706f6d button.colab-df-convert');\n",
              "        buttonEl.style.display =\n",
              "          google.colab.kernel.accessAllowed ? 'block' : 'none';\n",
              "\n",
              "        async function convertToInteractive(key) {\n",
              "          const element = document.querySelector('#df-e1da9fa1-d8a3-4636-85a6-e1a48d706f6d');\n",
              "          const dataTable =\n",
              "            await google.colab.kernel.invokeFunction('convertToInteractive',\n",
              "                                                     [key], {});\n",
              "          if (!dataTable) return;\n",
              "\n",
              "          const docLinkHtml = 'Like what you see? Visit the ' +\n",
              "            '<a target=\"_blank\" href=https://colab.research.google.com/notebooks/data_table.ipynb>data table notebook</a>'\n",
              "            + ' to learn more about interactive tables.';\n",
              "          element.innerHTML = '';\n",
              "          dataTable['output_type'] = 'display_data';\n",
              "          await google.colab.output.renderOutput(dataTable, element);\n",
              "          const docLink = document.createElement('div');\n",
              "          docLink.innerHTML = docLinkHtml;\n",
              "          element.appendChild(docLink);\n",
              "        }\n",
              "      </script>\n",
              "    </div>\n",
              "  </div>\n",
              "  "
            ]
          },
          "metadata": {},
          "execution_count": 36
        }
      ]
    },
    {
      "cell_type": "code",
      "source": [
        "x_train_orig, x_test_orig, y_train_orig, y_test_orig = train_test_split(X, y, test_size=0.33, random_state=4, stratify=y)"
      ],
      "metadata": {
        "id": "7DYW_3w_V5Up"
      },
      "execution_count": null,
      "outputs": []
    },
    {
      "cell_type": "code",
      "source": [
        "x_test_orig"
      ],
      "metadata": {
        "id": "tA9nWRl3V_bS",
        "outputId": "4a3b5a8a-d45f-4db9-8c5b-0415a7f6ffd5",
        "colab": {
          "base_uri": "https://localhost:8080/"
        }
      },
      "execution_count": null,
      "outputs": [
        {
          "output_type": "execute_result",
          "data": {
            "text/plain": [
              "15542      מאדםועדבהמה\n",
              "14953       דךמיהךטטנו\n",
              "20832      ואכלואתםאשר\n",
              "20498    ומשחתאתםומלאת\n",
              "1782        עשבנתתילכם\n",
              "             ...      \n",
              "26075    הנמוגיותלבאחה\n",
              "27721      ישחתעאולללו\n",
              "36666      הארץכיידעתי\n",
              "41767     רתושוואיתאצמ\n",
              "12782       מזקןלאיוכל\n",
              "Name: text, Length: 16162, dtype: object"
            ]
          },
          "metadata": {},
          "execution_count": 39
        }
      ]
    },
    {
      "cell_type": "code",
      "source": [
        "pd.concat([x_test_orig, y_test], axis=1)"
      ],
      "metadata": {
        "id": "RUR1VQlgWG8m",
        "outputId": "4d057ad8-4bf8-4c8a-ad50-1d4d5ee37248",
        "colab": {
          "base_uri": "https://localhost:8080/",
          "height": 424
        }
      },
      "execution_count": null,
      "outputs": [
        {
          "output_type": "execute_result",
          "data": {
            "text/plain": [
              "                text  label\n",
              "15542    מאדםועדבהמה      1\n",
              "14953     דךמיהךטטנו      0\n",
              "20832    ואכלואתםאשר      1\n",
              "20498  ומשחתאתםומלאת      1\n",
              "1782      עשבנתתילכם      1\n",
              "...              ...    ...\n",
              "26075  הנמוגיותלבאחה      0\n",
              "27721    ישחתעאולללו      0\n",
              "36666    הארץכיידעתי      1\n",
              "41767   רתושוואיתאצמ      0\n",
              "12782     מזקןלאיוכל      1\n",
              "\n",
              "[16162 rows x 2 columns]"
            ],
            "text/html": [
              "\n",
              "  <div id=\"df-4d37b038-f2d0-4ba3-a934-85ec17ee149a\">\n",
              "    <div class=\"colab-df-container\">\n",
              "      <div>\n",
              "<style scoped>\n",
              "    .dataframe tbody tr th:only-of-type {\n",
              "        vertical-align: middle;\n",
              "    }\n",
              "\n",
              "    .dataframe tbody tr th {\n",
              "        vertical-align: top;\n",
              "    }\n",
              "\n",
              "    .dataframe thead th {\n",
              "        text-align: right;\n",
              "    }\n",
              "</style>\n",
              "<table border=\"1\" class=\"dataframe\">\n",
              "  <thead>\n",
              "    <tr style=\"text-align: right;\">\n",
              "      <th></th>\n",
              "      <th>text</th>\n",
              "      <th>label</th>\n",
              "    </tr>\n",
              "  </thead>\n",
              "  <tbody>\n",
              "    <tr>\n",
              "      <th>15542</th>\n",
              "      <td>מאדםועדבהמה</td>\n",
              "      <td>1</td>\n",
              "    </tr>\n",
              "    <tr>\n",
              "      <th>14953</th>\n",
              "      <td>דךמיהךטטנו</td>\n",
              "      <td>0</td>\n",
              "    </tr>\n",
              "    <tr>\n",
              "      <th>20832</th>\n",
              "      <td>ואכלואתםאשר</td>\n",
              "      <td>1</td>\n",
              "    </tr>\n",
              "    <tr>\n",
              "      <th>20498</th>\n",
              "      <td>ומשחתאתםומלאת</td>\n",
              "      <td>1</td>\n",
              "    </tr>\n",
              "    <tr>\n",
              "      <th>1782</th>\n",
              "      <td>עשבנתתילכם</td>\n",
              "      <td>1</td>\n",
              "    </tr>\n",
              "    <tr>\n",
              "      <th>...</th>\n",
              "      <td>...</td>\n",
              "      <td>...</td>\n",
              "    </tr>\n",
              "    <tr>\n",
              "      <th>26075</th>\n",
              "      <td>הנמוגיותלבאחה</td>\n",
              "      <td>0</td>\n",
              "    </tr>\n",
              "    <tr>\n",
              "      <th>27721</th>\n",
              "      <td>ישחתעאולללו</td>\n",
              "      <td>0</td>\n",
              "    </tr>\n",
              "    <tr>\n",
              "      <th>36666</th>\n",
              "      <td>הארץכיידעתי</td>\n",
              "      <td>1</td>\n",
              "    </tr>\n",
              "    <tr>\n",
              "      <th>41767</th>\n",
              "      <td>רתושוואיתאצמ</td>\n",
              "      <td>0</td>\n",
              "    </tr>\n",
              "    <tr>\n",
              "      <th>12782</th>\n",
              "      <td>מזקןלאיוכל</td>\n",
              "      <td>1</td>\n",
              "    </tr>\n",
              "  </tbody>\n",
              "</table>\n",
              "<p>16162 rows × 2 columns</p>\n",
              "</div>\n",
              "      <button class=\"colab-df-convert\" onclick=\"convertToInteractive('df-4d37b038-f2d0-4ba3-a934-85ec17ee149a')\"\n",
              "              title=\"Convert this dataframe to an interactive table.\"\n",
              "              style=\"display:none;\">\n",
              "        \n",
              "  <svg xmlns=\"http://www.w3.org/2000/svg\" height=\"24px\"viewBox=\"0 0 24 24\"\n",
              "       width=\"24px\">\n",
              "    <path d=\"M0 0h24v24H0V0z\" fill=\"none\"/>\n",
              "    <path d=\"M18.56 5.44l.94 2.06.94-2.06 2.06-.94-2.06-.94-.94-2.06-.94 2.06-2.06.94zm-11 1L8.5 8.5l.94-2.06 2.06-.94-2.06-.94L8.5 2.5l-.94 2.06-2.06.94zm10 10l.94 2.06.94-2.06 2.06-.94-2.06-.94-.94-2.06-.94 2.06-2.06.94z\"/><path d=\"M17.41 7.96l-1.37-1.37c-.4-.4-.92-.59-1.43-.59-.52 0-1.04.2-1.43.59L10.3 9.45l-7.72 7.72c-.78.78-.78 2.05 0 2.83L4 21.41c.39.39.9.59 1.41.59.51 0 1.02-.2 1.41-.59l7.78-7.78 2.81-2.81c.8-.78.8-2.07 0-2.86zM5.41 20L4 18.59l7.72-7.72 1.47 1.35L5.41 20z\"/>\n",
              "  </svg>\n",
              "      </button>\n",
              "      \n",
              "  <style>\n",
              "    .colab-df-container {\n",
              "      display:flex;\n",
              "      flex-wrap:wrap;\n",
              "      gap: 12px;\n",
              "    }\n",
              "\n",
              "    .colab-df-convert {\n",
              "      background-color: #E8F0FE;\n",
              "      border: none;\n",
              "      border-radius: 50%;\n",
              "      cursor: pointer;\n",
              "      display: none;\n",
              "      fill: #1967D2;\n",
              "      height: 32px;\n",
              "      padding: 0 0 0 0;\n",
              "      width: 32px;\n",
              "    }\n",
              "\n",
              "    .colab-df-convert:hover {\n",
              "      background-color: #E2EBFA;\n",
              "      box-shadow: 0px 1px 2px rgba(60, 64, 67, 0.3), 0px 1px 3px 1px rgba(60, 64, 67, 0.15);\n",
              "      fill: #174EA6;\n",
              "    }\n",
              "\n",
              "    [theme=dark] .colab-df-convert {\n",
              "      background-color: #3B4455;\n",
              "      fill: #D2E3FC;\n",
              "    }\n",
              "\n",
              "    [theme=dark] .colab-df-convert:hover {\n",
              "      background-color: #434B5C;\n",
              "      box-shadow: 0px 1px 3px 1px rgba(0, 0, 0, 0.15);\n",
              "      filter: drop-shadow(0px 1px 2px rgba(0, 0, 0, 0.3));\n",
              "      fill: #FFFFFF;\n",
              "    }\n",
              "  </style>\n",
              "\n",
              "      <script>\n",
              "        const buttonEl =\n",
              "          document.querySelector('#df-4d37b038-f2d0-4ba3-a934-85ec17ee149a button.colab-df-convert');\n",
              "        buttonEl.style.display =\n",
              "          google.colab.kernel.accessAllowed ? 'block' : 'none';\n",
              "\n",
              "        async function convertToInteractive(key) {\n",
              "          const element = document.querySelector('#df-4d37b038-f2d0-4ba3-a934-85ec17ee149a');\n",
              "          const dataTable =\n",
              "            await google.colab.kernel.invokeFunction('convertToInteractive',\n",
              "                                                     [key], {});\n",
              "          if (!dataTable) return;\n",
              "\n",
              "          const docLinkHtml = 'Like what you see? Visit the ' +\n",
              "            '<a target=\"_blank\" href=https://colab.research.google.com/notebooks/data_table.ipynb>data table notebook</a>'\n",
              "            + ' to learn more about interactive tables.';\n",
              "          element.innerHTML = '';\n",
              "          dataTable['output_type'] = 'display_data';\n",
              "          await google.colab.output.renderOutput(dataTable, element);\n",
              "          const docLink = document.createElement('div');\n",
              "          docLink.innerHTML = docLinkHtml;\n",
              "          element.appendChild(docLink);\n",
              "        }\n",
              "      </script>\n",
              "    </div>\n",
              "  </div>\n",
              "  "
            ]
          },
          "metadata": {},
          "execution_count": 40
        }
      ]
    }
  ]
}