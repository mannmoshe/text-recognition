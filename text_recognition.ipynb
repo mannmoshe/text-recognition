{
  "nbformat": 4,
  "nbformat_minor": 0,
  "metadata": {
    "colab": {
      "provenance": [],
      "include_colab_link": true
    },
    "kernelspec": {
      "name": "python3",
      "display_name": "Python 3"
    }
  },
  "cells": [
    {
      "cell_type": "markdown",
      "metadata": {
        "id": "view-in-github",
        "colab_type": "text"
      },
      "source": [
        "<a href=\"https://colab.research.google.com/github/mannmoshe/text-recognition/blob/main/text_recognition.ipynb\" target=\"_parent\"><img src=\"https://colab.research.google.com/assets/colab-badge.svg\" alt=\"Open In Colab\"/></a>"
      ]
    },
    {
      "cell_type": "code",
      "metadata": {
        "id": "5XgKTMRwUHu6"
      },
      "source": [
        "# based on:\n",
        "# https://deeplearningcourses.com/c/data-science-natural-language-processing-in-python \n",
        "# https://www.udemy.com/data-science-natural-language-processing-in-python Section 7 Cipher Decryption\n",
        "\n",
        "# Author: Moshe Mann\n",
        "\n",
        "import numpy as np\n",
        "np.seterr(divide = 'ignore') \n",
        "\n",
        "import string\n",
        "import random\n",
        "import requests"
      ],
      "execution_count": 31,
      "outputs": []
    },
    {
      "cell_type": "code",
      "source": [
        "# for l in range(1488, 1515):\n",
        "#   print(chr(l))"
      ],
      "metadata": {
        "id": "T3N-0av3HDDU"
      },
      "execution_count": 32,
      "outputs": []
    },
    {
      "cell_type": "code",
      "metadata": {
        "id": "IyAGzd5iUQ_W"
      },
      "source": [
        "### the language model\n",
        "\n",
        "# initialize Markov matrix\n",
        "# MM: matrix for the bi-gram probabilites\n",
        "M = np.ones((27, 27))\n",
        "\n",
        "# initial state distribution\n",
        "# MM: vector for the uni-gram probabilites\n",
        "# MM: uni-gram probabilites calculated only by first letters of the words\n",
        "pi = np.zeros(27)\n",
        "\n",
        "# a function to update the Markov matrix\n",
        "def update_transition(ch1, ch2):\n",
        "  # ord('א') = 1488, ord('ב') = 1489, ...\n",
        "  i = ord(ch1) - 1488 # 'א' will mapped to 0, 'ב' will mapped to 1 and so on\n",
        "  j = ord(ch2) - 1488\n",
        "  M[i,j] += 1\n",
        "\n",
        "# a function to update the initial state distribution\n",
        "def update_pi(ch):\n",
        "  i = ord(ch) - 1488\n",
        "  pi[i] += 1\n",
        "\n",
        "# get the log-probability of a word / token\n",
        "def get_word_prob(word):\n",
        "  # print(\"word:\", word)\n",
        "  i = ord(word[0]) - 1488\n",
        "  logp = np.log(pi[i])\n",
        "\n",
        "  for ch in word[1:]:\n",
        "    j = ord(ch) - 1488\n",
        "    logp += np.log(M[i, j]) # update prob\n",
        "    i = j # update i to j\n",
        "\n",
        "  return logp\n",
        "\n",
        "# get the probability of a sequence of words\n",
        "def get_sequence_prob(words):\n",
        "  # if input is a string, split into an array of tokens\n",
        "  if type(words) == str:\n",
        "    words = words.split()\n",
        "\n",
        "  logp = 0\n",
        "  for word in words:\n",
        "    logp += get_word_prob(word)\n",
        "  return logp"
      ],
      "execution_count": 33,
      "outputs": []
    },
    {
      "cell_type": "code",
      "source": [
        "# with open('torah_text.txt', encoding='ISO-8859-8') as f:\n",
        "#     torah_text = f.read()\n",
        "req = requests.get(\"https://raw.githubusercontent.com/mannmoshe/text-recognition/main/torah_text.txt\")\n",
        "req.encoding = 'ISO-8859-8'\n",
        "torah_text = req.text"
      ],
      "metadata": {
        "id": "NctsICEMIMcj"
      },
      "execution_count": 34,
      "outputs": []
    },
    {
      "cell_type": "code",
      "source": [
        "torah_text[:50]"
      ],
      "metadata": {
        "colab": {
          "base_uri": "https://localhost:8080/",
          "height": 35
        },
        "id": "Yn9f_gKKIueM",
        "outputId": "dfa4227e-58a4-4d5c-f46b-9a13654ee12d"
      },
      "execution_count": 35,
      "outputs": [
        {
          "output_type": "execute_result",
          "data": {
            "text/plain": [
              "'  בראשית ברא אלהים את השמים ואת הארץ והארץ היתה תה'"
            ],
            "application/vnd.google.colaboratory.intrinsic+json": {
              "type": "string"
            }
          },
          "metadata": {},
          "execution_count": 35
        }
      ]
    },
    {
      "cell_type": "code",
      "source": [
        "torah_text.count('א')"
      ],
      "metadata": {
        "id": "fJ_5FVZQEvAR",
        "outputId": "9a339868-6fdb-469e-8442-7e07da259696",
        "colab": {
          "base_uri": "https://localhost:8080/"
        }
      },
      "execution_count": 36,
      "outputs": [
        {
          "output_type": "execute_result",
          "data": {
            "text/plain": [
              "27050"
            ]
          },
          "metadata": {},
          "execution_count": 36
        }
      ]
    },
    {
      "cell_type": "code",
      "source": [
        "torah_text.count('אב')"
      ],
      "metadata": {
        "id": "A9QGUFHNFAcA",
        "outputId": "5468b990-56a1-4cad-e0cc-ddbcd2fe111f",
        "colab": {
          "base_uri": "https://localhost:8080/"
        }
      },
      "execution_count": 37,
      "outputs": [
        {
          "output_type": "execute_result",
          "data": {
            "text/plain": [
              "972"
            ]
          },
          "metadata": {},
          "execution_count": 37
        }
      ]
    },
    {
      "cell_type": "code",
      "metadata": {
        "id": "PxacIxtyUZFd"
      },
      "source": [
        "tokens = torah_text.split()\n",
        "\n",
        "for token in tokens:\n",
        "  # update the model\n",
        "\n",
        "  # first letter\n",
        "  ch0 = token[0]\n",
        "  update_pi(ch0)\n",
        "\n",
        "  # other letters\n",
        "  for ch1 in token[1:]:\n",
        "    update_transition(ch0, ch1)\n",
        "    ch0 = ch1\n",
        "\n",
        "# normalize the probabilities\n",
        "pi /= pi.sum()\n",
        "M /= M.sum(axis=1, keepdims=True)"
      ],
      "execution_count": 38,
      "outputs": []
    },
    {
      "cell_type": "markdown",
      "source": [
        "The probabilties vector of first letters in word:"
      ],
      "metadata": {
        "id": "I8epcUrXfohx"
      }
    },
    {
      "cell_type": "code",
      "source": [
        "pi"
      ],
      "metadata": {
        "colab": {
          "base_uri": "https://localhost:8080/"
        },
        "id": "KLgoLlUvMKbJ",
        "outputId": "2bccab01-5302-45b2-aad5-dffb3c0fbe2b"
      },
      "execution_count": 39,
      "outputs": [
        {
          "output_type": "execute_result",
          "data": {
            "text/plain": [
              "array([0.16489595, 0.07711079, 0.00665741, 0.00687014, 0.10917145,\n",
              "       0.17239179, 0.00793383, 0.01342744, 0.00314099, 0.06989025,\n",
              "       0.        , 0.04297281, 0.08583299, 0.        , 0.06736244,\n",
              "       0.        , 0.01804508, 0.00364155, 0.04984295, 0.        ,\n",
              "       0.01278923, 0.        , 0.00644467, 0.00992354, 0.01072443,\n",
              "       0.03423809, 0.0266922 ])"
            ]
          },
          "metadata": {},
          "execution_count": 39
        }
      ]
    },
    {
      "cell_type": "code",
      "source": [
        "pi.sum()"
      ],
      "metadata": {
        "id": "Wg_YGWHgd04b",
        "outputId": "09c6cee7-a58e-4ce7-d52f-23275565959d",
        "colab": {
          "base_uri": "https://localhost:8080/"
        }
      },
      "execution_count": 40,
      "outputs": [
        {
          "output_type": "execute_result",
          "data": {
            "text/plain": [
              "1.0"
            ]
          },
          "metadata": {},
          "execution_count": 40
        }
      ]
    },
    {
      "cell_type": "markdown",
      "source": [
        "The probabilties matrix of bi-gram where the first letter is: א"
      ],
      "metadata": {
        "id": "oWIgPn_RfzDZ"
      }
    },
    {
      "cell_type": "code",
      "source": [
        "M[0]"
      ],
      "metadata": {
        "id": "mceSlhy5e-Zs",
        "outputId": "2b454855-3f55-4dbb-a282-d76b09004d69",
        "colab": {
          "base_uri": "https://localhost:8080/"
        }
      },
      "execution_count": 44,
      "outputs": [
        {
          "output_type": "execute_result",
          "data": {
            "text/plain": [
              "array([8.50014875e-05, 4.13532237e-02, 6.80011900e-04, 2.27803987e-02,\n",
              "       4.08432148e-02, 4.72183263e-02, 4.37757661e-03, 4.66658167e-02,\n",
              "       1.70002975e-04, 4.56032981e-02, 4.29257512e-03, 2.08253644e-02,\n",
              "       1.73828042e-01, 1.64902886e-02, 7.17412555e-02, 4.50507884e-03,\n",
              "       2.51604403e-02, 4.84508479e-03, 2.33754091e-03, 2.25253942e-03,\n",
              "       6.16260785e-03, 8.50014875e-05, 2.38004165e-03, 1.36002380e-03,\n",
              "       6.20510859e-02, 1.16324536e-01, 2.35581623e-01])"
            ]
          },
          "metadata": {},
          "execution_count": 44
        }
      ]
    },
    {
      "cell_type": "code",
      "source": [
        "M.sum(axis=1)"
      ],
      "metadata": {
        "colab": {
          "base_uri": "https://localhost:8080/"
        },
        "id": "PmRMpKygMM5A",
        "outputId": "91fdd786-856c-42c6-caf9-510135767c8c"
      },
      "execution_count": 43,
      "outputs": [
        {
          "output_type": "execute_result",
          "data": {
            "text/plain": [
              "array([1., 1., 1., 1., 1., 1., 1., 1., 1., 1., 1., 1., 1., 1., 1., 1., 1.,\n",
              "       1., 1., 1., 1., 1., 1., 1., 1., 1., 1.])"
            ]
          },
          "metadata": {},
          "execution_count": 43
        }
      ]
    },
    {
      "cell_type": "code",
      "source": [
        "get_sequence_prob('וידבר יהוה אל משה לאמר')"
      ],
      "metadata": {
        "colab": {
          "base_uri": "https://localhost:8080/"
        },
        "id": "Ikqls-jkQ2AA",
        "outputId": "1173ab61-229f-4b78-cb47-842cfc8e200d"
      },
      "execution_count": 14,
      "outputs": [
        {
          "output_type": "execute_result",
          "data": {
            "text/plain": [
              "-38.291733346990895"
            ]
          },
          "metadata": {},
          "execution_count": 14
        }
      ]
    },
    {
      "cell_type": "code",
      "source": [
        "letters = [chr(l) for l in range(1488, 1515)]\n",
        "\n",
        "random_texts = []\n",
        "random_scores = []\n",
        "for i in range(1000):\n",
        "  random_text = ''.join(random.choice(letters) for i in range(5)) + ' ' \\\n",
        "                 + ''.join(random.choice(letters) for i in range(4)) + ' ' \\\n",
        "                 + ''.join(random.choice(letters) for i in range(2)) + ' ' \\\n",
        "                 + ''.join(random.choice(letters) for i in range(3)) + ' ' \\\n",
        "                 + ''.join(random.choice(letters) for i in range(4)) \n",
        "  #print (random_text)\n",
        "  random_scores.append(get_sequence_prob(random_text))\n",
        "  random_texts.append(random_text)\n",
        "\n",
        "print(len(random_scores))\n",
        "print(random_texts[:10])\n",
        "print(random_scores[:10])\n",
        "print('average_score:', sum(random_scores) / len(random_scores))\n",
        "print(\"\\n\")\n",
        "fixed_random_scores = [value for value in random_scores if value != float('-inf')]\n",
        "print(len(fixed_random_scores))\n",
        "#print(fixed_random_scores)\n",
        "print('average_score:', sum(fixed_random_scores) / len(fixed_random_scores))"
      ],
      "metadata": {
        "colab": {
          "base_uri": "https://localhost:8080/"
        },
        "id": "Bsitz3ywTGxr",
        "outputId": "dac0107c-bba1-486f-aa94-73c84060ac84"
      },
      "execution_count": 20,
      "outputs": [
        {
          "output_type": "stream",
          "name": "stdout",
          "text": [
            "1000\n",
            "['תךרטט שחסט וח שכי יוףר', 'שהטבף בשלא תן יספ ואטן', 'נגץלת טקככ ףר האל וףקצ', 'יוךבנ סראא חץ צלמ כקנך', 'בחדכה ףםרכ זס םהץ נטמכ', 'אפףופ הץםע חכ נמצ הקגח', 'פהזשה פכטמ ךה זגל ודכת', 'ךשתהא כךיד דץ אסע קקגע', 'צהןבצ חןאה קצ חץל רגןץ', 'ץןכפז קתנד גנ גדפ עאפד']\n",
            "[-72.32711115224632, -65.9709281637593, -inf, -73.62320329853983, -inf, -82.00289436177977, -inf, -inf, -72.65773746183035, -inf]\n",
            "average_score: -inf\n",
            "\n",
            "\n",
            "370\n",
            "average_score: -73.00430344971377\n"
          ]
        }
      ]
    },
    {
      "cell_type": "markdown",
      "source": [
        "get_sequence_prob('וידבר יהוה אל משה לאמר') is bigger than average score of a sentence with a same structure."
      ],
      "metadata": {
        "id": "tuQ8crv9YfSW"
      }
    },
    {
      "cell_type": "code",
      "source": [
        "get_sequence_prob('ואהבתם את הגר')"
      ],
      "metadata": {
        "colab": {
          "base_uri": "https://localhost:8080/"
        },
        "id": "MFJM4hOAZCkl",
        "outputId": "26bd1de9-0143-438a-9dcc-fa039b38d56b"
      },
      "execution_count": 21,
      "outputs": [
        {
          "output_type": "execute_result",
          "data": {
            "text/plain": [
              "-27.056798620938007"
            ]
          },
          "metadata": {},
          "execution_count": 21
        }
      ]
    },
    {
      "cell_type": "code",
      "source": [
        "get_sequence_prob('ואהבת לרעך כמוך')"
      ],
      "metadata": {
        "colab": {
          "base_uri": "https://localhost:8080/"
        },
        "id": "3M9JlUr3Zddz",
        "outputId": "cff89a63-023e-4bf6-bfff-7cc0cfb4f526"
      },
      "execution_count": 22,
      "outputs": [
        {
          "output_type": "execute_result",
          "data": {
            "text/plain": [
              "-42.81038222930017"
            ]
          },
          "metadata": {},
          "execution_count": 22
        }
      ]
    },
    {
      "cell_type": "code",
      "source": [
        "get_sequence_prob('וילך משה ויאמר אל עמו הנה פרעה משלח אתכם ואת טפכם')"
      ],
      "metadata": {
        "colab": {
          "base_uri": "https://localhost:8080/"
        },
        "id": "_G6zA35OUFX1",
        "outputId": "19bdb9f4-463d-4f00-9bf1-8b8a72152b4f"
      },
      "execution_count": 27,
      "outputs": [
        {
          "output_type": "execute_result",
          "data": {
            "text/plain": [
              "-101.2397427430866"
            ]
          },
          "metadata": {},
          "execution_count": 27
        }
      ]
    },
    {
      "cell_type": "code",
      "source": [
        "letters = [chr(l) for l in range(1488, 1515)]\n",
        "\n",
        "random_texts = []\n",
        "random_scores = []\n",
        "for i in range(1000):\n",
        "  random_text = ''.join(random.choice(letters) for i in range(4)) + ' ' \\\n",
        "                 + ''.join(random.choice(letters) for i in range(3)) + ' ' \\\n",
        "                 + ''.join(random.choice(letters) for i in range(5)) + ' ' \\\n",
        "                 + ''.join(random.choice(letters) for i in range(2)) + ' ' \\\n",
        "                 + ''.join(random.choice(letters) for i in range(3)) + ' ' \\\n",
        "                 + ''.join(random.choice(letters) for i in range(3)) + ' ' \\\n",
        "                 + ''.join(random.choice(letters) for i in range(4)) + ' ' \\\n",
        "                 + ''.join(random.choice(letters) for i in range(4)) + ' ' \\\n",
        "                 + ''.join(random.choice(letters) for i in range(4)) + ' ' \\\n",
        "                 + ''.join(random.choice(letters) for i in range(3)) + ' ' \\\n",
        "                 + ''.join(random.choice(letters) for i in range(4)) \n",
        "  #print (random_text)\n",
        "  random_scores.append(get_sequence_prob(random_text))\n",
        "  random_texts.append(random_text)\n",
        "\n",
        "print(len(random_scores))\n",
        "print(random_texts[:10])\n",
        "print(random_scores[:10])\n",
        "print('average_score:', sum(random_scores) / len(random_scores))\n",
        "print(\"\\n\")\n",
        "fixed_random_scores = [value for value in random_scores if value != float('-inf')]\n",
        "print(len(fixed_random_scores))\n",
        "#print(fixed_random_scores)\n",
        "print('average_score:', sum(fixed_random_scores) / len(fixed_random_scores))"
      ],
      "metadata": {
        "colab": {
          "base_uri": "https://localhost:8080/"
        },
        "id": "LcqERpKTUiIM",
        "outputId": "76510b16-da68-4a09-edae-01de98d254b4"
      },
      "execution_count": 28,
      "outputs": [
        {
          "output_type": "stream",
          "name": "stdout",
          "text": [
            "1000\n",
            "['כתאת לנג סרזגל הש שםע לרה וגץה רמלק צסםח דעי דרףך', 'רנאג ץוו קןךקז תם חפנ טוץ הןםר כםךך יזךט ןצס יהסק', 'ףאוא ןעה הפנכם ךן שסמ יעט ירקכ נמפק מרנפ יךנ ראהט', 'עזךה חפל משדצק םנ ללו ןטנ פנזג ועץך לצתך ךםס טצשא', 'ךשעע לףס דלגטם שך בץץ חום םךנב לטכד בקפח צףי טםםת', 'פץהי חםמ ןסןרא תע ףאח זבג לוצו זתזפ ץףבמ גסף ןזקת', 'תליז פוו חנגאד הם גמץ וכפ בגהש בגתף שגזג יטה רכצט', 'ךהםח מתץ עהךאז קץ פהח בףמ דסתצ ךסתש קהרז שףר שהסי', 'פתמג נטא פעמצה שע כלצ טכף וזרן ףפיכ ךמרס וטל זמדי', 'דרנח וץצ ןעאץו ןה תשר ךןב תבקן תרקג םפשג פוק הסגק']\n",
            "[-154.12234787372574, -inf, -inf, -inf, -inf, -inf, -162.50427635252774, -inf, -inf, -inf]\n",
            "average_score: -inf\n",
            "\n",
            "\n",
            "108\n",
            "average_score: -159.6885760222407\n"
          ]
        }
      ]
    }
  ]
}