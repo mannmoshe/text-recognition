{
  "nbformat": 4,
  "nbformat_minor": 0,
  "metadata": {
    "colab": {
      "provenance": [],
      "toc_visible": true,
      "authorship_tag": "ABX9TyON8fJykRE/txWfBpgNLpM4",
      "include_colab_link": true
    },
    "kernelspec": {
      "name": "python3",
      "display_name": "Python 3"
    },
    "language_info": {
      "name": "python"
    }
  },
  "cells": [
    {
      "cell_type": "markdown",
      "metadata": {
        "id": "view-in-github",
        "colab_type": "text"
      },
      "source": [
        "<a href=\"https://colab.research.google.com/github/mannmoshe/text-recognition/blob/main/real_text_detection.ipynb\" target=\"_parent\"><img src=\"https://colab.research.google.com/assets/colab-badge.svg\" alt=\"Open In Colab\"/></a>"
      ]
    },
    {
      "cell_type": "markdown",
      "source": [
        "# Real text detection"
      ],
      "metadata": {
        "id": "v2RTcBh_2g-g"
      }
    },
    {
      "cell_type": "markdown",
      "source": [
        "By Moshe Mann"
      ],
      "metadata": {
        "id": "0c5OOL4Q2nHv"
      }
    },
    {
      "cell_type": "code",
      "execution_count": 1,
      "metadata": {
        "id": "GVE3qnCz_nJn"
      },
      "outputs": [],
      "source": [
        "import requests\n",
        "import pandas as pd\n",
        "import random"
      ]
    },
    {
      "cell_type": "code",
      "source": [
        "req = requests.get(\"https://raw.githubusercontent.com/mannmoshe/text-recognition/main/torah_heb.txt\")\n",
        "req.encoding = 'ISO-8859-8'\n",
        "torah_text = req.text"
      ],
      "metadata": {
        "id": "XqEe8yeI_1Ov"
      },
      "execution_count": 2,
      "outputs": []
    },
    {
      "cell_type": "code",
      "source": [
        "torah_text = torah_text.replace('ם','מ').replace('ן','נ').replace('ץ','צ').replace('ף','פ').replace('ך','כ')"
      ],
      "metadata": {
        "id": "nCmPntTJsODa"
      },
      "execution_count": 3,
      "outputs": []
    },
    {
      "cell_type": "code",
      "source": [
        "torah_words = torah_text.split()"
      ],
      "metadata": {
        "id": "3f8SrSIV_1sW"
      },
      "execution_count": 4,
      "outputs": []
    },
    {
      "cell_type": "markdown",
      "source": [
        "## Createing dataset of real and random phrases so that the model will be able to detect real text."
      ],
      "metadata": {
        "id": "fbTjQhs8q6Ip"
      }
    },
    {
      "cell_type": "code",
      "source": [
        "phrases = {}\n",
        "for i in range(0, int(len(torah_words)), 3):\n",
        "  phrase = ''.join(torah_words[i: i+3])\n",
        "  phrases[phrase] = 1 # true text\n",
        "  phrase_letters_list = [l for l in phrase]\n",
        "  random.Random(4).shuffle(phrase_letters_list) \n",
        "  # Random(4) for same result every time, see https://stackoverflow.com/questions/19306976/python-shuffling-with-a-parameter-to-get-the-same-result\n",
        "  phrases[''.join(phrase_letters_list)] = 0 # random text"
      ],
      "metadata": {
        "id": "I_hpqLriAHjV"
      },
      "execution_count": 5,
      "outputs": []
    },
    {
      "cell_type": "code",
      "source": [
        "phrases_dataset = pd.DataFrame.from_dict(phrases, orient='index').reset_index()"
      ],
      "metadata": {
        "id": "OMpEvn0ZLRTR"
      },
      "execution_count": 6,
      "outputs": []
    },
    {
      "cell_type": "code",
      "source": [
        "phrases_dataset.columns = ['text', 'label']"
      ],
      "metadata": {
        "id": "TnJThY6UbggT"
      },
      "execution_count": 7,
      "outputs": []
    },
    {
      "cell_type": "code",
      "source": [
        "phrases_dataset.shape"
      ],
      "metadata": {
        "colab": {
          "base_uri": "https://localhost:8080/"
        },
        "id": "frVcaESAHGD_",
        "outputId": "1a9ec120-b980-4f9c-a879-02189d3c60a7"
      },
      "execution_count": 8,
      "outputs": [
        {
          "output_type": "execute_result",
          "data": {
            "text/plain": [
              "(48974, 2)"
            ]
          },
          "metadata": {},
          "execution_count": 8
        }
      ]
    },
    {
      "cell_type": "code",
      "source": [
        "phrases_dataset.head(10)"
      ],
      "metadata": {
        "colab": {
          "base_uri": "https://localhost:8080/",
          "height": 363
        },
        "id": "4GuU29agLfOx",
        "outputId": "0852cee8-e8db-4842-df15-19280dc1f218"
      },
      "execution_count": 9,
      "outputs": [
        {
          "output_type": "execute_result",
          "data": {
            "text/plain": [
              "             text  label\n",
              "0  בראשיתבראאלהימ      1\n",
              "1  איתאמלבהארבריש      0\n",
              "2      אתהשמימואת      1\n",
              "3      אהאומתיתמש      0\n",
              "4   הארצוהארצהיתה      1\n",
              "5   תיצההההרראאוצ      0\n",
              "6     תהוובהווחשכ      1\n",
              "7     והושתחכוהבו      0\n",
              "8       עלפניתהומ      1\n",
              "9       לפהומתעינ      0"
            ],
            "text/html": [
              "\n",
              "  <div id=\"df-164fc119-7c71-4131-938a-2e020d800810\">\n",
              "    <div class=\"colab-df-container\">\n",
              "      <div>\n",
              "<style scoped>\n",
              "    .dataframe tbody tr th:only-of-type {\n",
              "        vertical-align: middle;\n",
              "    }\n",
              "\n",
              "    .dataframe tbody tr th {\n",
              "        vertical-align: top;\n",
              "    }\n",
              "\n",
              "    .dataframe thead th {\n",
              "        text-align: right;\n",
              "    }\n",
              "</style>\n",
              "<table border=\"1\" class=\"dataframe\">\n",
              "  <thead>\n",
              "    <tr style=\"text-align: right;\">\n",
              "      <th></th>\n",
              "      <th>text</th>\n",
              "      <th>label</th>\n",
              "    </tr>\n",
              "  </thead>\n",
              "  <tbody>\n",
              "    <tr>\n",
              "      <th>0</th>\n",
              "      <td>בראשיתבראאלהימ</td>\n",
              "      <td>1</td>\n",
              "    </tr>\n",
              "    <tr>\n",
              "      <th>1</th>\n",
              "      <td>איתאמלבהארבריש</td>\n",
              "      <td>0</td>\n",
              "    </tr>\n",
              "    <tr>\n",
              "      <th>2</th>\n",
              "      <td>אתהשמימואת</td>\n",
              "      <td>1</td>\n",
              "    </tr>\n",
              "    <tr>\n",
              "      <th>3</th>\n",
              "      <td>אהאומתיתמש</td>\n",
              "      <td>0</td>\n",
              "    </tr>\n",
              "    <tr>\n",
              "      <th>4</th>\n",
              "      <td>הארצוהארצהיתה</td>\n",
              "      <td>1</td>\n",
              "    </tr>\n",
              "    <tr>\n",
              "      <th>5</th>\n",
              "      <td>תיצההההרראאוצ</td>\n",
              "      <td>0</td>\n",
              "    </tr>\n",
              "    <tr>\n",
              "      <th>6</th>\n",
              "      <td>תהוובהווחשכ</td>\n",
              "      <td>1</td>\n",
              "    </tr>\n",
              "    <tr>\n",
              "      <th>7</th>\n",
              "      <td>והושתחכוהבו</td>\n",
              "      <td>0</td>\n",
              "    </tr>\n",
              "    <tr>\n",
              "      <th>8</th>\n",
              "      <td>עלפניתהומ</td>\n",
              "      <td>1</td>\n",
              "    </tr>\n",
              "    <tr>\n",
              "      <th>9</th>\n",
              "      <td>לפהומתעינ</td>\n",
              "      <td>0</td>\n",
              "    </tr>\n",
              "  </tbody>\n",
              "</table>\n",
              "</div>\n",
              "      <button class=\"colab-df-convert\" onclick=\"convertToInteractive('df-164fc119-7c71-4131-938a-2e020d800810')\"\n",
              "              title=\"Convert this dataframe to an interactive table.\"\n",
              "              style=\"display:none;\">\n",
              "        \n",
              "  <svg xmlns=\"http://www.w3.org/2000/svg\" height=\"24px\"viewBox=\"0 0 24 24\"\n",
              "       width=\"24px\">\n",
              "    <path d=\"M0 0h24v24H0V0z\" fill=\"none\"/>\n",
              "    <path d=\"M18.56 5.44l.94 2.06.94-2.06 2.06-.94-2.06-.94-.94-2.06-.94 2.06-2.06.94zm-11 1L8.5 8.5l.94-2.06 2.06-.94-2.06-.94L8.5 2.5l-.94 2.06-2.06.94zm10 10l.94 2.06.94-2.06 2.06-.94-2.06-.94-.94-2.06-.94 2.06-2.06.94z\"/><path d=\"M17.41 7.96l-1.37-1.37c-.4-.4-.92-.59-1.43-.59-.52 0-1.04.2-1.43.59L10.3 9.45l-7.72 7.72c-.78.78-.78 2.05 0 2.83L4 21.41c.39.39.9.59 1.41.59.51 0 1.02-.2 1.41-.59l7.78-7.78 2.81-2.81c.8-.78.8-2.07 0-2.86zM5.41 20L4 18.59l7.72-7.72 1.47 1.35L5.41 20z\"/>\n",
              "  </svg>\n",
              "      </button>\n",
              "      \n",
              "  <style>\n",
              "    .colab-df-container {\n",
              "      display:flex;\n",
              "      flex-wrap:wrap;\n",
              "      gap: 12px;\n",
              "    }\n",
              "\n",
              "    .colab-df-convert {\n",
              "      background-color: #E8F0FE;\n",
              "      border: none;\n",
              "      border-radius: 50%;\n",
              "      cursor: pointer;\n",
              "      display: none;\n",
              "      fill: #1967D2;\n",
              "      height: 32px;\n",
              "      padding: 0 0 0 0;\n",
              "      width: 32px;\n",
              "    }\n",
              "\n",
              "    .colab-df-convert:hover {\n",
              "      background-color: #E2EBFA;\n",
              "      box-shadow: 0px 1px 2px rgba(60, 64, 67, 0.3), 0px 1px 3px 1px rgba(60, 64, 67, 0.15);\n",
              "      fill: #174EA6;\n",
              "    }\n",
              "\n",
              "    [theme=dark] .colab-df-convert {\n",
              "      background-color: #3B4455;\n",
              "      fill: #D2E3FC;\n",
              "    }\n",
              "\n",
              "    [theme=dark] .colab-df-convert:hover {\n",
              "      background-color: #434B5C;\n",
              "      box-shadow: 0px 1px 3px 1px rgba(0, 0, 0, 0.15);\n",
              "      filter: drop-shadow(0px 1px 2px rgba(0, 0, 0, 0.3));\n",
              "      fill: #FFFFFF;\n",
              "    }\n",
              "  </style>\n",
              "\n",
              "      <script>\n",
              "        const buttonEl =\n",
              "          document.querySelector('#df-164fc119-7c71-4131-938a-2e020d800810 button.colab-df-convert');\n",
              "        buttonEl.style.display =\n",
              "          google.colab.kernel.accessAllowed ? 'block' : 'none';\n",
              "\n",
              "        async function convertToInteractive(key) {\n",
              "          const element = document.querySelector('#df-164fc119-7c71-4131-938a-2e020d800810');\n",
              "          const dataTable =\n",
              "            await google.colab.kernel.invokeFunction('convertToInteractive',\n",
              "                                                     [key], {});\n",
              "          if (!dataTable) return;\n",
              "\n",
              "          const docLinkHtml = 'Like what you see? Visit the ' +\n",
              "            '<a target=\"_blank\" href=https://colab.research.google.com/notebooks/data_table.ipynb>data table notebook</a>'\n",
              "            + ' to learn more about interactive tables.';\n",
              "          element.innerHTML = '';\n",
              "          dataTable['output_type'] = 'display_data';\n",
              "          await google.colab.output.renderOutput(dataTable, element);\n",
              "          const docLink = document.createElement('div');\n",
              "          docLink.innerHTML = docLinkHtml;\n",
              "          element.appendChild(docLink);\n",
              "        }\n",
              "      </script>\n",
              "    </div>\n",
              "  </div>\n",
              "  "
            ]
          },
          "metadata": {},
          "execution_count": 9
        }
      ]
    },
    {
      "cell_type": "code",
      "source": [
        "X = phrases_dataset['text']\n",
        "y = phrases_dataset['label']"
      ],
      "metadata": {
        "id": "bxG47mYziPqO"
      },
      "execution_count": 10,
      "outputs": []
    },
    {
      "cell_type": "markdown",
      "source": [
        "Split the dataset to train and text"
      ],
      "metadata": {
        "id": "O7oEu39rrQ2B"
      }
    },
    {
      "cell_type": "code",
      "source": [
        "from sklearn.model_selection import train_test_split\n",
        "x_train, x_test, y_train, y_test = train_test_split(X, y, test_size=0.33, random_state=4, stratify=y)"
      ],
      "metadata": {
        "id": "iUgjCLMhidyl"
      },
      "execution_count": 11,
      "outputs": []
    },
    {
      "cell_type": "code",
      "source": [
        "len(x_train)"
      ],
      "metadata": {
        "colab": {
          "base_uri": "https://localhost:8080/"
        },
        "id": "_Lf65r7vHAWo",
        "outputId": "addc5caf-e0d0-480e-aa05-0c58845b32bb"
      },
      "execution_count": 12,
      "outputs": [
        {
          "output_type": "execute_result",
          "data": {
            "text/plain": [
              "32812"
            ]
          },
          "metadata": {},
          "execution_count": 12
        }
      ]
    },
    {
      "cell_type": "code",
      "source": [
        "len(x_test)"
      ],
      "metadata": {
        "colab": {
          "base_uri": "https://localhost:8080/"
        },
        "id": "GrbcbT36HIfu",
        "outputId": "10353710-636b-4f72-a808-efdf4109e824"
      },
      "execution_count": 13,
      "outputs": [
        {
          "output_type": "execute_result",
          "data": {
            "text/plain": [
              "16162"
            ]
          },
          "metadata": {},
          "execution_count": 13
        }
      ]
    },
    {
      "cell_type": "code",
      "source": [
        "len(x_train) + len(x_test)"
      ],
      "metadata": {
        "colab": {
          "base_uri": "https://localhost:8080/"
        },
        "id": "RkBJqFLfHLu-",
        "outputId": "bd42af8c-8eff-400d-d9b2-da4a117bd0c1"
      },
      "execution_count": 14,
      "outputs": [
        {
          "output_type": "execute_result",
          "data": {
            "text/plain": [
              "48974"
            ]
          },
          "metadata": {},
          "execution_count": 14
        }
      ]
    },
    {
      "cell_type": "markdown",
      "source": [
        "## Prepare data for model"
      ],
      "metadata": {
        "id": "iKQZ2T3K0ZYI"
      }
    },
    {
      "cell_type": "code",
      "source": [
        "train_samples = x_train.tolist()\n",
        "test_samples = x_test.tolist()"
      ],
      "metadata": {
        "id": "LxWdvSAHiqUt"
      },
      "execution_count": 15,
      "outputs": []
    },
    {
      "cell_type": "code",
      "source": [
        "import numpy as np\n",
        "from keras.preprocessing.text import Tokenizer"
      ],
      "metadata": {
        "id": "Ah22EMcFi6cz"
      },
      "execution_count": 16,
      "outputs": []
    },
    {
      "cell_type": "code",
      "source": [
        "# We create a tokenizer, configured to only take\n",
        "# into account the top-10000 most common words\n",
        "#tokenizer = Tokenizer(num_words=10000, char_level=True) # char_level = True --> token by letters\n",
        "tokenizer = Tokenizer(char_level=True) # char_level = True --> token by letters\n",
        "# This builds the word index\n",
        "tokenizer.fit_on_texts(train_samples)\n",
        "\n",
        "# This turns strings into lists of integer indices.\n",
        "train_sequences = tokenizer.texts_to_sequences(train_samples)\n",
        "test_sequences = tokenizer.texts_to_sequences(test_samples)\n",
        "\n",
        "# You could also directly get the one-hot binary representations.\n",
        "# Note that other vectorization modes than one-hot encoding are supported!\n",
        "x_train = tokenizer.texts_to_matrix(train_samples, mode='binary')\n",
        "x_test = tokenizer.texts_to_matrix(test_samples, mode='binary')\n",
        "\n",
        "# This is how you can recover the word index that was computed\n",
        "word_index = tokenizer.word_index\n",
        "print('Found %s unique tokens.' % len(word_index))"
      ],
      "metadata": {
        "colab": {
          "base_uri": "https://localhost:8080/"
        },
        "id": "sgM6V13Ki9Wb",
        "outputId": "0aeedc1c-0ded-4779-9f68-392afe625cd8"
      },
      "execution_count": 17,
      "outputs": [
        {
          "output_type": "stream",
          "name": "stdout",
          "text": [
            "Found 22 unique tokens.\n"
          ]
        }
      ]
    },
    {
      "cell_type": "code",
      "source": [
        "word_index"
      ],
      "metadata": {
        "colab": {
          "base_uri": "https://localhost:8080/"
        },
        "id": "id6z6nbOjViC",
        "outputId": "b29990e7-178c-4257-c8d8-134c7d2fda4c"
      },
      "execution_count": 18,
      "outputs": [
        {
          "output_type": "execute_result",
          "data": {
            "text/plain": [
              "{'י': 1,\n",
              " 'ו': 2,\n",
              " 'ה': 3,\n",
              " 'א': 4,\n",
              " 'מ': 5,\n",
              " 'ל': 6,\n",
              " 'ת': 7,\n",
              " 'ר': 8,\n",
              " 'ב': 9,\n",
              " 'ש': 10,\n",
              " 'נ': 11,\n",
              " 'כ': 12,\n",
              " 'ע': 13,\n",
              " 'ח': 14,\n",
              " 'ד': 15,\n",
              " 'ק': 16,\n",
              " 'פ': 17,\n",
              " 'צ': 18,\n",
              " 'ז': 19,\n",
              " 'ג': 20,\n",
              " 'ס': 21,\n",
              " 'ט': 22}"
            ]
          },
          "metadata": {},
          "execution_count": 18
        }
      ]
    },
    {
      "cell_type": "code",
      "source": [
        "train_samples[:10]"
      ],
      "metadata": {
        "colab": {
          "base_uri": "https://localhost:8080/"
        },
        "id": "k9XWg6yDGiIA",
        "outputId": "69c54d10-f6af-4bbc-f386-109c7d1fa694"
      },
      "execution_count": 19,
      "outputs": [
        {
          "output_type": "execute_result",
          "data": {
            "text/plain": [
              "['ישחמתמאשותיחמ',\n",
              " 'יהיהבומומ',\n",
              " 'רהשיזקממכרש',\n",
              " 'מכלוהתאפס',\n",
              " 'קברואתאביו',\n",
              " 'במספרשמתמבנ',\n",
              " 'תשמעונאתהמשפטימ',\n",
              " 'ארהוחומרקוארצ',\n",
              " 'שלירככאיפובלמ',\n",
              " 'הבממוובשאחלרמת']"
            ]
          },
          "metadata": {},
          "execution_count": 19
        }
      ]
    },
    {
      "cell_type": "code",
      "source": [
        "train_sequences[:10]"
      ],
      "metadata": {
        "id": "3taPTGousiPy",
        "outputId": "7354af0c-d371-4cc4-fd66-6f8b152c6acf",
        "colab": {
          "base_uri": "https://localhost:8080/"
        }
      },
      "execution_count": 20,
      "outputs": [
        {
          "output_type": "execute_result",
          "data": {
            "text/plain": [
              "[[1, 10, 14, 5, 7, 5, 4, 10, 2, 7, 1, 14, 5],\n",
              " [1, 3, 1, 3, 9, 2, 5, 2, 5],\n",
              " [8, 3, 10, 1, 19, 16, 5, 5, 12, 8, 10],\n",
              " [5, 12, 6, 2, 3, 7, 4, 17, 21],\n",
              " [16, 9, 8, 2, 4, 7, 4, 9, 1, 2],\n",
              " [9, 5, 21, 17, 8, 10, 5, 7, 5, 9, 11],\n",
              " [7, 10, 5, 13, 2, 11, 4, 7, 3, 5, 10, 17, 22, 1, 5],\n",
              " [4, 8, 3, 2, 14, 2, 5, 8, 16, 2, 4, 8, 18],\n",
              " [10, 6, 1, 8, 12, 12, 4, 1, 17, 2, 9, 6, 5],\n",
              " [3, 9, 5, 5, 2, 2, 9, 10, 4, 14, 6, 8, 5, 7]]"
            ]
          },
          "metadata": {},
          "execution_count": 20
        }
      ]
    },
    {
      "cell_type": "code",
      "source": [
        "lens = [len(s) for s in train_sequences]\n",
        "lens[:20]"
      ],
      "metadata": {
        "colab": {
          "base_uri": "https://localhost:8080/"
        },
        "id": "95GZdRJ0jhfM",
        "outputId": "c05f1343-a0b9-4fe3-c254-d458a1fa0d13"
      },
      "execution_count": 21,
      "outputs": [
        {
          "output_type": "execute_result",
          "data": {
            "text/plain": [
              "[13, 9, 11, 9, 10, 11, 15, 13, 13, 14, 12, 10, 14, 14, 10, 13, 11, 8, 11, 10]"
            ]
          },
          "metadata": {},
          "execution_count": 21
        }
      ]
    },
    {
      "cell_type": "code",
      "source": [
        "sum(lens)/len(lens)"
      ],
      "metadata": {
        "colab": {
          "base_uri": "https://localhost:8080/"
        },
        "id": "lfieYLFqjug5",
        "outputId": "c7c33801-f3fb-4a59-ff3d-3ab6b0af44af"
      },
      "execution_count": 22,
      "outputs": [
        {
          "output_type": "execute_result",
          "data": {
            "text/plain": [
              "11.49652566134341"
            ]
          },
          "metadata": {},
          "execution_count": 22
        }
      ]
    },
    {
      "cell_type": "code",
      "source": [
        "train_sequences[:10]"
      ],
      "metadata": {
        "colab": {
          "base_uri": "https://localhost:8080/"
        },
        "id": "VMbCO50XHlFW",
        "outputId": "fcf68f18-d8a4-496b-91e3-4ce08a3b5863"
      },
      "execution_count": 23,
      "outputs": [
        {
          "output_type": "execute_result",
          "data": {
            "text/plain": [
              "[[1, 10, 14, 5, 7, 5, 4, 10, 2, 7, 1, 14, 5],\n",
              " [1, 3, 1, 3, 9, 2, 5, 2, 5],\n",
              " [8, 3, 10, 1, 19, 16, 5, 5, 12, 8, 10],\n",
              " [5, 12, 6, 2, 3, 7, 4, 17, 21],\n",
              " [16, 9, 8, 2, 4, 7, 4, 9, 1, 2],\n",
              " [9, 5, 21, 17, 8, 10, 5, 7, 5, 9, 11],\n",
              " [7, 10, 5, 13, 2, 11, 4, 7, 3, 5, 10, 17, 22, 1, 5],\n",
              " [4, 8, 3, 2, 14, 2, 5, 8, 16, 2, 4, 8, 18],\n",
              " [10, 6, 1, 8, 12, 12, 4, 1, 17, 2, 9, 6, 5],\n",
              " [3, 9, 5, 5, 2, 2, 9, 10, 4, 14, 6, 8, 5, 7]]"
            ]
          },
          "metadata": {},
          "execution_count": 23
        }
      ]
    },
    {
      "cell_type": "code",
      "source": [
        "max_len = 12\n",
        "x_train_embedding = []\n",
        "\n",
        "for s in train_sequences:\n",
        "  if len(s) >= 12:\n",
        "    x_train_embedding.append(s[:12])\n",
        "  else:\n",
        "    x_train_embedding.append(s + [0]*(max_len-len(s)))\n",
        "\n",
        "x_train_embedding = np.array(x_train_embedding)"
      ],
      "metadata": {
        "id": "o_wjZIYRjynB"
      },
      "execution_count": 24,
      "outputs": []
    },
    {
      "cell_type": "code",
      "source": [
        "x_test_embedding = []\n",
        "\n",
        "for s in test_sequences:\n",
        "  if len(s) >= 12:\n",
        "    x_test_embedding.append(s[:12])\n",
        "  else:\n",
        "    x_test_embedding.append(s + [0]*(max_len-len(s)))\n",
        "\n",
        "x_test_embedding = np.array(x_test_embedding)"
      ],
      "metadata": {
        "id": "GqXDvvMes2_m"
      },
      "execution_count": 25,
      "outputs": []
    },
    {
      "cell_type": "code",
      "source": [
        "y_train = y_train.to_numpy()"
      ],
      "metadata": {
        "id": "p6yZ4fg3m8BR"
      },
      "execution_count": 26,
      "outputs": []
    },
    {
      "cell_type": "code",
      "source": [
        "y_train"
      ],
      "metadata": {
        "colab": {
          "base_uri": "https://localhost:8080/"
        },
        "id": "63LK1x3RnV2G",
        "outputId": "f768613b-6bfb-4011-de53-551f6a83f749"
      },
      "execution_count": 27,
      "outputs": [
        {
          "output_type": "execute_result",
          "data": {
            "text/plain": [
              "array([0, 1, 0, ..., 0, 0, 0])"
            ]
          },
          "metadata": {},
          "execution_count": 27
        }
      ]
    },
    {
      "cell_type": "code",
      "source": [
        "x_train_embedding"
      ],
      "metadata": {
        "colab": {
          "base_uri": "https://localhost:8080/"
        },
        "id": "4Cn0mCWsnZVW",
        "outputId": "144c2c5e-5a6a-45d3-e07c-50cabdf70849"
      },
      "execution_count": 28,
      "outputs": [
        {
          "output_type": "execute_result",
          "data": {
            "text/plain": [
              "array([[ 1, 10, 14, ...,  7,  1, 14],\n",
              "       [ 1,  3,  1, ...,  0,  0,  0],\n",
              "       [ 8,  3, 10, ...,  8, 10,  0],\n",
              "       ...,\n",
              "       [ 1,  9,  6, ..., 12,  0,  0],\n",
              "       [ 5,  1, 10, ..., 11,  9,  0],\n",
              "       [ 8,  3,  4, ..., 11,  0,  0]])"
            ]
          },
          "metadata": {},
          "execution_count": 28
        }
      ]
    },
    {
      "cell_type": "markdown",
      "source": [
        "Model building"
      ],
      "metadata": {
        "id": "6mH0jVzo0h43"
      }
    },
    {
      "cell_type": "code",
      "source": [
        "from keras.models import Sequential\n",
        "from keras.layers import Embedding\n",
        "from keras.layers import SimpleRNN, Dense\n",
        "from keras.layers import LSTM\n",
        "from keras.layers import Dropout"
      ],
      "metadata": {
        "id": "e0JLl5UZkEYL"
      },
      "execution_count": 29,
      "outputs": []
    },
    {
      "cell_type": "code",
      "source": [
        "model = Sequential()\n",
        "model.add(Embedding(10000, 8, input_length=max_len))\n",
        "model.add(LSTM(64, return_sequences = True))\n",
        "model.add(Dropout(0.2))\n",
        "model.add(LSTM(64, return_sequences = True))\n",
        "model.add(Dropout(0.2))\n",
        "model.add(LSTM(64))\n",
        "\n",
        "model.compile(optimizer='rmsprop',\n",
        "              loss=\"binary_crossentropy\",\n",
        "              metrics=[\"accuracy\"])\n",
        "model.add(Dense(1, activation=\"sigmoid\"))\n",
        "model.summary()\n",
        "\n",
        "history = model.fit(x_train_embedding, \n",
        "                    y_train,\n",
        "                    epochs=50,\n",
        "                    batch_size=64,\n",
        "                    validation_split=0.33)"
      ],
      "metadata": {
        "colab": {
          "base_uri": "https://localhost:8080/"
        },
        "id": "DZOOQ_0YkSML",
        "outputId": "e538b7a1-6448-4e7a-96e4-b253a1fe26c4"
      },
      "execution_count": 31,
      "outputs": [
        {
          "output_type": "stream",
          "name": "stdout",
          "text": [
            "Model: \"sequential_1\"\n",
            "_________________________________________________________________\n",
            " Layer (type)                Output Shape              Param #   \n",
            "=================================================================\n",
            " embedding_1 (Embedding)     (None, 12, 8)             80000     \n",
            "                                                                 \n",
            " lstm_1 (LSTM)               (None, 12, 64)            18688     \n",
            "                                                                 \n",
            " dropout (Dropout)           (None, 12, 64)            0         \n",
            "                                                                 \n",
            " lstm_2 (LSTM)               (None, 12, 64)            33024     \n",
            "                                                                 \n",
            " dropout_1 (Dropout)         (None, 12, 64)            0         \n",
            "                                                                 \n",
            " lstm_3 (LSTM)               (None, 64)                33024     \n",
            "                                                                 \n",
            " dense (Dense)               (None, 1)                 65        \n",
            "                                                                 \n",
            "=================================================================\n",
            "Total params: 164,801\n",
            "Trainable params: 164,801\n",
            "Non-trainable params: 0\n",
            "_________________________________________________________________\n",
            "Epoch 1/50\n",
            "344/344 [==============================] - 25s 44ms/step - loss: 0.6762 - accuracy: 0.5581 - val_loss: 0.6544 - val_accuracy: 0.6117\n",
            "Epoch 2/50\n",
            "344/344 [==============================] - 13s 39ms/step - loss: 0.6494 - accuracy: 0.6181 - val_loss: 0.6693 - val_accuracy: 0.5821\n",
            "Epoch 3/50\n",
            "344/344 [==============================] - 14s 40ms/step - loss: 0.6376 - accuracy: 0.6309 - val_loss: 0.6876 - val_accuracy: 0.5873\n",
            "Epoch 4/50\n",
            "344/344 [==============================] - 13s 39ms/step - loss: 0.6263 - accuracy: 0.6455 - val_loss: 0.6333 - val_accuracy: 0.6393\n",
            "Epoch 5/50\n",
            "344/344 [==============================] - 13s 39ms/step - loss: 0.6120 - accuracy: 0.6612 - val_loss: 0.6204 - val_accuracy: 0.6432\n",
            "Epoch 6/50\n",
            "344/344 [==============================] - 16s 47ms/step - loss: 0.5925 - accuracy: 0.6776 - val_loss: 0.6091 - val_accuracy: 0.6634\n",
            "Epoch 7/50\n",
            "344/344 [==============================] - 14s 40ms/step - loss: 0.5714 - accuracy: 0.6988 - val_loss: 0.5706 - val_accuracy: 0.6918\n",
            "Epoch 8/50\n",
            "344/344 [==============================] - 14s 39ms/step - loss: 0.5575 - accuracy: 0.7102 - val_loss: 0.5552 - val_accuracy: 0.7059\n",
            "Epoch 9/50\n",
            "344/344 [==============================] - 14s 40ms/step - loss: 0.5454 - accuracy: 0.7203 - val_loss: 0.5418 - val_accuracy: 0.7155\n",
            "Epoch 10/50\n",
            "344/344 [==============================] - 13s 39ms/step - loss: 0.5357 - accuracy: 0.7269 - val_loss: 0.5402 - val_accuracy: 0.7187\n",
            "Epoch 11/50\n",
            "344/344 [==============================] - 14s 39ms/step - loss: 0.5253 - accuracy: 0.7336 - val_loss: 0.5393 - val_accuracy: 0.7226\n",
            "Epoch 12/50\n",
            "344/344 [==============================] - 14s 39ms/step - loss: 0.5155 - accuracy: 0.7384 - val_loss: 0.5262 - val_accuracy: 0.7289\n",
            "Epoch 13/50\n",
            "344/344 [==============================] - 13s 39ms/step - loss: 0.5099 - accuracy: 0.7435 - val_loss: 0.5162 - val_accuracy: 0.7368\n",
            "Epoch 14/50\n",
            "344/344 [==============================] - 14s 39ms/step - loss: 0.5013 - accuracy: 0.7520 - val_loss: 0.5147 - val_accuracy: 0.7438\n",
            "Epoch 15/50\n",
            "344/344 [==============================] - 13s 39ms/step - loss: 0.4951 - accuracy: 0.7518 - val_loss: 0.4991 - val_accuracy: 0.7509\n",
            "Epoch 16/50\n",
            "344/344 [==============================] - 13s 39ms/step - loss: 0.4879 - accuracy: 0.7574 - val_loss: 0.4987 - val_accuracy: 0.7530\n",
            "Epoch 17/50\n",
            "344/344 [==============================] - 13s 39ms/step - loss: 0.4809 - accuracy: 0.7608 - val_loss: 0.4945 - val_accuracy: 0.7523\n",
            "Epoch 18/50\n",
            "344/344 [==============================] - 14s 40ms/step - loss: 0.4748 - accuracy: 0.7671 - val_loss: 0.4862 - val_accuracy: 0.7596\n",
            "Epoch 19/50\n",
            "344/344 [==============================] - 14s 41ms/step - loss: 0.4660 - accuracy: 0.7727 - val_loss: 0.4999 - val_accuracy: 0.7527\n",
            "Epoch 20/50\n",
            "344/344 [==============================] - 14s 40ms/step - loss: 0.4621 - accuracy: 0.7748 - val_loss: 0.4803 - val_accuracy: 0.7598\n",
            "Epoch 21/50\n",
            "344/344 [==============================] - 14s 39ms/step - loss: 0.4528 - accuracy: 0.7821 - val_loss: 0.4748 - val_accuracy: 0.7664\n",
            "Epoch 22/50\n",
            "344/344 [==============================] - 14s 41ms/step - loss: 0.4477 - accuracy: 0.7833 - val_loss: 0.4810 - val_accuracy: 0.7653\n",
            "Epoch 23/50\n",
            "344/344 [==============================] - 15s 45ms/step - loss: 0.4405 - accuracy: 0.7886 - val_loss: 0.4723 - val_accuracy: 0.7663\n",
            "Epoch 24/50\n",
            "344/344 [==============================] - 14s 41ms/step - loss: 0.4347 - accuracy: 0.7896 - val_loss: 0.4726 - val_accuracy: 0.7701\n",
            "Epoch 25/50\n",
            "344/344 [==============================] - 14s 40ms/step - loss: 0.4265 - accuracy: 0.7965 - val_loss: 0.4694 - val_accuracy: 0.7739\n",
            "Epoch 26/50\n",
            "344/344 [==============================] - 14s 42ms/step - loss: 0.4194 - accuracy: 0.8012 - val_loss: 0.4627 - val_accuracy: 0.7709\n",
            "Epoch 27/50\n",
            "344/344 [==============================] - 15s 42ms/step - loss: 0.4141 - accuracy: 0.8023 - val_loss: 0.4679 - val_accuracy: 0.7760\n",
            "Epoch 28/50\n",
            "344/344 [==============================] - 14s 42ms/step - loss: 0.4049 - accuracy: 0.8097 - val_loss: 0.4583 - val_accuracy: 0.7756\n",
            "Epoch 29/50\n",
            "344/344 [==============================] - 14s 41ms/step - loss: 0.3978 - accuracy: 0.8127 - val_loss: 0.4571 - val_accuracy: 0.7762\n",
            "Epoch 30/50\n",
            "344/344 [==============================] - 14s 41ms/step - loss: 0.3906 - accuracy: 0.8181 - val_loss: 0.4594 - val_accuracy: 0.7860\n",
            "Epoch 31/50\n",
            "344/344 [==============================] - 14s 40ms/step - loss: 0.3813 - accuracy: 0.8245 - val_loss: 0.4604 - val_accuracy: 0.7812\n",
            "Epoch 32/50\n",
            "344/344 [==============================] - 14s 40ms/step - loss: 0.3749 - accuracy: 0.8254 - val_loss: 0.4517 - val_accuracy: 0.7888\n",
            "Epoch 33/50\n",
            "344/344 [==============================] - 14s 41ms/step - loss: 0.3641 - accuracy: 0.8347 - val_loss: 0.4639 - val_accuracy: 0.7818\n",
            "Epoch 34/50\n",
            "344/344 [==============================] - 14s 41ms/step - loss: 0.3586 - accuracy: 0.8345 - val_loss: 0.4727 - val_accuracy: 0.7871\n",
            "Epoch 35/50\n",
            "344/344 [==============================] - 14s 40ms/step - loss: 0.3494 - accuracy: 0.8397 - val_loss: 0.4534 - val_accuracy: 0.7922\n",
            "Epoch 36/50\n",
            "344/344 [==============================] - 14s 39ms/step - loss: 0.3415 - accuracy: 0.8435 - val_loss: 0.4461 - val_accuracy: 0.7906\n",
            "Epoch 37/50\n",
            "344/344 [==============================] - 13s 39ms/step - loss: 0.3319 - accuracy: 0.8481 - val_loss: 0.4658 - val_accuracy: 0.7873\n",
            "Epoch 38/50\n",
            "344/344 [==============================] - 13s 39ms/step - loss: 0.3195 - accuracy: 0.8567 - val_loss: 0.4675 - val_accuracy: 0.7952\n",
            "Epoch 39/50\n",
            "344/344 [==============================] - 15s 44ms/step - loss: 0.3121 - accuracy: 0.8596 - val_loss: 0.4508 - val_accuracy: 0.7987\n",
            "Epoch 40/50\n",
            "344/344 [==============================] - 14s 40ms/step - loss: 0.3052 - accuracy: 0.8629 - val_loss: 0.4671 - val_accuracy: 0.7940\n",
            "Epoch 41/50\n",
            "344/344 [==============================] - 14s 40ms/step - loss: 0.2957 - accuracy: 0.8669 - val_loss: 0.4738 - val_accuracy: 0.7969\n",
            "Epoch 42/50\n",
            "344/344 [==============================] - 13s 38ms/step - loss: 0.2881 - accuracy: 0.8729 - val_loss: 0.4690 - val_accuracy: 0.7924\n",
            "Epoch 43/50\n",
            "344/344 [==============================] - 14s 39ms/step - loss: 0.2747 - accuracy: 0.8805 - val_loss: 0.5021 - val_accuracy: 0.7892\n",
            "Epoch 44/50\n",
            "344/344 [==============================] - 14s 40ms/step - loss: 0.2671 - accuracy: 0.8839 - val_loss: 0.4794 - val_accuracy: 0.7995\n",
            "Epoch 45/50\n",
            "344/344 [==============================] - 13s 39ms/step - loss: 0.2583 - accuracy: 0.8863 - val_loss: 0.4823 - val_accuracy: 0.7983\n",
            "Epoch 46/50\n",
            "344/344 [==============================] - 13s 39ms/step - loss: 0.2480 - accuracy: 0.8937 - val_loss: 0.4835 - val_accuracy: 0.7997\n",
            "Epoch 47/50\n",
            "344/344 [==============================] - 13s 38ms/step - loss: 0.2412 - accuracy: 0.8962 - val_loss: 0.5107 - val_accuracy: 0.7983\n",
            "Epoch 48/50\n",
            "344/344 [==============================] - 13s 39ms/step - loss: 0.2322 - accuracy: 0.9000 - val_loss: 0.5174 - val_accuracy: 0.7979\n",
            "Epoch 49/50\n",
            "344/344 [==============================] - 13s 38ms/step - loss: 0.2243 - accuracy: 0.9050 - val_loss: 0.5021 - val_accuracy: 0.7982\n",
            "Epoch 50/50\n",
            "344/344 [==============================] - 13s 38ms/step - loss: 0.2180 - accuracy: 0.9056 - val_loss: 0.5170 - val_accuracy: 0.8046\n"
          ]
        }
      ]
    },
    {
      "cell_type": "code",
      "source": [
        "import matplotlib.pyplot as plt\n",
        "history_dict = history.history\n",
        "loss_values = history_dict[\"loss\"]\n",
        "val_loss_values = history_dict[\"val_loss\"]\n",
        "epochs = range(1, len(loss_values) + 1)\n",
        "plt.plot(epochs, loss_values, \"bo\", label=\"Training loss\")\n",
        "plt.plot(epochs, val_loss_values, \"b\", label=\"Validation loss\")\n",
        "plt.title(\"Training and validation loss\")\n",
        "plt.xlabel(\"Epochs\")\n",
        "plt.ylabel(\"Loss\")\n",
        "plt.legend()\n",
        "plt.show()"
      ],
      "metadata": {
        "id": "aZ08yXNt0mrW",
        "outputId": "6fd408c9-7cd3-4d19-d181-08c8e247cdfb",
        "colab": {
          "base_uri": "https://localhost:8080/",
          "height": 295
        }
      },
      "execution_count": 123,
      "outputs": [
        {
          "output_type": "display_data",
          "data": {
            "text/plain": [
              "<Figure size 432x288 with 1 Axes>"
            ],
            "image/png": "[encoded data removed]"
          },
          "metadata": {
            "needs_background": "light"
          }
        }
      ]
    },
    {
      "cell_type": "code",
      "source": [
        "plt.clf()\n",
        "acc = history_dict[\"accuracy\"]\n",
        "val_acc = history_dict[\"val_accuracy\"]\n",
        "plt.plot(epochs, acc, \"bo\", label=\"Training acc\")\n",
        "plt.plot(epochs, val_acc, \"b\", label=\"Validation acc\")\n",
        "plt.title(\"Training and validation accuracy\")\n",
        "plt.xlabel(\"Epochs\")\n",
        "plt.ylabel(\"Accuracy\")\n",
        "plt.legend()\n",
        "plt.show()"
      ],
      "metadata": {
        "id": "_XTWi4-u0xDO",
        "outputId": "ea78c9c4-8fd6-4d45-cf91-cfbf3963a781",
        "colab": {
          "base_uri": "https://localhost:8080/",
          "height": 295
        }
      },
      "execution_count": 124,
      "outputs": [
        {
          "output_type": "display_data",
          "data": {
            "text/plain": [
              "<Figure size 432x288 with 1 Axes>"
            ],
            "image/png": "[encoded data removed]"
          },
          "metadata": {
            "needs_background": "light"
          }
        }
      ]
    },
    {
      "cell_type": "markdown",
      "source": [
        "## Prepare output file for the test-set predictions"
      ],
      "metadata": {
        "id": "kpOKOIyK1iTu"
      }
    },
    {
      "cell_type": "code",
      "source": [
        "x_train[0]"
      ],
      "metadata": {
        "colab": {
          "base_uri": "https://localhost:8080/"
        },
        "id": "QkVzMVDgr-cC",
        "outputId": "3b4ff6c0-01a8-4dd8-bcc8-23a63cc0cb9a"
      },
      "execution_count": 32,
      "outputs": [
        {
          "output_type": "execute_result",
          "data": {
            "text/plain": [
              "array([0., 1., 1., 0., 1., 1., 0., 1., 0., 0., 1., 0., 0., 0., 1., 0., 0.,\n",
              "       0., 0., 0., 0., 0., 0.])"
            ]
          },
          "metadata": {},
          "execution_count": 32
        }
      ]
    },
    {
      "cell_type": "code",
      "source": [
        "predicted_labels = model.predict(x_test_embedding)"
      ],
      "metadata": {
        "colab": {
          "base_uri": "https://localhost:8080/"
        },
        "id": "8psKr2B8rNRg",
        "outputId": "295a89c1-1b84-49c8-bc47-9c0c0c2129f2"
      },
      "execution_count": 33,
      "outputs": [
        {
          "output_type": "stream",
          "name": "stdout",
          "text": [
            "506/506 [==============================] - 5s 8ms/step\n"
          ]
        }
      ]
    },
    {
      "cell_type": "code",
      "source": [
        "print(type(predicted_labels),type(y_test))"
      ],
      "metadata": {
        "colab": {
          "base_uri": "https://localhost:8080/"
        },
        "id": "_PGoiW9QtGtJ",
        "outputId": "ee5a6857-72c6-4179-e860-ff68e5b083d5"
      },
      "execution_count": 34,
      "outputs": [
        {
          "output_type": "stream",
          "name": "stdout",
          "text": [
            "<class 'numpy.ndarray'> <class 'pandas.core.series.Series'>\n"
          ]
        }
      ]
    },
    {
      "cell_type": "code",
      "source": [
        "predicted_labels"
      ],
      "metadata": {
        "colab": {
          "base_uri": "https://localhost:8080/"
        },
        "id": "p6HnrDDMuFCv",
        "outputId": "66b1262e-3ffe-4b08-ea7b-77637a282fce"
      },
      "execution_count": 35,
      "outputs": [
        {
          "output_type": "execute_result",
          "data": {
            "text/plain": [
              "array([[9.6520305e-01],\n",
              "       [4.8268253e-01],\n",
              "       [9.9979401e-01],\n",
              "       ...,\n",
              "       [9.9983138e-01],\n",
              "       [4.3277934e-04],\n",
              "       [9.4766641e-01]], dtype=float32)"
            ]
          },
          "metadata": {},
          "execution_count": 35
        }
      ]
    },
    {
      "cell_type": "code",
      "source": [
        "my_list = map(lambda x: x[0], predicted_labels)\n",
        "predictions = pd.Series(my_list)"
      ],
      "metadata": {
        "id": "sFLsLYHst1Ui"
      },
      "execution_count": 36,
      "outputs": []
    },
    {
      "cell_type": "code",
      "source": [
        "len(predictions)"
      ],
      "metadata": {
        "id": "_B9a2FwxU2tO",
        "outputId": "b81b44b2-e93e-4e58-fb8c-73ab682475bc",
        "colab": {
          "base_uri": "https://localhost:8080/"
        }
      },
      "execution_count": 37,
      "outputs": [
        {
          "output_type": "execute_result",
          "data": {
            "text/plain": [
              "16162"
            ]
          },
          "metadata": {},
          "execution_count": 37
        }
      ]
    },
    {
      "cell_type": "code",
      "source": [
        "len(y_test)"
      ],
      "metadata": {
        "id": "nhBdWS5tU5s7",
        "outputId": "4acace8a-a024-4877-98a3-1a71bef6b159",
        "colab": {
          "base_uri": "https://localhost:8080/"
        }
      },
      "execution_count": 38,
      "outputs": [
        {
          "output_type": "execute_result",
          "data": {
            "text/plain": [
              "16162"
            ]
          },
          "metadata": {},
          "execution_count": 38
        }
      ]
    },
    {
      "cell_type": "code",
      "source": [
        "predictions"
      ],
      "metadata": {
        "id": "aY3XRUqSU9ab",
        "outputId": "5d69f1dc-42ac-498c-ade3-4824a05e6d1b",
        "colab": {
          "base_uri": "https://localhost:8080/"
        }
      },
      "execution_count": 39,
      "outputs": [
        {
          "output_type": "execute_result",
          "data": {
            "text/plain": [
              "0        0.965203\n",
              "1        0.482683\n",
              "2        0.999794\n",
              "3        0.857719\n",
              "4        0.418789\n",
              "           ...   \n",
              "16157    0.002373\n",
              "16158    0.000190\n",
              "16159    0.999831\n",
              "16160    0.000433\n",
              "16161    0.947666\n",
              "Length: 16162, dtype: float32"
            ]
          },
          "metadata": {},
          "execution_count": 39
        }
      ]
    },
    {
      "cell_type": "code",
      "source": [
        "y_test_ri = y_test.reset_index() "
      ],
      "metadata": {
        "id": "C3uqheINVCxx"
      },
      "execution_count": 40,
      "outputs": []
    },
    {
      "cell_type": "code",
      "source": [
        "y_test_ri"
      ],
      "metadata": {
        "id": "YEBMUXSnVMx5",
        "outputId": "2f9b6196-3991-44a5-b69e-4de9af00d268",
        "colab": {
          "base_uri": "https://localhost:8080/",
          "height": 424
        }
      },
      "execution_count": 41,
      "outputs": [
        {
          "output_type": "execute_result",
          "data": {
            "text/plain": [
              "       index  label\n",
              "0      15542      1\n",
              "1      14953      0\n",
              "2      20832      1\n",
              "3      20498      1\n",
              "4       1782      1\n",
              "...      ...    ...\n",
              "16157  26075      0\n",
              "16158  27721      0\n",
              "16159  36666      1\n",
              "16160  41767      0\n",
              "16161  12782      1\n",
              "\n",
              "[16162 rows x 2 columns]"
            ],
            "text/html": [
              "\n",
              "  <div id=\"df-3fd5fecb-9537-49bb-953c-caaa86e9ea36\">\n",
              "    <div class=\"colab-df-container\">\n",
              "      <div>\n",
              "<style scoped>\n",
              "    .dataframe tbody tr th:only-of-type {\n",
              "        vertical-align: middle;\n",
              "    }\n",
              "\n",
              "    .dataframe tbody tr th {\n",
              "        vertical-align: top;\n",
              "    }\n",
              "\n",
              "    .dataframe thead th {\n",
              "        text-align: right;\n",
              "    }\n",
              "</style>\n",
              "<table border=\"1\" class=\"dataframe\">\n",
              "  <thead>\n",
              "    <tr style=\"text-align: right;\">\n",
              "      <th></th>\n",
              "      <th>index</th>\n",
              "      <th>label</th>\n",
              "    </tr>\n",
              "  </thead>\n",
              "  <tbody>\n",
              "    <tr>\n",
              "      <th>0</th>\n",
              "      <td>15542</td>\n",
              "      <td>1</td>\n",
              "    </tr>\n",
              "    <tr>\n",
              "      <th>1</th>\n",
              "      <td>14953</td>\n",
              "      <td>0</td>\n",
              "    </tr>\n",
              "    <tr>\n",
              "      <th>2</th>\n",
              "      <td>20832</td>\n",
              "      <td>1</td>\n",
              "    </tr>\n",
              "    <tr>\n",
              "      <th>3</th>\n",
              "      <td>20498</td>\n",
              "      <td>1</td>\n",
              "    </tr>\n",
              "    <tr>\n",
              "      <th>4</th>\n",
              "      <td>1782</td>\n",
              "      <td>1</td>\n",
              "    </tr>\n",
              "    <tr>\n",
              "      <th>...</th>\n",
              "      <td>...</td>\n",
              "      <td>...</td>\n",
              "    </tr>\n",
              "    <tr>\n",
              "      <th>16157</th>\n",
              "      <td>26075</td>\n",
              "      <td>0</td>\n",
              "    </tr>\n",
              "    <tr>\n",
              "      <th>16158</th>\n",
              "      <td>27721</td>\n",
              "      <td>0</td>\n",
              "    </tr>\n",
              "    <tr>\n",
              "      <th>16159</th>\n",
              "      <td>36666</td>\n",
              "      <td>1</td>\n",
              "    </tr>\n",
              "    <tr>\n",
              "      <th>16160</th>\n",
              "      <td>41767</td>\n",
              "      <td>0</td>\n",
              "    </tr>\n",
              "    <tr>\n",
              "      <th>16161</th>\n",
              "      <td>12782</td>\n",
              "      <td>1</td>\n",
              "    </tr>\n",
              "  </tbody>\n",
              "</table>\n",
              "<p>16162 rows × 2 columns</p>\n",
              "</div>\n",
              "      <button class=\"colab-df-convert\" onclick=\"convertToInteractive('df-3fd5fecb-9537-49bb-953c-caaa86e9ea36')\"\n",
              "              title=\"Convert this dataframe to an interactive table.\"\n",
              "              style=\"display:none;\">\n",
              "        \n",
              "  <svg xmlns=\"http://www.w3.org/2000/svg\" height=\"24px\"viewBox=\"0 0 24 24\"\n",
              "       width=\"24px\">\n",
              "    <path d=\"M0 0h24v24H0V0z\" fill=\"none\"/>\n",
              "    <path d=\"M18.56 5.44l.94 2.06.94-2.06 2.06-.94-2.06-.94-.94-2.06-.94 2.06-2.06.94zm-11 1L8.5 8.5l.94-2.06 2.06-.94-2.06-.94L8.5 2.5l-.94 2.06-2.06.94zm10 10l.94 2.06.94-2.06 2.06-.94-2.06-.94-.94-2.06-.94 2.06-2.06.94z\"/><path d=\"M17.41 7.96l-1.37-1.37c-.4-.4-.92-.59-1.43-.59-.52 0-1.04.2-1.43.59L10.3 9.45l-7.72 7.72c-.78.78-.78 2.05 0 2.83L4 21.41c.39.39.9.59 1.41.59.51 0 1.02-.2 1.41-.59l7.78-7.78 2.81-2.81c.8-.78.8-2.07 0-2.86zM5.41 20L4 18.59l7.72-7.72 1.47 1.35L5.41 20z\"/>\n",
              "  </svg>\n",
              "      </button>\n",
              "      \n",
              "  <style>\n",
              "    .colab-df-container {\n",
              "      display:flex;\n",
              "      flex-wrap:wrap;\n",
              "      gap: 12px;\n",
              "    }\n",
              "\n",
              "    .colab-df-convert {\n",
              "      background-color: #E8F0FE;\n",
              "      border: none;\n",
              "      border-radius: 50%;\n",
              "      cursor: pointer;\n",
              "      display: none;\n",
              "      fill: #1967D2;\n",
              "      height: 32px;\n",
              "      padding: 0 0 0 0;\n",
              "      width: 32px;\n",
              "    }\n",
              "\n",
              "    .colab-df-convert:hover {\n",
              "      background-color: #E2EBFA;\n",
              "      box-shadow: 0px 1px 2px rgba(60, 64, 67, 0.3), 0px 1px 3px 1px rgba(60, 64, 67, 0.15);\n",
              "      fill: #174EA6;\n",
              "    }\n",
              "\n",
              "    [theme=dark] .colab-df-convert {\n",
              "      background-color: #3B4455;\n",
              "      fill: #D2E3FC;\n",
              "    }\n",
              "\n",
              "    [theme=dark] .colab-df-convert:hover {\n",
              "      background-color: #434B5C;\n",
              "      box-shadow: 0px 1px 3px 1px rgba(0, 0, 0, 0.15);\n",
              "      filter: drop-shadow(0px 1px 2px rgba(0, 0, 0, 0.3));\n",
              "      fill: #FFFFFF;\n",
              "    }\n",
              "  </style>\n",
              "\n",
              "      <script>\n",
              "        const buttonEl =\n",
              "          document.querySelector('#df-3fd5fecb-9537-49bb-953c-caaa86e9ea36 button.colab-df-convert');\n",
              "        buttonEl.style.display =\n",
              "          google.colab.kernel.accessAllowed ? 'block' : 'none';\n",
              "\n",
              "        async function convertToInteractive(key) {\n",
              "          const element = document.querySelector('#df-3fd5fecb-9537-49bb-953c-caaa86e9ea36');\n",
              "          const dataTable =\n",
              "            await google.colab.kernel.invokeFunction('convertToInteractive',\n",
              "                                                     [key], {});\n",
              "          if (!dataTable) return;\n",
              "\n",
              "          const docLinkHtml = 'Like what you see? Visit the ' +\n",
              "            '<a target=\"_blank\" href=https://colab.research.google.com/notebooks/data_table.ipynb>data table notebook</a>'\n",
              "            + ' to learn more about interactive tables.';\n",
              "          element.innerHTML = '';\n",
              "          dataTable['output_type'] = 'display_data';\n",
              "          await google.colab.output.renderOutput(dataTable, element);\n",
              "          const docLink = document.createElement('div');\n",
              "          docLink.innerHTML = docLinkHtml;\n",
              "          element.appendChild(docLink);\n",
              "        }\n",
              "      </script>\n",
              "    </div>\n",
              "  </div>\n",
              "  "
            ]
          },
          "metadata": {},
          "execution_count": 41
        }
      ]
    },
    {
      "cell_type": "code",
      "source": [
        "predictions_temp = pd.concat([predictions, y_test_ri], axis=1)"
      ],
      "metadata": {
        "id": "m_4BvwEbulVu"
      },
      "execution_count": 42,
      "outputs": []
    },
    {
      "cell_type": "code",
      "source": [
        "predictions_temp.head()"
      ],
      "metadata": {
        "colab": {
          "base_uri": "https://localhost:8080/",
          "height": 206
        },
        "id": "1wWJzdLnaLG5",
        "outputId": "a0764174-37a9-4181-ba6a-cdd276b94590"
      },
      "execution_count": 43,
      "outputs": [
        {
          "output_type": "execute_result",
          "data": {
            "text/plain": [
              "          0  index  label\n",
              "0  0.965203  15542      1\n",
              "1  0.482683  14953      0\n",
              "2  0.999794  20832      1\n",
              "3  0.857719  20498      1\n",
              "4  0.418789   1782      1"
            ],
            "text/html": [
              "\n",
              "  <div id=\"df-89ba8dd9-a592-46bd-9e7b-1d38cc61fa7c\">\n",
              "    <div class=\"colab-df-container\">\n",
              "      <div>\n",
              "<style scoped>\n",
              "    .dataframe tbody tr th:only-of-type {\n",
              "        vertical-align: middle;\n",
              "    }\n",
              "\n",
              "    .dataframe tbody tr th {\n",
              "        vertical-align: top;\n",
              "    }\n",
              "\n",
              "    .dataframe thead th {\n",
              "        text-align: right;\n",
              "    }\n",
              "</style>\n",
              "<table border=\"1\" class=\"dataframe\">\n",
              "  <thead>\n",
              "    <tr style=\"text-align: right;\">\n",
              "      <th></th>\n",
              "      <th>0</th>\n",
              "      <th>index</th>\n",
              "      <th>label</th>\n",
              "    </tr>\n",
              "  </thead>\n",
              "  <tbody>\n",
              "    <tr>\n",
              "      <th>0</th>\n",
              "      <td>0.965203</td>\n",
              "      <td>15542</td>\n",
              "      <td>1</td>\n",
              "    </tr>\n",
              "    <tr>\n",
              "      <th>1</th>\n",
              "      <td>0.482683</td>\n",
              "      <td>14953</td>\n",
              "      <td>0</td>\n",
              "    </tr>\n",
              "    <tr>\n",
              "      <th>2</th>\n",
              "      <td>0.999794</td>\n",
              "      <td>20832</td>\n",
              "      <td>1</td>\n",
              "    </tr>\n",
              "    <tr>\n",
              "      <th>3</th>\n",
              "      <td>0.857719</td>\n",
              "      <td>20498</td>\n",
              "      <td>1</td>\n",
              "    </tr>\n",
              "    <tr>\n",
              "      <th>4</th>\n",
              "      <td>0.418789</td>\n",
              "      <td>1782</td>\n",
              "      <td>1</td>\n",
              "    </tr>\n",
              "  </tbody>\n",
              "</table>\n",
              "</div>\n",
              "      <button class=\"colab-df-convert\" onclick=\"convertToInteractive('df-89ba8dd9-a592-46bd-9e7b-1d38cc61fa7c')\"\n",
              "              title=\"Convert this dataframe to an interactive table.\"\n",
              "              style=\"display:none;\">\n",
              "        \n",
              "  <svg xmlns=\"http://www.w3.org/2000/svg\" height=\"24px\"viewBox=\"0 0 24 24\"\n",
              "       width=\"24px\">\n",
              "    <path d=\"M0 0h24v24H0V0z\" fill=\"none\"/>\n",
              "    <path d=\"M18.56 5.44l.94 2.06.94-2.06 2.06-.94-2.06-.94-.94-2.06-.94 2.06-2.06.94zm-11 1L8.5 8.5l.94-2.06 2.06-.94-2.06-.94L8.5 2.5l-.94 2.06-2.06.94zm10 10l.94 2.06.94-2.06 2.06-.94-2.06-.94-.94-2.06-.94 2.06-2.06.94z\"/><path d=\"M17.41 7.96l-1.37-1.37c-.4-.4-.92-.59-1.43-.59-.52 0-1.04.2-1.43.59L10.3 9.45l-7.72 7.72c-.78.78-.78 2.05 0 2.83L4 21.41c.39.39.9.59 1.41.59.51 0 1.02-.2 1.41-.59l7.78-7.78 2.81-2.81c.8-.78.8-2.07 0-2.86zM5.41 20L4 18.59l7.72-7.72 1.47 1.35L5.41 20z\"/>\n",
              "  </svg>\n",
              "      </button>\n",
              "      \n",
              "  <style>\n",
              "    .colab-df-container {\n",
              "      display:flex;\n",
              "      flex-wrap:wrap;\n",
              "      gap: 12px;\n",
              "    }\n",
              "\n",
              "    .colab-df-convert {\n",
              "      background-color: #E8F0FE;\n",
              "      border: none;\n",
              "      border-radius: 50%;\n",
              "      cursor: pointer;\n",
              "      display: none;\n",
              "      fill: #1967D2;\n",
              "      height: 32px;\n",
              "      padding: 0 0 0 0;\n",
              "      width: 32px;\n",
              "    }\n",
              "\n",
              "    .colab-df-convert:hover {\n",
              "      background-color: #E2EBFA;\n",
              "      box-shadow: 0px 1px 2px rgba(60, 64, 67, 0.3), 0px 1px 3px 1px rgba(60, 64, 67, 0.15);\n",
              "      fill: #174EA6;\n",
              "    }\n",
              "\n",
              "    [theme=dark] .colab-df-convert {\n",
              "      background-color: #3B4455;\n",
              "      fill: #D2E3FC;\n",
              "    }\n",
              "\n",
              "    [theme=dark] .colab-df-convert:hover {\n",
              "      background-color: #434B5C;\n",
              "      box-shadow: 0px 1px 3px 1px rgba(0, 0, 0, 0.15);\n",
              "      filter: drop-shadow(0px 1px 2px rgba(0, 0, 0, 0.3));\n",
              "      fill: #FFFFFF;\n",
              "    }\n",
              "  </style>\n",
              "\n",
              "      <script>\n",
              "        const buttonEl =\n",
              "          document.querySelector('#df-89ba8dd9-a592-46bd-9e7b-1d38cc61fa7c button.colab-df-convert');\n",
              "        buttonEl.style.display =\n",
              "          google.colab.kernel.accessAllowed ? 'block' : 'none';\n",
              "\n",
              "        async function convertToInteractive(key) {\n",
              "          const element = document.querySelector('#df-89ba8dd9-a592-46bd-9e7b-1d38cc61fa7c');\n",
              "          const dataTable =\n",
              "            await google.colab.kernel.invokeFunction('convertToInteractive',\n",
              "                                                     [key], {});\n",
              "          if (!dataTable) return;\n",
              "\n",
              "          const docLinkHtml = 'Like what you see? Visit the ' +\n",
              "            '<a target=\"_blank\" href=https://colab.research.google.com/notebooks/data_table.ipynb>data table notebook</a>'\n",
              "            + ' to learn more about interactive tables.';\n",
              "          element.innerHTML = '';\n",
              "          dataTable['output_type'] = 'display_data';\n",
              "          await google.colab.output.renderOutput(dataTable, element);\n",
              "          const docLink = document.createElement('div');\n",
              "          docLink.innerHTML = docLinkHtml;\n",
              "          element.appendChild(docLink);\n",
              "        }\n",
              "      </script>\n",
              "    </div>\n",
              "  </div>\n",
              "  "
            ]
          },
          "metadata": {},
          "execution_count": 43
        }
      ]
    },
    {
      "cell_type": "code",
      "source": [
        "x_train_orig, x_test_orig, y_train_orig, y_test_orig = train_test_split(X, y, test_size=0.33, random_state=4, stratify=y)"
      ],
      "metadata": {
        "id": "7DYW_3w_V5Up"
      },
      "execution_count": 44,
      "outputs": []
    },
    {
      "cell_type": "code",
      "source": [
        "x_test_orig"
      ],
      "metadata": {
        "id": "tA9nWRl3V_bS",
        "outputId": "fba70e91-ae07-4d8b-ab67-fc7d035fc709",
        "colab": {
          "base_uri": "https://localhost:8080/"
        }
      },
      "execution_count": 45,
      "outputs": [
        {
          "output_type": "execute_result",
          "data": {
            "text/plain": [
              "15542      מאדמועדבהמה\n",
              "14953       דכמיהכטטנו\n",
              "20832      ואכלואתמאשר\n",
              "20498    ומשחתאתמומלאת\n",
              "1782        עשבנתתילכמ\n",
              "             ...      \n",
              "26075    הנמוגיותלבאחה\n",
              "27721      ישחתעאולללו\n",
              "36666      הארצכיידעתי\n",
              "41767     רתושוואיתאצמ\n",
              "12782       מזקנלאיוכל\n",
              "Name: text, Length: 16162, dtype: object"
            ]
          },
          "metadata": {},
          "execution_count": 45
        }
      ]
    },
    {
      "cell_type": "code",
      "source": [
        "x_test_orig.reset_index().head()"
      ],
      "metadata": {
        "colab": {
          "base_uri": "https://localhost:8080/",
          "height": 206
        },
        "id": "vAcipWUDbqON",
        "outputId": "c4a68bfe-8441-4152-b236-8df3a118e2de"
      },
      "execution_count": 46,
      "outputs": [
        {
          "output_type": "execute_result",
          "data": {
            "text/plain": [
              "   index           text\n",
              "0  15542    מאדמועדבהמה\n",
              "1  14953     דכמיהכטטנו\n",
              "2  20832    ואכלואתמאשר\n",
              "3  20498  ומשחתאתמומלאת\n",
              "4   1782     עשבנתתילכמ"
            ],
            "text/html": [
              "\n",
              "  <div id=\"df-57086aa3-b33a-400f-8e86-31a5bdb53b2a\">\n",
              "    <div class=\"colab-df-container\">\n",
              "      <div>\n",
              "<style scoped>\n",
              "    .dataframe tbody tr th:only-of-type {\n",
              "        vertical-align: middle;\n",
              "    }\n",
              "\n",
              "    .dataframe tbody tr th {\n",
              "        vertical-align: top;\n",
              "    }\n",
              "\n",
              "    .dataframe thead th {\n",
              "        text-align: right;\n",
              "    }\n",
              "</style>\n",
              "<table border=\"1\" class=\"dataframe\">\n",
              "  <thead>\n",
              "    <tr style=\"text-align: right;\">\n",
              "      <th></th>\n",
              "      <th>index</th>\n",
              "      <th>text</th>\n",
              "    </tr>\n",
              "  </thead>\n",
              "  <tbody>\n",
              "    <tr>\n",
              "      <th>0</th>\n",
              "      <td>15542</td>\n",
              "      <td>מאדמועדבהמה</td>\n",
              "    </tr>\n",
              "    <tr>\n",
              "      <th>1</th>\n",
              "      <td>14953</td>\n",
              "      <td>דכמיהכטטנו</td>\n",
              "    </tr>\n",
              "    <tr>\n",
              "      <th>2</th>\n",
              "      <td>20832</td>\n",
              "      <td>ואכלואתמאשר</td>\n",
              "    </tr>\n",
              "    <tr>\n",
              "      <th>3</th>\n",
              "      <td>20498</td>\n",
              "      <td>ומשחתאתמומלאת</td>\n",
              "    </tr>\n",
              "    <tr>\n",
              "      <th>4</th>\n",
              "      <td>1782</td>\n",
              "      <td>עשבנתתילכמ</td>\n",
              "    </tr>\n",
              "  </tbody>\n",
              "</table>\n",
              "</div>\n",
              "      <button class=\"colab-df-convert\" onclick=\"convertToInteractive('df-57086aa3-b33a-400f-8e86-31a5bdb53b2a')\"\n",
              "              title=\"Convert this dataframe to an interactive table.\"\n",
              "              style=\"display:none;\">\n",
              "        \n",
              "  <svg xmlns=\"http://www.w3.org/2000/svg\" height=\"24px\"viewBox=\"0 0 24 24\"\n",
              "       width=\"24px\">\n",
              "    <path d=\"M0 0h24v24H0V0z\" fill=\"none\"/>\n",
              "    <path d=\"M18.56 5.44l.94 2.06.94-2.06 2.06-.94-2.06-.94-.94-2.06-.94 2.06-2.06.94zm-11 1L8.5 8.5l.94-2.06 2.06-.94-2.06-.94L8.5 2.5l-.94 2.06-2.06.94zm10 10l.94 2.06.94-2.06 2.06-.94-2.06-.94-.94-2.06-.94 2.06-2.06.94z\"/><path d=\"M17.41 7.96l-1.37-1.37c-.4-.4-.92-.59-1.43-.59-.52 0-1.04.2-1.43.59L10.3 9.45l-7.72 7.72c-.78.78-.78 2.05 0 2.83L4 21.41c.39.39.9.59 1.41.59.51 0 1.02-.2 1.41-.59l7.78-7.78 2.81-2.81c.8-.78.8-2.07 0-2.86zM5.41 20L4 18.59l7.72-7.72 1.47 1.35L5.41 20z\"/>\n",
              "  </svg>\n",
              "      </button>\n",
              "      \n",
              "  <style>\n",
              "    .colab-df-container {\n",
              "      display:flex;\n",
              "      flex-wrap:wrap;\n",
              "      gap: 12px;\n",
              "    }\n",
              "\n",
              "    .colab-df-convert {\n",
              "      background-color: #E8F0FE;\n",
              "      border: none;\n",
              "      border-radius: 50%;\n",
              "      cursor: pointer;\n",
              "      display: none;\n",
              "      fill: #1967D2;\n",
              "      height: 32px;\n",
              "      padding: 0 0 0 0;\n",
              "      width: 32px;\n",
              "    }\n",
              "\n",
              "    .colab-df-convert:hover {\n",
              "      background-color: #E2EBFA;\n",
              "      box-shadow: 0px 1px 2px rgba(60, 64, 67, 0.3), 0px 1px 3px 1px rgba(60, 64, 67, 0.15);\n",
              "      fill: #174EA6;\n",
              "    }\n",
              "\n",
              "    [theme=dark] .colab-df-convert {\n",
              "      background-color: #3B4455;\n",
              "      fill: #D2E3FC;\n",
              "    }\n",
              "\n",
              "    [theme=dark] .colab-df-convert:hover {\n",
              "      background-color: #434B5C;\n",
              "      box-shadow: 0px 1px 3px 1px rgba(0, 0, 0, 0.15);\n",
              "      filter: drop-shadow(0px 1px 2px rgba(0, 0, 0, 0.3));\n",
              "      fill: #FFFFFF;\n",
              "    }\n",
              "  </style>\n",
              "\n",
              "      <script>\n",
              "        const buttonEl =\n",
              "          document.querySelector('#df-57086aa3-b33a-400f-8e86-31a5bdb53b2a button.colab-df-convert');\n",
              "        buttonEl.style.display =\n",
              "          google.colab.kernel.accessAllowed ? 'block' : 'none';\n",
              "\n",
              "        async function convertToInteractive(key) {\n",
              "          const element = document.querySelector('#df-57086aa3-b33a-400f-8e86-31a5bdb53b2a');\n",
              "          const dataTable =\n",
              "            await google.colab.kernel.invokeFunction('convertToInteractive',\n",
              "                                                     [key], {});\n",
              "          if (!dataTable) return;\n",
              "\n",
              "          const docLinkHtml = 'Like what you see? Visit the ' +\n",
              "            '<a target=\"_blank\" href=https://colab.research.google.com/notebooks/data_table.ipynb>data table notebook</a>'\n",
              "            + ' to learn more about interactive tables.';\n",
              "          element.innerHTML = '';\n",
              "          dataTable['output_type'] = 'display_data';\n",
              "          await google.colab.output.renderOutput(dataTable, element);\n",
              "          const docLink = document.createElement('div');\n",
              "          docLink.innerHTML = docLinkHtml;\n",
              "          element.appendChild(docLink);\n",
              "        }\n",
              "      </script>\n",
              "    </div>\n",
              "  </div>\n",
              "  "
            ]
          },
          "metadata": {},
          "execution_count": 46
        }
      ]
    },
    {
      "cell_type": "code",
      "source": [
        "output_df = predictions_temp.merge(x_test_orig.reset_index(), how='inner', left_on='index', right_on='index')"
      ],
      "metadata": {
        "id": "g_KUx1NbaeLS"
      },
      "execution_count": 47,
      "outputs": []
    },
    {
      "cell_type": "code",
      "source": [
        "output_df.head()"
      ],
      "metadata": {
        "colab": {
          "base_uri": "https://localhost:8080/",
          "height": 206
        },
        "id": "rdEnpSxEbYtU",
        "outputId": "8bde8c3c-8332-457c-8c8c-202b73308cfc"
      },
      "execution_count": 48,
      "outputs": [
        {
          "output_type": "execute_result",
          "data": {
            "text/plain": [
              "          0  index  label           text\n",
              "0  0.965203  15542      1    מאדמועדבהמה\n",
              "1  0.482683  14953      0     דכמיהכטטנו\n",
              "2  0.999794  20832      1    ואכלואתמאשר\n",
              "3  0.857719  20498      1  ומשחתאתמומלאת\n",
              "4  0.418789   1782      1     עשבנתתילכמ"
            ],
            "text/html": [
              "\n",
              "  <div id=\"df-1cff9dfd-0365-4ffa-8d3f-0f7f399165fb\">\n",
              "    <div class=\"colab-df-container\">\n",
              "      <div>\n",
              "<style scoped>\n",
              "    .dataframe tbody tr th:only-of-type {\n",
              "        vertical-align: middle;\n",
              "    }\n",
              "\n",
              "    .dataframe tbody tr th {\n",
              "        vertical-align: top;\n",
              "    }\n",
              "\n",
              "    .dataframe thead th {\n",
              "        text-align: right;\n",
              "    }\n",
              "</style>\n",
              "<table border=\"1\" class=\"dataframe\">\n",
              "  <thead>\n",
              "    <tr style=\"text-align: right;\">\n",
              "      <th></th>\n",
              "      <th>0</th>\n",
              "      <th>index</th>\n",
              "      <th>label</th>\n",
              "      <th>text</th>\n",
              "    </tr>\n",
              "  </thead>\n",
              "  <tbody>\n",
              "    <tr>\n",
              "      <th>0</th>\n",
              "      <td>0.965203</td>\n",
              "      <td>15542</td>\n",
              "      <td>1</td>\n",
              "      <td>מאדמועדבהמה</td>\n",
              "    </tr>\n",
              "    <tr>\n",
              "      <th>1</th>\n",
              "      <td>0.482683</td>\n",
              "      <td>14953</td>\n",
              "      <td>0</td>\n",
              "      <td>דכמיהכטטנו</td>\n",
              "    </tr>\n",
              "    <tr>\n",
              "      <th>2</th>\n",
              "      <td>0.999794</td>\n",
              "      <td>20832</td>\n",
              "      <td>1</td>\n",
              "      <td>ואכלואתמאשר</td>\n",
              "    </tr>\n",
              "    <tr>\n",
              "      <th>3</th>\n",
              "      <td>0.857719</td>\n",
              "      <td>20498</td>\n",
              "      <td>1</td>\n",
              "      <td>ומשחתאתמומלאת</td>\n",
              "    </tr>\n",
              "    <tr>\n",
              "      <th>4</th>\n",
              "      <td>0.418789</td>\n",
              "      <td>1782</td>\n",
              "      <td>1</td>\n",
              "      <td>עשבנתתילכמ</td>\n",
              "    </tr>\n",
              "  </tbody>\n",
              "</table>\n",
              "</div>\n",
              "      <button class=\"colab-df-convert\" onclick=\"convertToInteractive('df-1cff9dfd-0365-4ffa-8d3f-0f7f399165fb')\"\n",
              "              title=\"Convert this dataframe to an interactive table.\"\n",
              "              style=\"display:none;\">\n",
              "        \n",
              "  <svg xmlns=\"http://www.w3.org/2000/svg\" height=\"24px\"viewBox=\"0 0 24 24\"\n",
              "       width=\"24px\">\n",
              "    <path d=\"M0 0h24v24H0V0z\" fill=\"none\"/>\n",
              "    <path d=\"M18.56 5.44l.94 2.06.94-2.06 2.06-.94-2.06-.94-.94-2.06-.94 2.06-2.06.94zm-11 1L8.5 8.5l.94-2.06 2.06-.94-2.06-.94L8.5 2.5l-.94 2.06-2.06.94zm10 10l.94 2.06.94-2.06 2.06-.94-2.06-.94-.94-2.06-.94 2.06-2.06.94z\"/><path d=\"M17.41 7.96l-1.37-1.37c-.4-.4-.92-.59-1.43-.59-.52 0-1.04.2-1.43.59L10.3 9.45l-7.72 7.72c-.78.78-.78 2.05 0 2.83L4 21.41c.39.39.9.59 1.41.59.51 0 1.02-.2 1.41-.59l7.78-7.78 2.81-2.81c.8-.78.8-2.07 0-2.86zM5.41 20L4 18.59l7.72-7.72 1.47 1.35L5.41 20z\"/>\n",
              "  </svg>\n",
              "      </button>\n",
              "      \n",
              "  <style>\n",
              "    .colab-df-container {\n",
              "      display:flex;\n",
              "      flex-wrap:wrap;\n",
              "      gap: 12px;\n",
              "    }\n",
              "\n",
              "    .colab-df-convert {\n",
              "      background-color: #E8F0FE;\n",
              "      border: none;\n",
              "      border-radius: 50%;\n",
              "      cursor: pointer;\n",
              "      display: none;\n",
              "      fill: #1967D2;\n",
              "      height: 32px;\n",
              "      padding: 0 0 0 0;\n",
              "      width: 32px;\n",
              "    }\n",
              "\n",
              "    .colab-df-convert:hover {\n",
              "      background-color: #E2EBFA;\n",
              "      box-shadow: 0px 1px 2px rgba(60, 64, 67, 0.3), 0px 1px 3px 1px rgba(60, 64, 67, 0.15);\n",
              "      fill: #174EA6;\n",
              "    }\n",
              "\n",
              "    [theme=dark] .colab-df-convert {\n",
              "      background-color: #3B4455;\n",
              "      fill: #D2E3FC;\n",
              "    }\n",
              "\n",
              "    [theme=dark] .colab-df-convert:hover {\n",
              "      background-color: #434B5C;\n",
              "      box-shadow: 0px 1px 3px 1px rgba(0, 0, 0, 0.15);\n",
              "      filter: drop-shadow(0px 1px 2px rgba(0, 0, 0, 0.3));\n",
              "      fill: #FFFFFF;\n",
              "    }\n",
              "  </style>\n",
              "\n",
              "      <script>\n",
              "        const buttonEl =\n",
              "          document.querySelector('#df-1cff9dfd-0365-4ffa-8d3f-0f7f399165fb button.colab-df-convert');\n",
              "        buttonEl.style.display =\n",
              "          google.colab.kernel.accessAllowed ? 'block' : 'none';\n",
              "\n",
              "        async function convertToInteractive(key) {\n",
              "          const element = document.querySelector('#df-1cff9dfd-0365-4ffa-8d3f-0f7f399165fb');\n",
              "          const dataTable =\n",
              "            await google.colab.kernel.invokeFunction('convertToInteractive',\n",
              "                                                     [key], {});\n",
              "          if (!dataTable) return;\n",
              "\n",
              "          const docLinkHtml = 'Like what you see? Visit the ' +\n",
              "            '<a target=\"_blank\" href=https://colab.research.google.com/notebooks/data_table.ipynb>data table notebook</a>'\n",
              "            + ' to learn more about interactive tables.';\n",
              "          element.innerHTML = '';\n",
              "          dataTable['output_type'] = 'display_data';\n",
              "          await google.colab.output.renderOutput(dataTable, element);\n",
              "          const docLink = document.createElement('div');\n",
              "          docLink.innerHTML = docLinkHtml;\n",
              "          element.appendChild(docLink);\n",
              "        }\n",
              "      </script>\n",
              "    </div>\n",
              "  </div>\n",
              "  "
            ]
          },
          "metadata": {},
          "execution_count": 48
        }
      ]
    },
    {
      "cell_type": "code",
      "source": [
        "output_df['prediction'] = output_df[0].round(0).astype('int')"
      ],
      "metadata": {
        "id": "2I2C8rAJcDJ8"
      },
      "execution_count": 49,
      "outputs": []
    },
    {
      "cell_type": "code",
      "source": [
        "output_df.head()"
      ],
      "metadata": {
        "colab": {
          "base_uri": "https://localhost:8080/",
          "height": 206
        },
        "id": "To1qW4cUcULV",
        "outputId": "8f500a26-52c1-46b5-a02e-405681dc430c"
      },
      "execution_count": 50,
      "outputs": [
        {
          "output_type": "execute_result",
          "data": {
            "text/plain": [
              "          0  index  label           text  prediction\n",
              "0  0.965203  15542      1    מאדמועדבהמה           1\n",
              "1  0.482683  14953      0     דכמיהכטטנו           0\n",
              "2  0.999794  20832      1    ואכלואתמאשר           1\n",
              "3  0.857719  20498      1  ומשחתאתמומלאת           1\n",
              "4  0.418789   1782      1     עשבנתתילכמ           0"
            ],
            "text/html": [
              "\n",
              "  <div id=\"df-d8117a99-c35b-4f96-af61-56e2957b467b\">\n",
              "    <div class=\"colab-df-container\">\n",
              "      <div>\n",
              "<style scoped>\n",
              "    .dataframe tbody tr th:only-of-type {\n",
              "        vertical-align: middle;\n",
              "    }\n",
              "\n",
              "    .dataframe tbody tr th {\n",
              "        vertical-align: top;\n",
              "    }\n",
              "\n",
              "    .dataframe thead th {\n",
              "        text-align: right;\n",
              "    }\n",
              "</style>\n",
              "<table border=\"1\" class=\"dataframe\">\n",
              "  <thead>\n",
              "    <tr style=\"text-align: right;\">\n",
              "      <th></th>\n",
              "      <th>0</th>\n",
              "      <th>index</th>\n",
              "      <th>label</th>\n",
              "      <th>text</th>\n",
              "      <th>prediction</th>\n",
              "    </tr>\n",
              "  </thead>\n",
              "  <tbody>\n",
              "    <tr>\n",
              "      <th>0</th>\n",
              "      <td>0.965203</td>\n",
              "      <td>15542</td>\n",
              "      <td>1</td>\n",
              "      <td>מאדמועדבהמה</td>\n",
              "      <td>1</td>\n",
              "    </tr>\n",
              "    <tr>\n",
              "      <th>1</th>\n",
              "      <td>0.482683</td>\n",
              "      <td>14953</td>\n",
              "      <td>0</td>\n",
              "      <td>דכמיהכטטנו</td>\n",
              "      <td>0</td>\n",
              "    </tr>\n",
              "    <tr>\n",
              "      <th>2</th>\n",
              "      <td>0.999794</td>\n",
              "      <td>20832</td>\n",
              "      <td>1</td>\n",
              "      <td>ואכלואתמאשר</td>\n",
              "      <td>1</td>\n",
              "    </tr>\n",
              "    <tr>\n",
              "      <th>3</th>\n",
              "      <td>0.857719</td>\n",
              "      <td>20498</td>\n",
              "      <td>1</td>\n",
              "      <td>ומשחתאתמומלאת</td>\n",
              "      <td>1</td>\n",
              "    </tr>\n",
              "    <tr>\n",
              "      <th>4</th>\n",
              "      <td>0.418789</td>\n",
              "      <td>1782</td>\n",
              "      <td>1</td>\n",
              "      <td>עשבנתתילכמ</td>\n",
              "      <td>0</td>\n",
              "    </tr>\n",
              "  </tbody>\n",
              "</table>\n",
              "</div>\n",
              "      <button class=\"colab-df-convert\" onclick=\"convertToInteractive('df-d8117a99-c35b-4f96-af61-56e2957b467b')\"\n",
              "              title=\"Convert this dataframe to an interactive table.\"\n",
              "              style=\"display:none;\">\n",
              "        \n",
              "  <svg xmlns=\"http://www.w3.org/2000/svg\" height=\"24px\"viewBox=\"0 0 24 24\"\n",
              "       width=\"24px\">\n",
              "    <path d=\"M0 0h24v24H0V0z\" fill=\"none\"/>\n",
              "    <path d=\"M18.56 5.44l.94 2.06.94-2.06 2.06-.94-2.06-.94-.94-2.06-.94 2.06-2.06.94zm-11 1L8.5 8.5l.94-2.06 2.06-.94-2.06-.94L8.5 2.5l-.94 2.06-2.06.94zm10 10l.94 2.06.94-2.06 2.06-.94-2.06-.94-.94-2.06-.94 2.06-2.06.94z\"/><path d=\"M17.41 7.96l-1.37-1.37c-.4-.4-.92-.59-1.43-.59-.52 0-1.04.2-1.43.59L10.3 9.45l-7.72 7.72c-.78.78-.78 2.05 0 2.83L4 21.41c.39.39.9.59 1.41.59.51 0 1.02-.2 1.41-.59l7.78-7.78 2.81-2.81c.8-.78.8-2.07 0-2.86zM5.41 20L4 18.59l7.72-7.72 1.47 1.35L5.41 20z\"/>\n",
              "  </svg>\n",
              "      </button>\n",
              "      \n",
              "  <style>\n",
              "    .colab-df-container {\n",
              "      display:flex;\n",
              "      flex-wrap:wrap;\n",
              "      gap: 12px;\n",
              "    }\n",
              "\n",
              "    .colab-df-convert {\n",
              "      background-color: #E8F0FE;\n",
              "      border: none;\n",
              "      border-radius: 50%;\n",
              "      cursor: pointer;\n",
              "      display: none;\n",
              "      fill: #1967D2;\n",
              "      height: 32px;\n",
              "      padding: 0 0 0 0;\n",
              "      width: 32px;\n",
              "    }\n",
              "\n",
              "    .colab-df-convert:hover {\n",
              "      background-color: #E2EBFA;\n",
              "      box-shadow: 0px 1px 2px rgba(60, 64, 67, 0.3), 0px 1px 3px 1px rgba(60, 64, 67, 0.15);\n",
              "      fill: #174EA6;\n",
              "    }\n",
              "\n",
              "    [theme=dark] .colab-df-convert {\n",
              "      background-color: #3B4455;\n",
              "      fill: #D2E3FC;\n",
              "    }\n",
              "\n",
              "    [theme=dark] .colab-df-convert:hover {\n",
              "      background-color: #434B5C;\n",
              "      box-shadow: 0px 1px 3px 1px rgba(0, 0, 0, 0.15);\n",
              "      filter: drop-shadow(0px 1px 2px rgba(0, 0, 0, 0.3));\n",
              "      fill: #FFFFFF;\n",
              "    }\n",
              "  </style>\n",
              "\n",
              "      <script>\n",
              "        const buttonEl =\n",
              "          document.querySelector('#df-d8117a99-c35b-4f96-af61-56e2957b467b button.colab-df-convert');\n",
              "        buttonEl.style.display =\n",
              "          google.colab.kernel.accessAllowed ? 'block' : 'none';\n",
              "\n",
              "        async function convertToInteractive(key) {\n",
              "          const element = document.querySelector('#df-d8117a99-c35b-4f96-af61-56e2957b467b');\n",
              "          const dataTable =\n",
              "            await google.colab.kernel.invokeFunction('convertToInteractive',\n",
              "                                                     [key], {});\n",
              "          if (!dataTable) return;\n",
              "\n",
              "          const docLinkHtml = 'Like what you see? Visit the ' +\n",
              "            '<a target=\"_blank\" href=https://colab.research.google.com/notebooks/data_table.ipynb>data table notebook</a>'\n",
              "            + ' to learn more about interactive tables.';\n",
              "          element.innerHTML = '';\n",
              "          dataTable['output_type'] = 'display_data';\n",
              "          await google.colab.output.renderOutput(dataTable, element);\n",
              "          const docLink = document.createElement('div');\n",
              "          docLink.innerHTML = docLinkHtml;\n",
              "          element.appendChild(docLink);\n",
              "        }\n",
              "      </script>\n",
              "    </div>\n",
              "  </div>\n",
              "  "
            ]
          },
          "metadata": {},
          "execution_count": 50
        }
      ]
    },
    {
      "cell_type": "code",
      "source": [
        "sum(output_df['label'] == output_df['prediction']) / len(output_df['label']) # accuracy"
      ],
      "metadata": {
        "colab": {
          "base_uri": "https://localhost:8080/"
        },
        "id": "7NFnfi3ucer0",
        "outputId": "f677e5ab-37a7-4d6c-e1f1-9ac8faa83e9c"
      },
      "execution_count": 51,
      "outputs": [
        {
          "output_type": "execute_result",
          "data": {
            "text/plain": [
              "0.8121519613909169"
            ]
          },
          "metadata": {},
          "execution_count": 51
        }
      ]
    },
    {
      "cell_type": "code",
      "source": [
        "test1 = output_df.copy()"
      ],
      "metadata": {
        "id": "ATJw4A0yc4es"
      },
      "execution_count": 52,
      "outputs": []
    },
    {
      "cell_type": "code",
      "source": [
        "confusion_matrix = pd.crosstab(test1['label'], test1['prediction'], rownames=['Actual'], colnames=['Predicted'])"
      ],
      "metadata": {
        "id": "NjJEC_g2dL8N"
      },
      "execution_count": 53,
      "outputs": []
    },
    {
      "cell_type": "code",
      "source": [
        "confusion_matrix"
      ],
      "metadata": {
        "id": "-rrnNVm-dVvz",
        "outputId": "8cc05dce-eb8f-4a4f-a2d4-f4c9943d043d",
        "colab": {
          "base_uri": "https://localhost:8080/",
          "height": 143
        }
      },
      "execution_count": 54,
      "outputs": [
        {
          "output_type": "execute_result",
          "data": {
            "text/plain": [
              "Predicted     0     1\n",
              "Actual               \n",
              "0          6615  1466\n",
              "1          1570  6511"
            ],
            "text/html": [
              "\n",
              "  <div id=\"df-7d03cdc7-7abd-4633-ab90-3a2b01042a34\">\n",
              "    <div class=\"colab-df-container\">\n",
              "      <div>\n",
              "<style scoped>\n",
              "    .dataframe tbody tr th:only-of-type {\n",
              "        vertical-align: middle;\n",
              "    }\n",
              "\n",
              "    .dataframe tbody tr th {\n",
              "        vertical-align: top;\n",
              "    }\n",
              "\n",
              "    .dataframe thead th {\n",
              "        text-align: right;\n",
              "    }\n",
              "</style>\n",
              "<table border=\"1\" class=\"dataframe\">\n",
              "  <thead>\n",
              "    <tr style=\"text-align: right;\">\n",
              "      <th>Predicted</th>\n",
              "      <th>0</th>\n",
              "      <th>1</th>\n",
              "    </tr>\n",
              "    <tr>\n",
              "      <th>Actual</th>\n",
              "      <th></th>\n",
              "      <th></th>\n",
              "    </tr>\n",
              "  </thead>\n",
              "  <tbody>\n",
              "    <tr>\n",
              "      <th>0</th>\n",
              "      <td>6615</td>\n",
              "      <td>1466</td>\n",
              "    </tr>\n",
              "    <tr>\n",
              "      <th>1</th>\n",
              "      <td>1570</td>\n",
              "      <td>6511</td>\n",
              "    </tr>\n",
              "  </tbody>\n",
              "</table>\n",
              "</div>\n",
              "      <button class=\"colab-df-convert\" onclick=\"convertToInteractive('df-7d03cdc7-7abd-4633-ab90-3a2b01042a34')\"\n",
              "              title=\"Convert this dataframe to an interactive table.\"\n",
              "              style=\"display:none;\">\n",
              "        \n",
              "  <svg xmlns=\"http://www.w3.org/2000/svg\" height=\"24px\"viewBox=\"0 0 24 24\"\n",
              "       width=\"24px\">\n",
              "    <path d=\"M0 0h24v24H0V0z\" fill=\"none\"/>\n",
              "    <path d=\"M18.56 5.44l.94 2.06.94-2.06 2.06-.94-2.06-.94-.94-2.06-.94 2.06-2.06.94zm-11 1L8.5 8.5l.94-2.06 2.06-.94-2.06-.94L8.5 2.5l-.94 2.06-2.06.94zm10 10l.94 2.06.94-2.06 2.06-.94-2.06-.94-.94-2.06-.94 2.06-2.06.94z\"/><path d=\"M17.41 7.96l-1.37-1.37c-.4-.4-.92-.59-1.43-.59-.52 0-1.04.2-1.43.59L10.3 9.45l-7.72 7.72c-.78.78-.78 2.05 0 2.83L4 21.41c.39.39.9.59 1.41.59.51 0 1.02-.2 1.41-.59l7.78-7.78 2.81-2.81c.8-.78.8-2.07 0-2.86zM5.41 20L4 18.59l7.72-7.72 1.47 1.35L5.41 20z\"/>\n",
              "  </svg>\n",
              "      </button>\n",
              "      \n",
              "  <style>\n",
              "    .colab-df-container {\n",
              "      display:flex;\n",
              "      flex-wrap:wrap;\n",
              "      gap: 12px;\n",
              "    }\n",
              "\n",
              "    .colab-df-convert {\n",
              "      background-color: #E8F0FE;\n",
              "      border: none;\n",
              "      border-radius: 50%;\n",
              "      cursor: pointer;\n",
              "      display: none;\n",
              "      fill: #1967D2;\n",
              "      height: 32px;\n",
              "      padding: 0 0 0 0;\n",
              "      width: 32px;\n",
              "    }\n",
              "\n",
              "    .colab-df-convert:hover {\n",
              "      background-color: #E2EBFA;\n",
              "      box-shadow: 0px 1px 2px rgba(60, 64, 67, 0.3), 0px 1px 3px 1px rgba(60, 64, 67, 0.15);\n",
              "      fill: #174EA6;\n",
              "    }\n",
              "\n",
              "    [theme=dark] .colab-df-convert {\n",
              "      background-color: #3B4455;\n",
              "      fill: #D2E3FC;\n",
              "    }\n",
              "\n",
              "    [theme=dark] .colab-df-convert:hover {\n",
              "      background-color: #434B5C;\n",
              "      box-shadow: 0px 1px 3px 1px rgba(0, 0, 0, 0.15);\n",
              "      filter: drop-shadow(0px 1px 2px rgba(0, 0, 0, 0.3));\n",
              "      fill: #FFFFFF;\n",
              "    }\n",
              "  </style>\n",
              "\n",
              "      <script>\n",
              "        const buttonEl =\n",
              "          document.querySelector('#df-7d03cdc7-7abd-4633-ab90-3a2b01042a34 button.colab-df-convert');\n",
              "        buttonEl.style.display =\n",
              "          google.colab.kernel.accessAllowed ? 'block' : 'none';\n",
              "\n",
              "        async function convertToInteractive(key) {\n",
              "          const element = document.querySelector('#df-7d03cdc7-7abd-4633-ab90-3a2b01042a34');\n",
              "          const dataTable =\n",
              "            await google.colab.kernel.invokeFunction('convertToInteractive',\n",
              "                                                     [key], {});\n",
              "          if (!dataTable) return;\n",
              "\n",
              "          const docLinkHtml = 'Like what you see? Visit the ' +\n",
              "            '<a target=\"_blank\" href=https://colab.research.google.com/notebooks/data_table.ipynb>data table notebook</a>'\n",
              "            + ' to learn more about interactive tables.';\n",
              "          element.innerHTML = '';\n",
              "          dataTable['output_type'] = 'display_data';\n",
              "          await google.colab.output.renderOutput(dataTable, element);\n",
              "          const docLink = document.createElement('div');\n",
              "          docLink.innerHTML = docLinkHtml;\n",
              "          element.appendChild(docLink);\n",
              "        }\n",
              "      </script>\n",
              "    </div>\n",
              "  </div>\n",
              "  "
            ]
          },
          "metadata": {},
          "execution_count": 54
        }
      ]
    },
    {
      "cell_type": "code",
      "source": [
        "test1.rename(columns={0: \"prediction_probability\"}, inplace=True)"
      ],
      "metadata": {
        "id": "-UyI_gUgfGNw"
      },
      "execution_count": 55,
      "outputs": []
    },
    {
      "cell_type": "code",
      "source": [
        "test1.columns"
      ],
      "metadata": {
        "id": "-p5B6HmCfCFz",
        "outputId": "9a43c15c-f41c-40d9-e140-07499fd15d4f",
        "colab": {
          "base_uri": "https://localhost:8080/"
        }
      },
      "execution_count": 56,
      "outputs": [
        {
          "output_type": "execute_result",
          "data": {
            "text/plain": [
              "Index(['prediction_probability', 'index', 'label', 'text', 'prediction'], dtype='object')"
            ]
          },
          "metadata": {},
          "execution_count": 56
        }
      ]
    },
    {
      "cell_type": "code",
      "source": [
        "test1_output = test1[['text', 'label', 'prediction', 'prediction_probability']]"
      ],
      "metadata": {
        "id": "aj7Ar61UfZo7"
      },
      "execution_count": 57,
      "outputs": []
    },
    {
      "cell_type": "code",
      "source": [
        "test1_output.head()"
      ],
      "metadata": {
        "id": "cGMwwvXQfxiB",
        "outputId": "1aa8212f-e8a7-4896-f6ef-b966b50860b3",
        "colab": {
          "base_uri": "https://localhost:8080/",
          "height": 206
        }
      },
      "execution_count": 58,
      "outputs": [
        {
          "output_type": "execute_result",
          "data": {
            "text/plain": [
              "            text  label  prediction  prediction_probability\n",
              "0    מאדמועדבהמה      1           1                0.965203\n",
              "1     דכמיהכטטנו      0           0                0.482683\n",
              "2    ואכלואתמאשר      1           1                0.999794\n",
              "3  ומשחתאתמומלאת      1           1                0.857719\n",
              "4     עשבנתתילכמ      1           0                0.418789"
            ],
            "text/html": [
              "\n",
              "  <div id=\"df-04ea87e7-70f5-4277-acf6-b61669d8f8d6\">\n",
              "    <div class=\"colab-df-container\">\n",
              "      <div>\n",
              "<style scoped>\n",
              "    .dataframe tbody tr th:only-of-type {\n",
              "        vertical-align: middle;\n",
              "    }\n",
              "\n",
              "    .dataframe tbody tr th {\n",
              "        vertical-align: top;\n",
              "    }\n",
              "\n",
              "    .dataframe thead th {\n",
              "        text-align: right;\n",
              "    }\n",
              "</style>\n",
              "<table border=\"1\" class=\"dataframe\">\n",
              "  <thead>\n",
              "    <tr style=\"text-align: right;\">\n",
              "      <th></th>\n",
              "      <th>text</th>\n",
              "      <th>label</th>\n",
              "      <th>prediction</th>\n",
              "      <th>prediction_probability</th>\n",
              "    </tr>\n",
              "  </thead>\n",
              "  <tbody>\n",
              "    <tr>\n",
              "      <th>0</th>\n",
              "      <td>מאדמועדבהמה</td>\n",
              "      <td>1</td>\n",
              "      <td>1</td>\n",
              "      <td>0.965203</td>\n",
              "    </tr>\n",
              "    <tr>\n",
              "      <th>1</th>\n",
              "      <td>דכמיהכטטנו</td>\n",
              "      <td>0</td>\n",
              "      <td>0</td>\n",
              "      <td>0.482683</td>\n",
              "    </tr>\n",
              "    <tr>\n",
              "      <th>2</th>\n",
              "      <td>ואכלואתמאשר</td>\n",
              "      <td>1</td>\n",
              "      <td>1</td>\n",
              "      <td>0.999794</td>\n",
              "    </tr>\n",
              "    <tr>\n",
              "      <th>3</th>\n",
              "      <td>ומשחתאתמומלאת</td>\n",
              "      <td>1</td>\n",
              "      <td>1</td>\n",
              "      <td>0.857719</td>\n",
              "    </tr>\n",
              "    <tr>\n",
              "      <th>4</th>\n",
              "      <td>עשבנתתילכמ</td>\n",
              "      <td>1</td>\n",
              "      <td>0</td>\n",
              "      <td>0.418789</td>\n",
              "    </tr>\n",
              "  </tbody>\n",
              "</table>\n",
              "</div>\n",
              "      <button class=\"colab-df-convert\" onclick=\"convertToInteractive('df-04ea87e7-70f5-4277-acf6-b61669d8f8d6')\"\n",
              "              title=\"Convert this dataframe to an interactive table.\"\n",
              "              style=\"display:none;\">\n",
              "        \n",
              "  <svg xmlns=\"http://www.w3.org/2000/svg\" height=\"24px\"viewBox=\"0 0 24 24\"\n",
              "       width=\"24px\">\n",
              "    <path d=\"M0 0h24v24H0V0z\" fill=\"none\"/>\n",
              "    <path d=\"M18.56 5.44l.94 2.06.94-2.06 2.06-.94-2.06-.94-.94-2.06-.94 2.06-2.06.94zm-11 1L8.5 8.5l.94-2.06 2.06-.94-2.06-.94L8.5 2.5l-.94 2.06-2.06.94zm10 10l.94 2.06.94-2.06 2.06-.94-2.06-.94-.94-2.06-.94 2.06-2.06.94z\"/><path d=\"M17.41 7.96l-1.37-1.37c-.4-.4-.92-.59-1.43-.59-.52 0-1.04.2-1.43.59L10.3 9.45l-7.72 7.72c-.78.78-.78 2.05 0 2.83L4 21.41c.39.39.9.59 1.41.59.51 0 1.02-.2 1.41-.59l7.78-7.78 2.81-2.81c.8-.78.8-2.07 0-2.86zM5.41 20L4 18.59l7.72-7.72 1.47 1.35L5.41 20z\"/>\n",
              "  </svg>\n",
              "      </button>\n",
              "      \n",
              "  <style>\n",
              "    .colab-df-container {\n",
              "      display:flex;\n",
              "      flex-wrap:wrap;\n",
              "      gap: 12px;\n",
              "    }\n",
              "\n",
              "    .colab-df-convert {\n",
              "      background-color: #E8F0FE;\n",
              "      border: none;\n",
              "      border-radius: 50%;\n",
              "      cursor: pointer;\n",
              "      display: none;\n",
              "      fill: #1967D2;\n",
              "      height: 32px;\n",
              "      padding: 0 0 0 0;\n",
              "      width: 32px;\n",
              "    }\n",
              "\n",
              "    .colab-df-convert:hover {\n",
              "      background-color: #E2EBFA;\n",
              "      box-shadow: 0px 1px 2px rgba(60, 64, 67, 0.3), 0px 1px 3px 1px rgba(60, 64, 67, 0.15);\n",
              "      fill: #174EA6;\n",
              "    }\n",
              "\n",
              "    [theme=dark] .colab-df-convert {\n",
              "      background-color: #3B4455;\n",
              "      fill: #D2E3FC;\n",
              "    }\n",
              "\n",
              "    [theme=dark] .colab-df-convert:hover {\n",
              "      background-color: #434B5C;\n",
              "      box-shadow: 0px 1px 3px 1px rgba(0, 0, 0, 0.15);\n",
              "      filter: drop-shadow(0px 1px 2px rgba(0, 0, 0, 0.3));\n",
              "      fill: #FFFFFF;\n",
              "    }\n",
              "  </style>\n",
              "\n",
              "      <script>\n",
              "        const buttonEl =\n",
              "          document.querySelector('#df-04ea87e7-70f5-4277-acf6-b61669d8f8d6 button.colab-df-convert');\n",
              "        buttonEl.style.display =\n",
              "          google.colab.kernel.accessAllowed ? 'block' : 'none';\n",
              "\n",
              "        async function convertToInteractive(key) {\n",
              "          const element = document.querySelector('#df-04ea87e7-70f5-4277-acf6-b61669d8f8d6');\n",
              "          const dataTable =\n",
              "            await google.colab.kernel.invokeFunction('convertToInteractive',\n",
              "                                                     [key], {});\n",
              "          if (!dataTable) return;\n",
              "\n",
              "          const docLinkHtml = 'Like what you see? Visit the ' +\n",
              "            '<a target=\"_blank\" href=https://colab.research.google.com/notebooks/data_table.ipynb>data table notebook</a>'\n",
              "            + ' to learn more about interactive tables.';\n",
              "          element.innerHTML = '';\n",
              "          dataTable['output_type'] = 'display_data';\n",
              "          await google.colab.output.renderOutput(dataTable, element);\n",
              "          const docLink = document.createElement('div');\n",
              "          docLink.innerHTML = docLinkHtml;\n",
              "          element.appendChild(docLink);\n",
              "        }\n",
              "      </script>\n",
              "    </div>\n",
              "  </div>\n",
              "  "
            ]
          },
          "metadata": {},
          "execution_count": 58
        }
      ]
    },
    {
      "cell_type": "code",
      "source": [
        "from google.colab import files\n",
        "\n",
        "test1_output.to_csv('RNNtest1.csv', index=False ,encoding = 'utf-8-sig') \n",
        "files.download('RNNtest1.csv')"
      ],
      "metadata": {
        "id": "v_ZLSAzkdyCr",
        "outputId": "3cb1d961-e526-40dc-f415-ae07586de14f",
        "colab": {
          "base_uri": "https://localhost:8080/",
          "height": 17
        }
      },
      "execution_count": 125,
      "outputs": [
        {
          "output_type": "display_data",
          "data": {
            "text/plain": [
              "<IPython.core.display.Javascript object>"
            ],
            "application/javascript": [
              "\n",
              "    async function download(id, filename, size) {\n",
              "      if (!google.colab.kernel.accessAllowed) {\n",
              "        return;\n",
              "      }\n",
              "      const div = document.createElement('div');\n",
              "      const label = document.createElement('label');\n",
              "      label.textContent = `Downloading \"${filename}\": `;\n",
              "      div.appendChild(label);\n",
              "      const progress = document.createElement('progress');\n",
              "      progress.max = size;\n",
              "      div.appendChild(progress);\n",
              "      document.body.appendChild(div);\n",
              "\n",
              "      const buffers = [];\n",
              "      let downloaded = 0;\n",
              "\n",
              "      const channel = await google.colab.kernel.comms.open(id);\n",
              "      // Send a message to notify the kernel that we're ready.\n",
              "      channel.send({})\n",
              "\n",
              "      for await (const message of channel.messages) {\n",
              "        // Send a message to notify the kernel that we're ready.\n",
              "        channel.send({})\n",
              "        if (message.buffers) {\n",
              "          for (const buffer of message.buffers) {\n",
              "            buffers.push(buffer);\n",
              "            downloaded += buffer.byteLength;\n",
              "            progress.value = downloaded;\n",
              "          }\n",
              "        }\n",
              "      }\n",
              "      const blob = new Blob(buffers, {type: 'application/binary'});\n",
              "      const a = document.createElement('a');\n",
              "      a.href = window.URL.createObjectURL(blob);\n",
              "      a.download = filename;\n",
              "      div.appendChild(a);\n",
              "      a.click();\n",
              "      div.remove();\n",
              "    }\n",
              "  "
            ]
          },
          "metadata": {}
        },
        {
          "output_type": "display_data",
          "data": {
            "text/plain": [
              "<IPython.core.display.Javascript object>"
            ],
            "application/javascript": [
              "download(\"download_9b517cf3-11f2-4b3a-9a6f-dd46723ae84e\", \"RNNtest1.csv\", 631804)"
            ]
          },
          "metadata": {}
        }
      ]
    },
    {
      "cell_type": "markdown",
      "source": [
        "## Apply the model on skipped text."
      ],
      "metadata": {
        "id": "Ai_zpVQB1YnH"
      }
    },
    {
      "cell_type": "code",
      "source": [
        "req = requests.get(\"https://github.com/mannmoshe/text-recognition/raw/main/torah_skips_of_2.txt\")\n",
        "#req.encoding = 'ISO-8859-8'\n",
        "torah_skips_of_2 = req.text.replace('ם','מ').replace('ן','נ').replace('ץ','צ').replace('ף','פ').replace('ך','כ')"
      ],
      "metadata": {
        "id": "Zkg_PkMsix3U"
      },
      "execution_count": 94,
      "outputs": []
    },
    {
      "cell_type": "code",
      "source": [
        "torah_skips_of_2[:10]"
      ],
      "metadata": {
        "id": "T9vQEubsi4jb",
        "outputId": "e870533c-0ac9-4b21-f8e9-58d278f85c0e",
        "colab": {
          "base_uri": "https://localhost:8080/",
          "height": 35
        }
      },
      "execution_count": 95,
      "outputs": [
        {
          "output_type": "execute_result",
          "data": {
            "text/plain": [
              "'באיבאליאהמ'"
            ],
            "application/vnd.google.colaboratory.intrinsic+json": {
              "type": "string"
            }
          },
          "metadata": {},
          "execution_count": 95
        }
      ]
    },
    {
      "cell_type": "code",
      "source": [
        "phrases_12 = {}\n",
        "\n",
        "for i in range(0, len(torah_skips_of_2) - 12, 12):\n",
        "  word = torah_skips_of_2[i:i + 12]\n",
        "  phrases_12[word] = [i*2, i*2 + 12]"
      ],
      "metadata": {
        "id": "VM1nofI7jIWz"
      },
      "execution_count": 96,
      "outputs": []
    },
    {
      "cell_type": "code",
      "source": [
        "phrases_12_df = pd.DataFrame.from_dict(dict(phrases_12.items()), orient='index').reset_index()"
      ],
      "metadata": {
        "id": "VpZc_p7akXsc"
      },
      "execution_count": 97,
      "outputs": []
    },
    {
      "cell_type": "code",
      "source": [
        "phrases_12_df.columns = ['text', 'start_index', 'end_index']"
      ],
      "metadata": {
        "id": "MQMGrlgJk8li"
      },
      "execution_count": 98,
      "outputs": []
    },
    {
      "cell_type": "code",
      "source": [
        "phrases_12_df.head()"
      ],
      "metadata": {
        "id": "TMhmQZFbkjmv",
        "outputId": "005ed7e7-57a4-4735-defd-b7ba01316527",
        "colab": {
          "base_uri": "https://localhost:8080/",
          "height": 206
        }
      },
      "execution_count": 99,
      "outputs": [
        {
          "output_type": "execute_result",
          "data": {
            "text/plain": [
              "           text  start_index  end_index\n",
              "0  באיבאליאהממא            0         12\n",
              "1  הרואציההוהוש           24         36\n",
              "2  עפיהמרחלימחת           48         60\n",
              "3  לנהיוארליייו           72         84\n",
              "4  והאריאליאהוכ           96        108"
            ],
            "text/html": [
              "\n",
              "  <div id=\"df-4bef6d2c-3f0e-4c58-88fe-d75f5c739a5a\">\n",
              "    <div class=\"colab-df-container\">\n",
              "      <div>\n",
              "<style scoped>\n",
              "    .dataframe tbody tr th:only-of-type {\n",
              "        vertical-align: middle;\n",
              "    }\n",
              "\n",
              "    .dataframe tbody tr th {\n",
              "        vertical-align: top;\n",
              "    }\n",
              "\n",
              "    .dataframe thead th {\n",
              "        text-align: right;\n",
              "    }\n",
              "</style>\n",
              "<table border=\"1\" class=\"dataframe\">\n",
              "  <thead>\n",
              "    <tr style=\"text-align: right;\">\n",
              "      <th></th>\n",
              "      <th>text</th>\n",
              "      <th>start_index</th>\n",
              "      <th>end_index</th>\n",
              "    </tr>\n",
              "  </thead>\n",
              "  <tbody>\n",
              "    <tr>\n",
              "      <th>0</th>\n",
              "      <td>באיבאליאהממא</td>\n",
              "      <td>0</td>\n",
              "      <td>12</td>\n",
              "    </tr>\n",
              "    <tr>\n",
              "      <th>1</th>\n",
              "      <td>הרואציההוהוש</td>\n",
              "      <td>24</td>\n",
              "      <td>36</td>\n",
              "    </tr>\n",
              "    <tr>\n",
              "      <th>2</th>\n",
              "      <td>עפיהמרחלימחת</td>\n",
              "      <td>48</td>\n",
              "      <td>60</td>\n",
              "    </tr>\n",
              "    <tr>\n",
              "      <th>3</th>\n",
              "      <td>לנהיוארליייו</td>\n",
              "      <td>72</td>\n",
              "      <td>84</td>\n",
              "    </tr>\n",
              "    <tr>\n",
              "      <th>4</th>\n",
              "      <td>והאריאליאהוכ</td>\n",
              "      <td>96</td>\n",
              "      <td>108</td>\n",
              "    </tr>\n",
              "  </tbody>\n",
              "</table>\n",
              "</div>\n",
              "      <button class=\"colab-df-convert\" onclick=\"convertToInteractive('df-4bef6d2c-3f0e-4c58-88fe-d75f5c739a5a')\"\n",
              "              title=\"Convert this dataframe to an interactive table.\"\n",
              "              style=\"display:none;\">\n",
              "        \n",
              "  <svg xmlns=\"http://www.w3.org/2000/svg\" height=\"24px\"viewBox=\"0 0 24 24\"\n",
              "       width=\"24px\">\n",
              "    <path d=\"M0 0h24v24H0V0z\" fill=\"none\"/>\n",
              "    <path d=\"M18.56 5.44l.94 2.06.94-2.06 2.06-.94-2.06-.94-.94-2.06-.94 2.06-2.06.94zm-11 1L8.5 8.5l.94-2.06 2.06-.94-2.06-.94L8.5 2.5l-.94 2.06-2.06.94zm10 10l.94 2.06.94-2.06 2.06-.94-2.06-.94-.94-2.06-.94 2.06-2.06.94z\"/><path d=\"M17.41 7.96l-1.37-1.37c-.4-.4-.92-.59-1.43-.59-.52 0-1.04.2-1.43.59L10.3 9.45l-7.72 7.72c-.78.78-.78 2.05 0 2.83L4 21.41c.39.39.9.59 1.41.59.51 0 1.02-.2 1.41-.59l7.78-7.78 2.81-2.81c.8-.78.8-2.07 0-2.86zM5.41 20L4 18.59l7.72-7.72 1.47 1.35L5.41 20z\"/>\n",
              "  </svg>\n",
              "      </button>\n",
              "      \n",
              "  <style>\n",
              "    .colab-df-container {\n",
              "      display:flex;\n",
              "      flex-wrap:wrap;\n",
              "      gap: 12px;\n",
              "    }\n",
              "\n",
              "    .colab-df-convert {\n",
              "      background-color: #E8F0FE;\n",
              "      border: none;\n",
              "      border-radius: 50%;\n",
              "      cursor: pointer;\n",
              "      display: none;\n",
              "      fill: #1967D2;\n",
              "      height: 32px;\n",
              "      padding: 0 0 0 0;\n",
              "      width: 32px;\n",
              "    }\n",
              "\n",
              "    .colab-df-convert:hover {\n",
              "      background-color: #E2EBFA;\n",
              "      box-shadow: 0px 1px 2px rgba(60, 64, 67, 0.3), 0px 1px 3px 1px rgba(60, 64, 67, 0.15);\n",
              "      fill: #174EA6;\n",
              "    }\n",
              "\n",
              "    [theme=dark] .colab-df-convert {\n",
              "      background-color: #3B4455;\n",
              "      fill: #D2E3FC;\n",
              "    }\n",
              "\n",
              "    [theme=dark] .colab-df-convert:hover {\n",
              "      background-color: #434B5C;\n",
              "      box-shadow: 0px 1px 3px 1px rgba(0, 0, 0, 0.15);\n",
              "      filter: drop-shadow(0px 1px 2px rgba(0, 0, 0, 0.3));\n",
              "      fill: #FFFFFF;\n",
              "    }\n",
              "  </style>\n",
              "\n",
              "      <script>\n",
              "        const buttonEl =\n",
              "          document.querySelector('#df-4bef6d2c-3f0e-4c58-88fe-d75f5c739a5a button.colab-df-convert');\n",
              "        buttonEl.style.display =\n",
              "          google.colab.kernel.accessAllowed ? 'block' : 'none';\n",
              "\n",
              "        async function convertToInteractive(key) {\n",
              "          const element = document.querySelector('#df-4bef6d2c-3f0e-4c58-88fe-d75f5c739a5a');\n",
              "          const dataTable =\n",
              "            await google.colab.kernel.invokeFunction('convertToInteractive',\n",
              "                                                     [key], {});\n",
              "          if (!dataTable) return;\n",
              "\n",
              "          const docLinkHtml = 'Like what you see? Visit the ' +\n",
              "            '<a target=\"_blank\" href=https://colab.research.google.com/notebooks/data_table.ipynb>data table notebook</a>'\n",
              "            + ' to learn more about interactive tables.';\n",
              "          element.innerHTML = '';\n",
              "          dataTable['output_type'] = 'display_data';\n",
              "          await google.colab.output.renderOutput(dataTable, element);\n",
              "          const docLink = document.createElement('div');\n",
              "          docLink.innerHTML = docLinkHtml;\n",
              "          element.appendChild(docLink);\n",
              "        }\n",
              "      </script>\n",
              "    </div>\n",
              "  </div>\n",
              "  "
            ]
          },
          "metadata": {},
          "execution_count": 99
        }
      ]
    },
    {
      "cell_type": "code",
      "source": [
        "phrases_12_df.shape"
      ],
      "metadata": {
        "id": "WXd68NbIlOGR",
        "outputId": "7be45a77-735d-4958-8417-52c01f514668",
        "colab": {
          "base_uri": "https://localhost:8080/"
        }
      },
      "execution_count": 100,
      "outputs": [
        {
          "output_type": "execute_result",
          "data": {
            "text/plain": [
              "(12671, 3)"
            ]
          },
          "metadata": {},
          "execution_count": 100
        }
      ]
    },
    {
      "cell_type": "code",
      "source": [
        "X = phrases_12_df['text']"
      ],
      "metadata": {
        "id": "DQPS2epQlyy7"
      },
      "execution_count": 101,
      "outputs": []
    },
    {
      "cell_type": "code",
      "source": [
        "X_samples = X.tolist()"
      ],
      "metadata": {
        "id": "2nuVTXqel-P5"
      },
      "execution_count": 102,
      "outputs": []
    },
    {
      "cell_type": "code",
      "source": [
        "X_samples[:10]"
      ],
      "metadata": {
        "id": "HDs9EH3ZmbjQ",
        "outputId": "33f3099b-c886-40f1-b2de-c08676c6dad4",
        "colab": {
          "base_uri": "https://localhost:8080/"
        }
      },
      "execution_count": 103,
      "outputs": [
        {
          "output_type": "execute_result",
          "data": {
            "text/plain": [
              "['באיבאליאהממא',\n",
              " 'הרואציההוהוש',\n",
              " 'עפיהמרחלימחת',\n",
              " 'לנהיוארליייו',\n",
              " 'והאריאליאהוכ',\n",
              " 'טבידאהמיהווי',\n",
              " 'השוקאלילוימל',\n",
              " 'שקאיהיירוהבר',\n",
              " 'ואדימאהמהריב',\n",
              " 'והיוהמדלימממ']"
            ]
          },
          "metadata": {},
          "execution_count": 103
        }
      ]
    },
    {
      "cell_type": "code",
      "source": [
        "type(X_samples)"
      ],
      "metadata": {
        "id": "nwmcKnfFnxi-",
        "outputId": "33c6db24-0fca-44b8-9a38-4bad97a833ec",
        "colab": {
          "base_uri": "https://localhost:8080/"
        }
      },
      "execution_count": 104,
      "outputs": [
        {
          "output_type": "execute_result",
          "data": {
            "text/plain": [
              "list"
            ]
          },
          "metadata": {},
          "execution_count": 104
        }
      ]
    },
    {
      "cell_type": "code",
      "source": [
        "X_sequences = tokenizer.texts_to_sequences(X_samples)"
      ],
      "metadata": {
        "id": "WQlWJUutmyGw"
      },
      "execution_count": 105,
      "outputs": []
    },
    {
      "cell_type": "code",
      "source": [
        "X_sequences[:10]"
      ],
      "metadata": {
        "id": "wfDA_Y1Fm2r0",
        "outputId": "6fba6212-a1cf-4197-dbdc-e0723b3a1cd6",
        "colab": {
          "base_uri": "https://localhost:8080/"
        }
      },
      "execution_count": 106,
      "outputs": [
        {
          "output_type": "execute_result",
          "data": {
            "text/plain": [
              "[[9, 4, 1, 9, 4, 6, 1, 4, 3, 5, 5, 4],\n",
              " [3, 8, 2, 4, 18, 1, 3, 3, 2, 3, 2, 10],\n",
              " [13, 17, 1, 3, 5, 8, 14, 6, 1, 5, 14, 7],\n",
              " [6, 11, 3, 1, 2, 4, 8, 6, 1, 1, 1, 2],\n",
              " [2, 3, 4, 8, 1, 4, 6, 1, 4, 3, 2, 12],\n",
              " [22, 9, 1, 15, 4, 3, 5, 1, 3, 2, 2, 1],\n",
              " [3, 10, 2, 16, 4, 6, 1, 6, 2, 1, 5, 6],\n",
              " [10, 16, 4, 1, 3, 1, 1, 8, 2, 3, 9, 8],\n",
              " [2, 4, 15, 1, 5, 4, 3, 5, 3, 8, 1, 9],\n",
              " [2, 3, 1, 2, 3, 5, 15, 6, 1, 5, 5, 5]]"
            ]
          },
          "metadata": {},
          "execution_count": 106
        }
      ]
    },
    {
      "cell_type": "code",
      "source": [
        "X_embedding = []\n",
        "\n",
        "for s in X_sequences:\n",
        "  if len(s) >= 12:\n",
        "    X_embedding.append(s[:12])\n",
        "  else:\n",
        "    X_embedding.append(s + [0]*(max_len-len(s)))\n",
        "\n",
        "X_embedding = np.array(X_embedding)"
      ],
      "metadata": {
        "id": "pbbZxAtUm5mE"
      },
      "execution_count": 107,
      "outputs": []
    },
    {
      "cell_type": "code",
      "source": [
        "X_embedding[:10]"
      ],
      "metadata": {
        "id": "x_n5thonnKRH",
        "outputId": "3b44006b-a2a5-4f99-d502-0f163b377bca",
        "colab": {
          "base_uri": "https://localhost:8080/"
        }
      },
      "execution_count": 108,
      "outputs": [
        {
          "output_type": "execute_result",
          "data": {
            "text/plain": [
              "array([[ 9,  4,  1,  9,  4,  6,  1,  4,  3,  5,  5,  4],\n",
              "       [ 3,  8,  2,  4, 18,  1,  3,  3,  2,  3,  2, 10],\n",
              "       [13, 17,  1,  3,  5,  8, 14,  6,  1,  5, 14,  7],\n",
              "       [ 6, 11,  3,  1,  2,  4,  8,  6,  1,  1,  1,  2],\n",
              "       [ 2,  3,  4,  8,  1,  4,  6,  1,  4,  3,  2, 12],\n",
              "       [22,  9,  1, 15,  4,  3,  5,  1,  3,  2,  2,  1],\n",
              "       [ 3, 10,  2, 16,  4,  6,  1,  6,  2,  1,  5,  6],\n",
              "       [10, 16,  4,  1,  3,  1,  1,  8,  2,  3,  9,  8],\n",
              "       [ 2,  4, 15,  1,  5,  4,  3,  5,  3,  8,  1,  9],\n",
              "       [ 2,  3,  1,  2,  3,  5, 15,  6,  1,  5,  5,  5]])"
            ]
          },
          "metadata": {},
          "execution_count": 108
        }
      ]
    },
    {
      "cell_type": "code",
      "source": [
        "X_predictions = model.predict(X_embedding)"
      ],
      "metadata": {
        "id": "MwjIZkgynOJx",
        "outputId": "88575a9d-c043-4b67-e1f3-e676f7896f4f",
        "colab": {
          "base_uri": "https://localhost:8080/"
        }
      },
      "execution_count": 109,
      "outputs": [
        {
          "output_type": "stream",
          "name": "stdout",
          "text": [
            "396/396 [==============================] - 3s 8ms/step\n"
          ]
        }
      ]
    },
    {
      "cell_type": "code",
      "source": [
        "type(X_predictions)"
      ],
      "metadata": {
        "id": "6AzMM52kneeP",
        "outputId": "cb3a660c-9eb2-499e-8195-f9ba096c20ad",
        "colab": {
          "base_uri": "https://localhost:8080/"
        }
      },
      "execution_count": 110,
      "outputs": [
        {
          "output_type": "execute_result",
          "data": {
            "text/plain": [
              "numpy.ndarray"
            ]
          },
          "metadata": {},
          "execution_count": 110
        }
      ]
    },
    {
      "cell_type": "code",
      "source": [
        "X_predictions[:10]"
      ],
      "metadata": {
        "id": "EjLzufNQntAX",
        "outputId": "41caf5b6-7345-44ad-9621-7a71beb8d29e",
        "colab": {
          "base_uri": "https://localhost:8080/"
        }
      },
      "execution_count": 111,
      "outputs": [
        {
          "output_type": "execute_result",
          "data": {
            "text/plain": [
              "array([[0.7352238 ],\n",
              "       [0.9875728 ],\n",
              "       [0.03837406],\n",
              "       [0.56807965],\n",
              "       [0.99272925],\n",
              "       [0.405763  ],\n",
              "       [0.5365559 ],\n",
              "       [0.00107486],\n",
              "       [0.94173795],\n",
              "       [0.48087874]], dtype=float32)"
            ]
          },
          "metadata": {},
          "execution_count": 111
        }
      ]
    },
    {
      "cell_type": "code",
      "source": [
        "test2_output = pd.concat([pd.Series(X_samples), pd.Series(map(lambda x: x[0], X_predictions)), phrases_12_df['start_index'], phrases_12_df['end_index']], axis=1)"
      ],
      "metadata": {
        "id": "rfmpqwnxn3Nu"
      },
      "execution_count": 112,
      "outputs": []
    },
    {
      "cell_type": "code",
      "source": [
        "test2_output['prediction'] = test2_output[1].round(0).astype('int')"
      ],
      "metadata": {
        "id": "h81l6cAlpNqL"
      },
      "execution_count": 113,
      "outputs": []
    },
    {
      "cell_type": "code",
      "source": [
        "test2_output.columns = ['text', 'pred_prob','start_index', 'end_index', 'prediction']"
      ],
      "metadata": {
        "id": "oX8yzqiSpH1p"
      },
      "execution_count": 114,
      "outputs": []
    },
    {
      "cell_type": "code",
      "source": [
        "test2_output = test2_output[['text', 'prediction', 'pred_prob','start_index', 'end_index']]"
      ],
      "metadata": {
        "id": "KLYmLrOKpjoh"
      },
      "execution_count": 115,
      "outputs": []
    },
    {
      "cell_type": "code",
      "source": [
        "test2_output.head()"
      ],
      "metadata": {
        "id": "A_KJaUVApGGS",
        "outputId": "26d6362b-a97b-4897-89fe-912f891cef07",
        "colab": {
          "base_uri": "https://localhost:8080/",
          "height": 206
        }
      },
      "execution_count": 116,
      "outputs": [
        {
          "output_type": "execute_result",
          "data": {
            "text/plain": [
              "           text  prediction  pred_prob  start_index  end_index\n",
              "0  באיבאליאהממא           1   0.735224            0         12\n",
              "1  הרואציההוהוש           1   0.987573           24         36\n",
              "2  עפיהמרחלימחת           0   0.038374           48         60\n",
              "3  לנהיוארליייו           1   0.568080           72         84\n",
              "4  והאריאליאהוכ           1   0.992729           96        108"
            ],
            "text/html": [
              "\n",
              "  <div id=\"df-b354c32a-45e0-4337-87e0-03234b595cd3\">\n",
              "    <div class=\"colab-df-container\">\n",
              "      <div>\n",
              "<style scoped>\n",
              "    .dataframe tbody tr th:only-of-type {\n",
              "        vertical-align: middle;\n",
              "    }\n",
              "\n",
              "    .dataframe tbody tr th {\n",
              "        vertical-align: top;\n",
              "    }\n",
              "\n",
              "    .dataframe thead th {\n",
              "        text-align: right;\n",
              "    }\n",
              "</style>\n",
              "<table border=\"1\" class=\"dataframe\">\n",
              "  <thead>\n",
              "    <tr style=\"text-align: right;\">\n",
              "      <th></th>\n",
              "      <th>text</th>\n",
              "      <th>prediction</th>\n",
              "      <th>pred_prob</th>\n",
              "      <th>start_index</th>\n",
              "      <th>end_index</th>\n",
              "    </tr>\n",
              "  </thead>\n",
              "  <tbody>\n",
              "    <tr>\n",
              "      <th>0</th>\n",
              "      <td>באיבאליאהממא</td>\n",
              "      <td>1</td>\n",
              "      <td>0.735224</td>\n",
              "      <td>0</td>\n",
              "      <td>12</td>\n",
              "    </tr>\n",
              "    <tr>\n",
              "      <th>1</th>\n",
              "      <td>הרואציההוהוש</td>\n",
              "      <td>1</td>\n",
              "      <td>0.987573</td>\n",
              "      <td>24</td>\n",
              "      <td>36</td>\n",
              "    </tr>\n",
              "    <tr>\n",
              "      <th>2</th>\n",
              "      <td>עפיהמרחלימחת</td>\n",
              "      <td>0</td>\n",
              "      <td>0.038374</td>\n",
              "      <td>48</td>\n",
              "      <td>60</td>\n",
              "    </tr>\n",
              "    <tr>\n",
              "      <th>3</th>\n",
              "      <td>לנהיוארליייו</td>\n",
              "      <td>1</td>\n",
              "      <td>0.568080</td>\n",
              "      <td>72</td>\n",
              "      <td>84</td>\n",
              "    </tr>\n",
              "    <tr>\n",
              "      <th>4</th>\n",
              "      <td>והאריאליאהוכ</td>\n",
              "      <td>1</td>\n",
              "      <td>0.992729</td>\n",
              "      <td>96</td>\n",
              "      <td>108</td>\n",
              "    </tr>\n",
              "  </tbody>\n",
              "</table>\n",
              "</div>\n",
              "      <button class=\"colab-df-convert\" onclick=\"convertToInteractive('df-b354c32a-45e0-4337-87e0-03234b595cd3')\"\n",
              "              title=\"Convert this dataframe to an interactive table.\"\n",
              "              style=\"display:none;\">\n",
              "        \n",
              "  <svg xmlns=\"http://www.w3.org/2000/svg\" height=\"24px\"viewBox=\"0 0 24 24\"\n",
              "       width=\"24px\">\n",
              "    <path d=\"M0 0h24v24H0V0z\" fill=\"none\"/>\n",
              "    <path d=\"M18.56 5.44l.94 2.06.94-2.06 2.06-.94-2.06-.94-.94-2.06-.94 2.06-2.06.94zm-11 1L8.5 8.5l.94-2.06 2.06-.94-2.06-.94L8.5 2.5l-.94 2.06-2.06.94zm10 10l.94 2.06.94-2.06 2.06-.94-2.06-.94-.94-2.06-.94 2.06-2.06.94z\"/><path d=\"M17.41 7.96l-1.37-1.37c-.4-.4-.92-.59-1.43-.59-.52 0-1.04.2-1.43.59L10.3 9.45l-7.72 7.72c-.78.78-.78 2.05 0 2.83L4 21.41c.39.39.9.59 1.41.59.51 0 1.02-.2 1.41-.59l7.78-7.78 2.81-2.81c.8-.78.8-2.07 0-2.86zM5.41 20L4 18.59l7.72-7.72 1.47 1.35L5.41 20z\"/>\n",
              "  </svg>\n",
              "      </button>\n",
              "      \n",
              "  <style>\n",
              "    .colab-df-container {\n",
              "      display:flex;\n",
              "      flex-wrap:wrap;\n",
              "      gap: 12px;\n",
              "    }\n",
              "\n",
              "    .colab-df-convert {\n",
              "      background-color: #E8F0FE;\n",
              "      border: none;\n",
              "      border-radius: 50%;\n",
              "      cursor: pointer;\n",
              "      display: none;\n",
              "      fill: #1967D2;\n",
              "      height: 32px;\n",
              "      padding: 0 0 0 0;\n",
              "      width: 32px;\n",
              "    }\n",
              "\n",
              "    .colab-df-convert:hover {\n",
              "      background-color: #E2EBFA;\n",
              "      box-shadow: 0px 1px 2px rgba(60, 64, 67, 0.3), 0px 1px 3px 1px rgba(60, 64, 67, 0.15);\n",
              "      fill: #174EA6;\n",
              "    }\n",
              "\n",
              "    [theme=dark] .colab-df-convert {\n",
              "      background-color: #3B4455;\n",
              "      fill: #D2E3FC;\n",
              "    }\n",
              "\n",
              "    [theme=dark] .colab-df-convert:hover {\n",
              "      background-color: #434B5C;\n",
              "      box-shadow: 0px 1px 3px 1px rgba(0, 0, 0, 0.15);\n",
              "      filter: drop-shadow(0px 1px 2px rgba(0, 0, 0, 0.3));\n",
              "      fill: #FFFFFF;\n",
              "    }\n",
              "  </style>\n",
              "\n",
              "      <script>\n",
              "        const buttonEl =\n",
              "          document.querySelector('#df-b354c32a-45e0-4337-87e0-03234b595cd3 button.colab-df-convert');\n",
              "        buttonEl.style.display =\n",
              "          google.colab.kernel.accessAllowed ? 'block' : 'none';\n",
              "\n",
              "        async function convertToInteractive(key) {\n",
              "          const element = document.querySelector('#df-b354c32a-45e0-4337-87e0-03234b595cd3');\n",
              "          const dataTable =\n",
              "            await google.colab.kernel.invokeFunction('convertToInteractive',\n",
              "                                                     [key], {});\n",
              "          if (!dataTable) return;\n",
              "\n",
              "          const docLinkHtml = 'Like what you see? Visit the ' +\n",
              "            '<a target=\"_blank\" href=https://colab.research.google.com/notebooks/data_table.ipynb>data table notebook</a>'\n",
              "            + ' to learn more about interactive tables.';\n",
              "          element.innerHTML = '';\n",
              "          dataTable['output_type'] = 'display_data';\n",
              "          await google.colab.output.renderOutput(dataTable, element);\n",
              "          const docLink = document.createElement('div');\n",
              "          docLink.innerHTML = docLinkHtml;\n",
              "          element.appendChild(docLink);\n",
              "        }\n",
              "      </script>\n",
              "    </div>\n",
              "  </div>\n",
              "  "
            ]
          },
          "metadata": {},
          "execution_count": 116
        }
      ]
    },
    {
      "cell_type": "code",
      "source": [
        "from google.colab import files\n",
        "\n",
        "test2_output.to_csv('RNNtest2.csv', index=False ,encoding = 'utf-8-sig') \n",
        "files.download('RNNtest2.csv')"
      ],
      "metadata": {
        "id": "ykI80CPQpp4i",
        "outputId": "0f574348-b49e-456a-c559-b6457bd0b7c0",
        "colab": {
          "base_uri": "https://localhost:8080/",
          "height": 17
        }
      },
      "execution_count": 117,
      "outputs": [
        {
          "output_type": "display_data",
          "data": {
            "text/plain": [
              "<IPython.core.display.Javascript object>"
            ],
            "application/javascript": [
              "\n",
              "    async function download(id, filename, size) {\n",
              "      if (!google.colab.kernel.accessAllowed) {\n",
              "        return;\n",
              "      }\n",
              "      const div = document.createElement('div');\n",
              "      const label = document.createElement('label');\n",
              "      label.textContent = `Downloading \"${filename}\": `;\n",
              "      div.appendChild(label);\n",
              "      const progress = document.createElement('progress');\n",
              "      progress.max = size;\n",
              "      div.appendChild(progress);\n",
              "      document.body.appendChild(div);\n",
              "\n",
              "      const buffers = [];\n",
              "      let downloaded = 0;\n",
              "\n",
              "      const channel = await google.colab.kernel.comms.open(id);\n",
              "      // Send a message to notify the kernel that we're ready.\n",
              "      channel.send({})\n",
              "\n",
              "      for await (const message of channel.messages) {\n",
              "        // Send a message to notify the kernel that we're ready.\n",
              "        channel.send({})\n",
              "        if (message.buffers) {\n",
              "          for (const buffer of message.buffers) {\n",
              "            buffers.push(buffer);\n",
              "            downloaded += buffer.byteLength;\n",
              "            progress.value = downloaded;\n",
              "          }\n",
              "        }\n",
              "      }\n",
              "      const blob = new Blob(buffers, {type: 'application/binary'});\n",
              "      const a = document.createElement('a');\n",
              "      a.href = window.URL.createObjectURL(blob);\n",
              "      a.download = filename;\n",
              "      div.appendChild(a);\n",
              "      a.click();\n",
              "      div.remove();\n",
              "    }\n",
              "  "
            ]
          },
          "metadata": {}
        },
        {
          "output_type": "display_data",
          "data": {
            "text/plain": [
              "<IPython.core.display.Javascript object>"
            ],
            "application/javascript": [
              "download(\"download_de0f6602-fdba-4516-9162-3473a3de5b11\", \"RNNtest2.csv\", 657048)"
            ]
          },
          "metadata": {}
        }
      ]
    },
    {
      "cell_type": "markdown",
      "source": [
        "## Test the model on free text"
      ],
      "metadata": {
        "id": "4bkjAnlH1zs9"
      }
    },
    {
      "cell_type": "code",
      "source": [
        "[l for l in 'ויאמריהוהאלמשה']"
      ],
      "metadata": {
        "colab": {
          "base_uri": "https://localhost:8080/"
        },
        "id": "qcLROIkhXIPR",
        "outputId": "682c3b29-eb90-45a4-ef6b-d104252ab1fb"
      },
      "execution_count": 118,
      "outputs": [
        {
          "output_type": "execute_result",
          "data": {
            "text/plain": [
              "['ו', 'י', 'א', 'מ', 'ר', 'י', 'ה', 'ו', 'ה', 'א', 'ל', 'מ', 'ש', 'ה']"
            ]
          },
          "metadata": {},
          "execution_count": 118
        }
      ]
    },
    {
      "cell_type": "code",
      "source": [
        "[word_index[l] for l in 'ויאמריהוהאלמשה']"
      ],
      "metadata": {
        "colab": {
          "base_uri": "https://localhost:8080/"
        },
        "id": "K47niuBgXmU3",
        "outputId": "1ed781dd-5772-44b5-c75d-ac7de4bd90f5"
      },
      "execution_count": 119,
      "outputs": [
        {
          "output_type": "execute_result",
          "data": {
            "text/plain": [
              "[2, 1, 4, 5, 8, 1, 3, 2, 3, 4, 6, 5, 10, 3]"
            ]
          },
          "metadata": {},
          "execution_count": 119
        }
      ]
    },
    {
      "cell_type": "code",
      "source": [
        "string = 'וידבריהוהאלמשה'"
      ],
      "metadata": {
        "id": "OB8Pj2auX0Zo"
      },
      "execution_count": 120,
      "outputs": []
    },
    {
      "cell_type": "code",
      "source": [
        "predict_me = [[word_index[l] for l in string]]"
      ],
      "metadata": {
        "id": "fntYuy-yXtBv"
      },
      "execution_count": 121,
      "outputs": []
    },
    {
      "cell_type": "code",
      "source": [
        "model.predict(predict_me)"
      ],
      "metadata": {
        "colab": {
          "base_uri": "https://localhost:8080/"
        },
        "id": "R-LFYvT_V-ky",
        "outputId": "4b2b1997-2470-4275-ce78-66b9e383dd8d"
      },
      "execution_count": 122,
      "outputs": [
        {
          "output_type": "stream",
          "name": "stdout",
          "text": [
            "1/1 [==============================] - 0s 31ms/step\n"
          ]
        },
        {
          "output_type": "execute_result",
          "data": {
            "text/plain": [
              "array([[0.9941665]], dtype=float32)"
            ]
          },
          "metadata": {},
          "execution_count": 122
        }
      ]
    }
  ]
}