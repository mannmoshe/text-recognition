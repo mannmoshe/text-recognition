{
  "nbformat": 4,
  "nbformat_minor": 0,
  "metadata": {
    "colab": {
      "provenance": [],
      "authorship_tag": "ABX9TyPnUDWI+VSKkMx6ZppeNPlF",
      "include_colab_link": true
    },
    "kernelspec": {
      "name": "python3",
      "display_name": "Python 3"
    },
    "language_info": {
      "name": "python"
    }
  },
  "cells": [
    {
      "cell_type": "markdown",
      "metadata": {
        "id": "view-in-github",
        "colab_type": "text"
      },
      "source": [
        "<a href=\"https://colab.research.google.com/github/mannmoshe/text-recognition/blob/main/true_text_detection.ipynb\" target=\"_parent\"><img src=\"https://colab.research.google.com/assets/colab-badge.svg\" alt=\"Open In Colab\"/></a>"
      ]
    },
    {
      "cell_type": "code",
      "execution_count": 1,
      "metadata": {
        "id": "GVE3qnCz_nJn"
      },
      "outputs": [],
      "source": [
        "import requests\n",
        "import pandas as pd\n",
        "import random"
      ]
    },
    {
      "cell_type": "code",
      "source": [
        "req = requests.get(\"https://raw.githubusercontent.com/mannmoshe/text-recognition/main/torah_heb.txt\")\n",
        "req.encoding = 'ISO-8859-8'\n",
        "torah_text = req.text"
      ],
      "metadata": {
        "id": "XqEe8yeI_1Ov"
      },
      "execution_count": 2,
      "outputs": []
    },
    {
      "cell_type": "code",
      "source": [
        "torah_words = torah_text.split()"
      ],
      "metadata": {
        "id": "3f8SrSIV_1sW"
      },
      "execution_count": 3,
      "outputs": []
    },
    {
      "cell_type": "code",
      "source": [
        "phrases = {}\n",
        "for i in range(0, int(len(torah_words)), 3):\n",
        "  phrase = ''.join(torah_words[i: i+3])\n",
        "  phrases[phrase] = 1 # true text\n",
        "  phrase_letters_list = [l for l in phrase]\n",
        "  random.Random(4).shuffle(phrase_letters_list) \n",
        "  # Random(4) for same result every time, see https://stackoverflow.com/questions/19306976/python-shuffling-with-a-parameter-to-get-the-same-result\n",
        "  phrases[''.join(phrase_letters_list)] = 0 # random text"
      ],
      "metadata": {
        "id": "I_hpqLriAHjV"
      },
      "execution_count": 4,
      "outputs": []
    },
    {
      "cell_type": "code",
      "source": [
        "phrases_dataset = pd.DataFrame.from_dict(phrases, orient='index').reset_index()"
      ],
      "metadata": {
        "id": "OMpEvn0ZLRTR"
      },
      "execution_count": 5,
      "outputs": []
    },
    {
      "cell_type": "code",
      "source": [
        "phrases_dataset.columns = ['text', 'label']"
      ],
      "metadata": {
        "id": "TnJThY6UbggT"
      },
      "execution_count": 6,
      "outputs": []
    },
    {
      "cell_type": "code",
      "source": [
        "phrases_dataset.shape"
      ],
      "metadata": {
        "colab": {
          "base_uri": "https://localhost:8080/"
        },
        "id": "frVcaESAHGD_",
        "outputId": "8480780a-8e68-4f38-ebd9-a2648b8d4b25"
      },
      "execution_count": 27,
      "outputs": [
        {
          "output_type": "execute_result",
          "data": {
            "text/plain": [
              "(48974, 2)"
            ]
          },
          "metadata": {},
          "execution_count": 27
        }
      ]
    },
    {
      "cell_type": "code",
      "source": [
        "phrases_dataset.head(10)"
      ],
      "metadata": {
        "colab": {
          "base_uri": "https://localhost:8080/",
          "height": 363
        },
        "id": "4GuU29agLfOx",
        "outputId": "f94037cc-1412-41e8-89ef-11bf205c75aa"
      },
      "execution_count": 7,
      "outputs": [
        {
          "output_type": "execute_result",
          "data": {
            "text/plain": [
              "             text  label\n",
              "0  בראשיתבראאלהים      1\n",
              "1  איתאםלבהארבריש      0\n",
              "2      אתהשמיםואת      1\n",
              "3      אהאוםתיתמש      0\n",
              "4   הארץוהארץהיתה      1\n",
              "5   תיץההההרראאוץ      0\n",
              "6     תהוובהווחשך      1\n",
              "7     והושתחךוהבו      0\n",
              "8       עלפניתהום      1\n",
              "9       לפהוםתעינ      0"
            ],
            "text/html": [
              "\n",
              "  <div id=\"df-a94ba246-0aaf-4bd8-b67c-9445017d4175\">\n",
              "    <div class=\"colab-df-container\">\n",
              "      <div>\n",
              "<style scoped>\n",
              "    .dataframe tbody tr th:only-of-type {\n",
              "        vertical-align: middle;\n",
              "    }\n",
              "\n",
              "    .dataframe tbody tr th {\n",
              "        vertical-align: top;\n",
              "    }\n",
              "\n",
              "    .dataframe thead th {\n",
              "        text-align: right;\n",
              "    }\n",
              "</style>\n",
              "<table border=\"1\" class=\"dataframe\">\n",
              "  <thead>\n",
              "    <tr style=\"text-align: right;\">\n",
              "      <th></th>\n",
              "      <th>text</th>\n",
              "      <th>label</th>\n",
              "    </tr>\n",
              "  </thead>\n",
              "  <tbody>\n",
              "    <tr>\n",
              "      <th>0</th>\n",
              "      <td>בראשיתבראאלהים</td>\n",
              "      <td>1</td>\n",
              "    </tr>\n",
              "    <tr>\n",
              "      <th>1</th>\n",
              "      <td>איתאםלבהארבריש</td>\n",
              "      <td>0</td>\n",
              "    </tr>\n",
              "    <tr>\n",
              "      <th>2</th>\n",
              "      <td>אתהשמיםואת</td>\n",
              "      <td>1</td>\n",
              "    </tr>\n",
              "    <tr>\n",
              "      <th>3</th>\n",
              "      <td>אהאוםתיתמש</td>\n",
              "      <td>0</td>\n",
              "    </tr>\n",
              "    <tr>\n",
              "      <th>4</th>\n",
              "      <td>הארץוהארץהיתה</td>\n",
              "      <td>1</td>\n",
              "    </tr>\n",
              "    <tr>\n",
              "      <th>5</th>\n",
              "      <td>תיץההההרראאוץ</td>\n",
              "      <td>0</td>\n",
              "    </tr>\n",
              "    <tr>\n",
              "      <th>6</th>\n",
              "      <td>תהוובהווחשך</td>\n",
              "      <td>1</td>\n",
              "    </tr>\n",
              "    <tr>\n",
              "      <th>7</th>\n",
              "      <td>והושתחךוהבו</td>\n",
              "      <td>0</td>\n",
              "    </tr>\n",
              "    <tr>\n",
              "      <th>8</th>\n",
              "      <td>עלפניתהום</td>\n",
              "      <td>1</td>\n",
              "    </tr>\n",
              "    <tr>\n",
              "      <th>9</th>\n",
              "      <td>לפהוםתעינ</td>\n",
              "      <td>0</td>\n",
              "    </tr>\n",
              "  </tbody>\n",
              "</table>\n",
              "</div>\n",
              "      <button class=\"colab-df-convert\" onclick=\"convertToInteractive('df-a94ba246-0aaf-4bd8-b67c-9445017d4175')\"\n",
              "              title=\"Convert this dataframe to an interactive table.\"\n",
              "              style=\"display:none;\">\n",
              "        \n",
              "  <svg xmlns=\"http://www.w3.org/2000/svg\" height=\"24px\"viewBox=\"0 0 24 24\"\n",
              "       width=\"24px\">\n",
              "    <path d=\"M0 0h24v24H0V0z\" fill=\"none\"/>\n",
              "    <path d=\"M18.56 5.44l.94 2.06.94-2.06 2.06-.94-2.06-.94-.94-2.06-.94 2.06-2.06.94zm-11 1L8.5 8.5l.94-2.06 2.06-.94-2.06-.94L8.5 2.5l-.94 2.06-2.06.94zm10 10l.94 2.06.94-2.06 2.06-.94-2.06-.94-.94-2.06-.94 2.06-2.06.94z\"/><path d=\"M17.41 7.96l-1.37-1.37c-.4-.4-.92-.59-1.43-.59-.52 0-1.04.2-1.43.59L10.3 9.45l-7.72 7.72c-.78.78-.78 2.05 0 2.83L4 21.41c.39.39.9.59 1.41.59.51 0 1.02-.2 1.41-.59l7.78-7.78 2.81-2.81c.8-.78.8-2.07 0-2.86zM5.41 20L4 18.59l7.72-7.72 1.47 1.35L5.41 20z\"/>\n",
              "  </svg>\n",
              "      </button>\n",
              "      \n",
              "  <style>\n",
              "    .colab-df-container {\n",
              "      display:flex;\n",
              "      flex-wrap:wrap;\n",
              "      gap: 12px;\n",
              "    }\n",
              "\n",
              "    .colab-df-convert {\n",
              "      background-color: #E8F0FE;\n",
              "      border: none;\n",
              "      border-radius: 50%;\n",
              "      cursor: pointer;\n",
              "      display: none;\n",
              "      fill: #1967D2;\n",
              "      height: 32px;\n",
              "      padding: 0 0 0 0;\n",
              "      width: 32px;\n",
              "    }\n",
              "\n",
              "    .colab-df-convert:hover {\n",
              "      background-color: #E2EBFA;\n",
              "      box-shadow: 0px 1px 2px rgba(60, 64, 67, 0.3), 0px 1px 3px 1px rgba(60, 64, 67, 0.15);\n",
              "      fill: #174EA6;\n",
              "    }\n",
              "\n",
              "    [theme=dark] .colab-df-convert {\n",
              "      background-color: #3B4455;\n",
              "      fill: #D2E3FC;\n",
              "    }\n",
              "\n",
              "    [theme=dark] .colab-df-convert:hover {\n",
              "      background-color: #434B5C;\n",
              "      box-shadow: 0px 1px 3px 1px rgba(0, 0, 0, 0.15);\n",
              "      filter: drop-shadow(0px 1px 2px rgba(0, 0, 0, 0.3));\n",
              "      fill: #FFFFFF;\n",
              "    }\n",
              "  </style>\n",
              "\n",
              "      <script>\n",
              "        const buttonEl =\n",
              "          document.querySelector('#df-a94ba246-0aaf-4bd8-b67c-9445017d4175 button.colab-df-convert');\n",
              "        buttonEl.style.display =\n",
              "          google.colab.kernel.accessAllowed ? 'block' : 'none';\n",
              "\n",
              "        async function convertToInteractive(key) {\n",
              "          const element = document.querySelector('#df-a94ba246-0aaf-4bd8-b67c-9445017d4175');\n",
              "          const dataTable =\n",
              "            await google.colab.kernel.invokeFunction('convertToInteractive',\n",
              "                                                     [key], {});\n",
              "          if (!dataTable) return;\n",
              "\n",
              "          const docLinkHtml = 'Like what you see? Visit the ' +\n",
              "            '<a target=\"_blank\" href=https://colab.research.google.com/notebooks/data_table.ipynb>data table notebook</a>'\n",
              "            + ' to learn more about interactive tables.';\n",
              "          element.innerHTML = '';\n",
              "          dataTable['output_type'] = 'display_data';\n",
              "          await google.colab.output.renderOutput(dataTable, element);\n",
              "          const docLink = document.createElement('div');\n",
              "          docLink.innerHTML = docLinkHtml;\n",
              "          element.appendChild(docLink);\n",
              "        }\n",
              "      </script>\n",
              "    </div>\n",
              "  </div>\n",
              "  "
            ]
          },
          "metadata": {},
          "execution_count": 7
        }
      ]
    },
    {
      "cell_type": "code",
      "source": [
        "X = phrases_dataset['text']\n",
        "y = phrases_dataset['label']"
      ],
      "metadata": {
        "id": "bxG47mYziPqO"
      },
      "execution_count": 8,
      "outputs": []
    },
    {
      "cell_type": "code",
      "source": [
        "from sklearn.model_selection import train_test_split\n",
        "x_train, x_test, y_train, y_test = train_test_split(X, y, test_size=0.33, random_state=4, stratify=y)"
      ],
      "metadata": {
        "id": "iUgjCLMhidyl"
      },
      "execution_count": 9,
      "outputs": []
    },
    {
      "cell_type": "code",
      "source": [
        "len(x_train)"
      ],
      "metadata": {
        "colab": {
          "base_uri": "https://localhost:8080/"
        },
        "id": "_Lf65r7vHAWo",
        "outputId": "04ee8cde-37b6-4f17-f32f-bc900ad080be"
      },
      "execution_count": 26,
      "outputs": [
        {
          "output_type": "execute_result",
          "data": {
            "text/plain": [
              "32812"
            ]
          },
          "metadata": {},
          "execution_count": 26
        }
      ]
    },
    {
      "cell_type": "code",
      "source": [
        "len(x_test)"
      ],
      "metadata": {
        "colab": {
          "base_uri": "https://localhost:8080/"
        },
        "id": "GrbcbT36HIfu",
        "outputId": "55d4c27e-6113-4eb6-a540-bfca68965c44"
      },
      "execution_count": 28,
      "outputs": [
        {
          "output_type": "execute_result",
          "data": {
            "text/plain": [
              "16162"
            ]
          },
          "metadata": {},
          "execution_count": 28
        }
      ]
    },
    {
      "cell_type": "code",
      "source": [
        "len(x_train) + len(x_test)"
      ],
      "metadata": {
        "colab": {
          "base_uri": "https://localhost:8080/"
        },
        "id": "RkBJqFLfHLu-",
        "outputId": "45ade351-5f38-4370-d998-1439a01d9f46"
      },
      "execution_count": 29,
      "outputs": [
        {
          "output_type": "execute_result",
          "data": {
            "text/plain": [
              "48974"
            ]
          },
          "metadata": {},
          "execution_count": 29
        }
      ]
    },
    {
      "cell_type": "code",
      "source": [
        "train_samples = x_train.tolist()\n",
        "test_samples = x_test.tolist()"
      ],
      "metadata": {
        "id": "LxWdvSAHiqUt"
      },
      "execution_count": 10,
      "outputs": []
    },
    {
      "cell_type": "code",
      "source": [
        "import numpy as np\n",
        "from keras.preprocessing.text import Tokenizer"
      ],
      "metadata": {
        "id": "Ah22EMcFi6cz"
      },
      "execution_count": 11,
      "outputs": []
    },
    {
      "cell_type": "code",
      "source": [
        "# We create a tokenizer, configured to only take\n",
        "# into account the top-10000 most common words\n",
        "#tokenizer = Tokenizer(num_words=10000, char_level=True) # char_level = True --> token by letters\n",
        "tokenizer = Tokenizer(char_level=True) # char_level = True --> token by letters\n",
        "# This builds the word index\n",
        "tokenizer.fit_on_texts(train_samples)\n",
        "\n",
        "# This turns strings into lists of integer indices.\n",
        "train_sequences = tokenizer.texts_to_sequences(train_samples)\n",
        "test_sequences = tokenizer.texts_to_sequences(test_samples)\n",
        "\n",
        "# You could also directly get the one-hot binary representations.\n",
        "# Note that other vectorization modes than one-hot encoding are supported!\n",
        "x_train = tokenizer.texts_to_matrix(train_samples, mode='binary')\n",
        "x_test = tokenizer.texts_to_matrix(test_samples, mode='binary')\n",
        "\n",
        "# This is how you can recover the word index that was computed\n",
        "word_index = tokenizer.word_index\n",
        "print('Found %s unique tokens.' % len(word_index))"
      ],
      "metadata": {
        "colab": {
          "base_uri": "https://localhost:8080/"
        },
        "id": "sgM6V13Ki9Wb",
        "outputId": "bcac8ffe-d1de-47b8-ecb9-959f31d926b9"
      },
      "execution_count": 17,
      "outputs": [
        {
          "output_type": "stream",
          "name": "stdout",
          "text": [
            "Found 27 unique tokens.\n"
          ]
        }
      ]
    },
    {
      "cell_type": "code",
      "source": [
        "x_train"
      ],
      "metadata": {
        "colab": {
          "base_uri": "https://localhost:8080/"
        },
        "id": "HVNsNwgcFh52",
        "outputId": "69b81502-3c36-49f9-f36a-4b012589262b"
      },
      "execution_count": 18,
      "outputs": [
        {
          "output_type": "execute_result",
          "data": {
            "text/plain": [
              "array([[0., 1., 1., ..., 0., 0., 0.],\n",
              "       [0., 1., 1., ..., 0., 0., 0.],\n",
              "       [0., 1., 0., ..., 0., 0., 0.],\n",
              "       ...,\n",
              "       [0., 1., 0., ..., 0., 0., 0.],\n",
              "       [0., 1., 0., ..., 0., 0., 0.],\n",
              "       [0., 1., 0., ..., 0., 0., 0.]])"
            ]
          },
          "metadata": {},
          "execution_count": 18
        }
      ]
    },
    {
      "cell_type": "code",
      "source": [
        "x_train.shape"
      ],
      "metadata": {
        "colab": {
          "base_uri": "https://localhost:8080/"
        },
        "id": "XUuG4sPEG0WG",
        "outputId": "35139ad7-c468-4906-e606-74f5f6a752ff"
      },
      "execution_count": 25,
      "outputs": [
        {
          "output_type": "execute_result",
          "data": {
            "text/plain": [
              "(32812, 28)"
            ]
          },
          "metadata": {},
          "execution_count": 25
        }
      ]
    },
    {
      "cell_type": "code",
      "source": [
        "len(x_train[0])"
      ],
      "metadata": {
        "colab": {
          "base_uri": "https://localhost:8080/"
        },
        "id": "hYiBNBGUFzFw",
        "outputId": "f8e4adf6-4683-486f-e952-998e4efe180b"
      },
      "execution_count": 19,
      "outputs": [
        {
          "output_type": "execute_result",
          "data": {
            "text/plain": [
              "28"
            ]
          },
          "metadata": {},
          "execution_count": 19
        }
      ]
    },
    {
      "cell_type": "code",
      "source": [
        "train_samples[0]"
      ],
      "metadata": {
        "colab": {
          "base_uri": "https://localhost:8080/",
          "height": 35
        },
        "id": "k9XWg6yDGiIA",
        "outputId": "af8e713d-531b-4a71-c411-d76678e5e4e3"
      },
      "execution_count": 22,
      "outputs": [
        {
          "output_type": "execute_result",
          "data": {
            "text/plain": [
              "'ישחםתמאשותיחמ'"
            ],
            "application/vnd.google.colaboratory.intrinsic+json": {
              "type": "string"
            }
          },
          "metadata": {},
          "execution_count": 22
        }
      ]
    },
    {
      "cell_type": "code",
      "source": [
        "x_train[0]"
      ],
      "metadata": {
        "colab": {
          "base_uri": "https://localhost:8080/"
        },
        "id": "CB-LmKdxGfVw",
        "outputId": "10ffafad-4f75-4d86-9b48-aa2879c07141"
      },
      "execution_count": 21,
      "outputs": [
        {
          "output_type": "execute_result",
          "data": {
            "text/plain": [
              "array([0., 1., 1., 0., 1., 0., 1., 0., 0., 1., 1., 0., 1., 0., 0., 1., 0.,\n",
              "       0., 0., 0., 0., 0., 0., 0., 0., 0., 0., 0.])"
            ]
          },
          "metadata": {},
          "execution_count": 21
        }
      ]
    },
    {
      "cell_type": "code",
      "source": [
        "sum(x_train[0])"
      ],
      "metadata": {
        "colab": {
          "base_uri": "https://localhost:8080/"
        },
        "id": "oBh3TWm2F-YT",
        "outputId": "b4aea140-94b1-4894-f26a-76aea42db523"
      },
      "execution_count": 20,
      "outputs": [
        {
          "output_type": "execute_result",
          "data": {
            "text/plain": [
              "8.0"
            ]
          },
          "metadata": {},
          "execution_count": 20
        }
      ]
    },
    {
      "cell_type": "code",
      "source": [
        "word_index"
      ],
      "metadata": {
        "colab": {
          "base_uri": "https://localhost:8080/"
        },
        "id": "id6z6nbOjViC",
        "outputId": "d2782800-b247-462b-9ba4-bee7a783f576"
      },
      "execution_count": 32,
      "outputs": [
        {
          "output_type": "execute_result",
          "data": {
            "text/plain": [
              "{'י': 1,\n",
              " 'ו': 2,\n",
              " 'ה': 3,\n",
              " 'א': 4,\n",
              " 'ל': 5,\n",
              " 'ת': 6,\n",
              " 'ר': 7,\n",
              " 'ב': 8,\n",
              " 'ש': 9,\n",
              " 'מ': 10,\n",
              " 'ע': 11,\n",
              " 'ם': 12,\n",
              " 'נ': 13,\n",
              " 'כ': 14,\n",
              " 'ח': 15,\n",
              " 'ד': 16,\n",
              " 'ק': 17,\n",
              " 'ן': 18,\n",
              " 'פ': 19,\n",
              " 'ך': 20,\n",
              " 'צ': 21,\n",
              " 'ז': 22,\n",
              " 'ג': 23,\n",
              " 'ס': 24,\n",
              " 'ט': 25,\n",
              " 'ץ': 26,\n",
              " 'ף': 27}"
            ]
          },
          "metadata": {},
          "execution_count": 32
        }
      ]
    },
    {
      "cell_type": "code",
      "source": [
        "lens = [len(s) for s in train_sequences]\n",
        "lens[:20]"
      ],
      "metadata": {
        "colab": {
          "base_uri": "https://localhost:8080/"
        },
        "id": "95GZdRJ0jhfM",
        "outputId": "1b5a451b-957a-4908-a505-543d17ff6482"
      },
      "execution_count": 33,
      "outputs": [
        {
          "output_type": "execute_result",
          "data": {
            "text/plain": [
              "[13, 9, 11, 9, 10, 11, 15, 13, 13, 14, 12, 10, 14, 14, 10, 13, 11, 8, 11, 10]"
            ]
          },
          "metadata": {},
          "execution_count": 33
        }
      ]
    },
    {
      "cell_type": "code",
      "source": [
        "sum(lens)/len(lens)"
      ],
      "metadata": {
        "colab": {
          "base_uri": "https://localhost:8080/"
        },
        "id": "lfieYLFqjug5",
        "outputId": "915c2c5a-4e4e-418a-ced7-59ed98c0daf6"
      },
      "execution_count": 34,
      "outputs": [
        {
          "output_type": "execute_result",
          "data": {
            "text/plain": [
              "11.49652566134341"
            ]
          },
          "metadata": {},
          "execution_count": 34
        }
      ]
    },
    {
      "cell_type": "code",
      "source": [
        "train_sequences[:10]"
      ],
      "metadata": {
        "colab": {
          "base_uri": "https://localhost:8080/"
        },
        "id": "VMbCO50XHlFW",
        "outputId": "c3ae080a-e06b-4f52-a4ab-2f84f3bccffc"
      },
      "execution_count": 35,
      "outputs": [
        {
          "output_type": "execute_result",
          "data": {
            "text/plain": [
              "[[1, 9, 15, 12, 6, 10, 4, 9, 2, 6, 1, 15, 10],\n",
              " [1, 3, 1, 3, 8, 2, 10, 2, 12],\n",
              " [7, 3, 9, 1, 22, 17, 12, 10, 14, 7, 9],\n",
              " [12, 14, 5, 2, 3, 6, 4, 27, 24],\n",
              " [17, 8, 7, 2, 4, 6, 4, 8, 1, 2],\n",
              " [8, 10, 24, 19, 7, 9, 10, 6, 10, 8, 18],\n",
              " [6, 9, 10, 11, 2, 18, 4, 6, 3, 10, 9, 19, 25, 1, 12],\n",
              " [4, 7, 3, 2, 15, 2, 10, 7, 17, 2, 4, 7, 26],\n",
              " [9, 5, 1, 7, 20, 14, 4, 1, 19, 2, 8, 5, 10],\n",
              " [3, 8, 10, 10, 2, 2, 8, 9, 4, 15, 5, 7, 12, 6]]"
            ]
          },
          "metadata": {},
          "execution_count": 35
        }
      ]
    },
    {
      "cell_type": "code",
      "source": [
        "max_len = 12\n",
        "x_train_embedding = []\n",
        "\n",
        "for s in train_sequences:\n",
        "  if len(s) >= 12:\n",
        "    x_train_embedding.append(s[:12])\n",
        "  else:\n",
        "    x_train_embedding.append(s + [0]*(max_len-len(s)))\n",
        "\n",
        "x_train_embedding = np.array(x_train_embedding)"
      ],
      "metadata": {
        "id": "o_wjZIYRjynB"
      },
      "execution_count": 36,
      "outputs": []
    },
    {
      "cell_type": "code",
      "source": [
        "x_test_embedding = []\n",
        "\n",
        "for s in test_sequences:\n",
        "  if len(s) >= 12:\n",
        "    x_test_embedding.append(s[:12])\n",
        "  else:\n",
        "    x_test_embedding.append(s + [0]*(max_len-len(s)))\n",
        "\n",
        "x_test_embedding = np.array(x_test_embedding)"
      ],
      "metadata": {
        "id": "GqXDvvMes2_m"
      },
      "execution_count": 37,
      "outputs": []
    },
    {
      "cell_type": "code",
      "source": [
        "y_train = y_train.to_numpy()"
      ],
      "metadata": {
        "id": "p6yZ4fg3m8BR"
      },
      "execution_count": 38,
      "outputs": []
    },
    {
      "cell_type": "code",
      "source": [
        "y_train"
      ],
      "metadata": {
        "colab": {
          "base_uri": "https://localhost:8080/"
        },
        "id": "63LK1x3RnV2G",
        "outputId": "9d0e3c7f-285c-47d7-9617-2782dbf0dba1"
      },
      "execution_count": 39,
      "outputs": [
        {
          "output_type": "execute_result",
          "data": {
            "text/plain": [
              "array([0, 1, 0, ..., 0, 0, 0])"
            ]
          },
          "metadata": {},
          "execution_count": 39
        }
      ]
    },
    {
      "cell_type": "code",
      "source": [
        "x_train_embedding"
      ],
      "metadata": {
        "colab": {
          "base_uri": "https://localhost:8080/"
        },
        "id": "4Cn0mCWsnZVW",
        "outputId": "e096cf78-c312-477e-b211-6b0a7af2ad65"
      },
      "execution_count": 40,
      "outputs": [
        {
          "output_type": "execute_result",
          "data": {
            "text/plain": [
              "array([[ 1,  9, 15, ...,  6,  1, 15],\n",
              "       [ 1,  3,  1, ...,  0,  0,  0],\n",
              "       [ 7,  3,  9, ...,  7,  9,  0],\n",
              "       ...,\n",
              "       [ 1,  8,  5, ..., 14,  0,  0],\n",
              "       [10,  1,  9, ..., 13,  8,  0],\n",
              "       [ 7,  3,  4, ..., 13,  0,  0]])"
            ]
          },
          "metadata": {},
          "execution_count": 40
        }
      ]
    },
    {
      "cell_type": "code",
      "source": [
        "from keras.models import Sequential\n",
        "from keras.layers import Embedding\n",
        "from keras.layers import SimpleRNN, Dense\n",
        "from keras.layers import LSTM\n",
        "from keras.layers import Dropout"
      ],
      "metadata": {
        "id": "e0JLl5UZkEYL"
      },
      "execution_count": 41,
      "outputs": []
    },
    {
      "cell_type": "code",
      "source": [
        "model = Sequential()\n",
        "model.add(Embedding(10000, 8, input_length=max_len))\n",
        "model.add(LSTM(64))\n",
        "model.compile(optimizer='rmsprop',\n",
        "              loss=\"binary_crossentropy\",\n",
        "              metrics=[\"accuracy\"])\n",
        "model.add(Dense(1, activation=\"sigmoid\"))\n",
        "model.summary()\n",
        "\n",
        "history = model.fit(x_train_embedding, \n",
        "                    y_train,\n",
        "                    epochs=50,\n",
        "                    batch_size=64,\n",
        "                    validation_split=0.33)"
      ],
      "metadata": {
        "colab": {
          "base_uri": "https://localhost:8080/"
        },
        "id": "DZOOQ_0YkSML",
        "outputId": "b8ee9590-1501-40c1-bf70-43f266c3c20e"
      },
      "execution_count": 42,
      "outputs": [
        {
          "output_type": "stream",
          "name": "stdout",
          "text": [
            "Model: \"sequential\"\n",
            "_________________________________________________________________\n",
            " Layer (type)                Output Shape              Param #   \n",
            "=================================================================\n",
            " embedding (Embedding)       (None, 12, 8)             80000     \n",
            "                                                                 \n",
            " lstm (LSTM)                 (None, 64)                18688     \n",
            "                                                                 \n",
            " dense (Dense)               (None, 1)                 65        \n",
            "                                                                 \n",
            "=================================================================\n",
            "Total params: 98,753\n",
            "Trainable params: 98,753\n",
            "Non-trainable params: 0\n",
            "_________________________________________________________________\n",
            "Epoch 1/50\n",
            "344/344 [==============================] - 7s 14ms/step - loss: 0.6568 - accuracy: 0.5888 - val_loss: 0.6253 - val_accuracy: 0.6354\n",
            "Epoch 2/50\n",
            "344/344 [==============================] - 4s 12ms/step - loss: 0.6215 - accuracy: 0.6392 - val_loss: 0.6195 - val_accuracy: 0.6421\n",
            "Epoch 3/50\n",
            "344/344 [==============================] - 4s 12ms/step - loss: 0.6134 - accuracy: 0.6527 - val_loss: 0.6126 - val_accuracy: 0.6551\n",
            "Epoch 4/50\n",
            "344/344 [==============================] - 4s 12ms/step - loss: 0.6083 - accuracy: 0.6629 - val_loss: 0.6078 - val_accuracy: 0.6610\n",
            "Epoch 5/50\n",
            "344/344 [==============================] - 3s 10ms/step - loss: 0.6031 - accuracy: 0.6674 - val_loss: 0.6075 - val_accuracy: 0.6656\n",
            "Epoch 6/50\n",
            "344/344 [==============================] - 4s 12ms/step - loss: 0.5937 - accuracy: 0.6762 - val_loss: 0.6063 - val_accuracy: 0.6617\n",
            "Epoch 7/50\n",
            "344/344 [==============================] - 4s 11ms/step - loss: 0.5882 - accuracy: 0.6768 - val_loss: 0.5919 - val_accuracy: 0.6726\n",
            "Epoch 8/50\n",
            "344/344 [==============================] - 4s 11ms/step - loss: 0.5822 - accuracy: 0.6828 - val_loss: 0.5890 - val_accuracy: 0.6793\n",
            "Epoch 9/50\n",
            "344/344 [==============================] - 3s 10ms/step - loss: 0.5761 - accuracy: 0.6877 - val_loss: 0.5855 - val_accuracy: 0.6811\n",
            "Epoch 10/50\n",
            "344/344 [==============================] - 4s 11ms/step - loss: 0.5666 - accuracy: 0.7011 - val_loss: 0.5806 - val_accuracy: 0.6863\n",
            "Epoch 11/50\n",
            "344/344 [==============================] - 3s 10ms/step - loss: 0.5521 - accuracy: 0.7137 - val_loss: 0.5501 - val_accuracy: 0.7132\n",
            "Epoch 12/50\n",
            "344/344 [==============================] - 3s 10ms/step - loss: 0.5365 - accuracy: 0.7257 - val_loss: 0.5349 - val_accuracy: 0.7240\n",
            "Epoch 13/50\n",
            "344/344 [==============================] - 3s 10ms/step - loss: 0.5214 - accuracy: 0.7345 - val_loss: 0.5434 - val_accuracy: 0.7182\n",
            "Epoch 14/50\n",
            "344/344 [==============================] - 4s 10ms/step - loss: 0.5109 - accuracy: 0.7420 - val_loss: 0.5163 - val_accuracy: 0.7349\n",
            "Epoch 15/50\n",
            "344/344 [==============================] - 3s 10ms/step - loss: 0.5011 - accuracy: 0.7483 - val_loss: 0.5113 - val_accuracy: 0.7441\n",
            "Epoch 16/50\n",
            "344/344 [==============================] - 4s 13ms/step - loss: 0.4914 - accuracy: 0.7571 - val_loss: 0.4908 - val_accuracy: 0.7541\n",
            "Epoch 17/50\n",
            "344/344 [==============================] - 3s 10ms/step - loss: 0.4800 - accuracy: 0.7668 - val_loss: 0.5136 - val_accuracy: 0.7426\n",
            "Epoch 18/50\n",
            "344/344 [==============================] - 4s 11ms/step - loss: 0.4726 - accuracy: 0.7704 - val_loss: 0.4950 - val_accuracy: 0.7517\n",
            "Epoch 19/50\n",
            "344/344 [==============================] - 3s 10ms/step - loss: 0.4665 - accuracy: 0.7714 - val_loss: 0.4674 - val_accuracy: 0.7706\n",
            "Epoch 20/50\n",
            "344/344 [==============================] - 4s 11ms/step - loss: 0.4594 - accuracy: 0.7764 - val_loss: 0.4755 - val_accuracy: 0.7677\n",
            "Epoch 21/50\n",
            "344/344 [==============================] - 3s 10ms/step - loss: 0.4527 - accuracy: 0.7811 - val_loss: 0.4706 - val_accuracy: 0.7654\n",
            "Epoch 22/50\n",
            "344/344 [==============================] - 3s 10ms/step - loss: 0.4487 - accuracy: 0.7834 - val_loss: 0.4720 - val_accuracy: 0.7687\n",
            "Epoch 23/50\n",
            "344/344 [==============================] - 3s 10ms/step - loss: 0.4431 - accuracy: 0.7868 - val_loss: 0.4535 - val_accuracy: 0.7796\n",
            "Epoch 24/50\n",
            "344/344 [==============================] - 4s 10ms/step - loss: 0.4371 - accuracy: 0.7898 - val_loss: 0.4431 - val_accuracy: 0.7842\n",
            "Epoch 25/50\n",
            "344/344 [==============================] - 4s 11ms/step - loss: 0.4312 - accuracy: 0.7952 - val_loss: 0.4435 - val_accuracy: 0.7842\n",
            "Epoch 26/50\n",
            "344/344 [==============================] - 4s 10ms/step - loss: 0.4248 - accuracy: 0.7979 - val_loss: 0.4453 - val_accuracy: 0.7867\n",
            "Epoch 27/50\n",
            "344/344 [==============================] - 4s 12ms/step - loss: 0.4179 - accuracy: 0.8019 - val_loss: 0.4320 - val_accuracy: 0.7958\n",
            "Epoch 28/50\n",
            "344/344 [==============================] - 3s 10ms/step - loss: 0.4105 - accuracy: 0.8074 - val_loss: 0.4294 - val_accuracy: 0.7964\n",
            "Epoch 29/50\n",
            "344/344 [==============================] - 4s 10ms/step - loss: 0.4045 - accuracy: 0.8115 - val_loss: 0.4158 - val_accuracy: 0.8034\n",
            "Epoch 30/50\n",
            "344/344 [==============================] - 4s 12ms/step - loss: 0.3958 - accuracy: 0.8154 - val_loss: 0.4132 - val_accuracy: 0.8041\n",
            "Epoch 31/50\n",
            "344/344 [==============================] - 4s 11ms/step - loss: 0.3890 - accuracy: 0.8181 - val_loss: 0.4346 - val_accuracy: 0.7953\n",
            "Epoch 32/50\n",
            "344/344 [==============================] - 4s 13ms/step - loss: 0.3802 - accuracy: 0.8240 - val_loss: 0.4069 - val_accuracy: 0.8098\n",
            "Epoch 33/50\n",
            "344/344 [==============================] - 4s 12ms/step - loss: 0.3749 - accuracy: 0.8266 - val_loss: 0.3941 - val_accuracy: 0.8174\n",
            "Epoch 34/50\n",
            "344/344 [==============================] - 4s 10ms/step - loss: 0.3675 - accuracy: 0.8334 - val_loss: 0.3981 - val_accuracy: 0.8207\n",
            "Epoch 35/50\n",
            "344/344 [==============================] - 3s 10ms/step - loss: 0.3598 - accuracy: 0.8377 - val_loss: 0.3903 - val_accuracy: 0.8248\n",
            "Epoch 36/50\n",
            "344/344 [==============================] - 3s 10ms/step - loss: 0.3544 - accuracy: 0.8421 - val_loss: 0.3802 - val_accuracy: 0.8298\n",
            "Epoch 37/50\n",
            "344/344 [==============================] - 4s 11ms/step - loss: 0.3456 - accuracy: 0.8458 - val_loss: 0.3931 - val_accuracy: 0.8227\n",
            "Epoch 38/50\n",
            "344/344 [==============================] - 3s 9ms/step - loss: 0.3381 - accuracy: 0.8490 - val_loss: 0.3784 - val_accuracy: 0.8285\n",
            "Epoch 39/50\n",
            "344/344 [==============================] - 3s 10ms/step - loss: 0.3310 - accuracy: 0.8536 - val_loss: 0.3739 - val_accuracy: 0.8354\n",
            "Epoch 40/50\n",
            "344/344 [==============================] - 3s 10ms/step - loss: 0.3218 - accuracy: 0.8567 - val_loss: 0.3777 - val_accuracy: 0.8340\n",
            "Epoch 41/50\n",
            "344/344 [==============================] - 3s 10ms/step - loss: 0.3165 - accuracy: 0.8604 - val_loss: 0.3731 - val_accuracy: 0.8314\n",
            "Epoch 42/50\n",
            "344/344 [==============================] - 4s 11ms/step - loss: 0.3089 - accuracy: 0.8624 - val_loss: 0.3728 - val_accuracy: 0.8368\n",
            "Epoch 43/50\n",
            "344/344 [==============================] - 3s 10ms/step - loss: 0.3022 - accuracy: 0.8680 - val_loss: 0.3548 - val_accuracy: 0.8429\n",
            "Epoch 44/50\n",
            "344/344 [==============================] - 4s 10ms/step - loss: 0.2938 - accuracy: 0.8727 - val_loss: 0.3722 - val_accuracy: 0.8399\n",
            "Epoch 45/50\n",
            "344/344 [==============================] - 4s 12ms/step - loss: 0.2876 - accuracy: 0.8747 - val_loss: 0.3615 - val_accuracy: 0.8432\n",
            "Epoch 46/50\n",
            "344/344 [==============================] - 4s 10ms/step - loss: 0.2817 - accuracy: 0.8778 - val_loss: 0.3574 - val_accuracy: 0.8438\n",
            "Epoch 47/50\n",
            "344/344 [==============================] - 4s 13ms/step - loss: 0.2759 - accuracy: 0.8791 - val_loss: 0.3533 - val_accuracy: 0.8475\n",
            "Epoch 48/50\n",
            "344/344 [==============================] - 4s 13ms/step - loss: 0.2659 - accuracy: 0.8862 - val_loss: 0.3962 - val_accuracy: 0.8270\n",
            "Epoch 49/50\n",
            "344/344 [==============================] - 5s 14ms/step - loss: 0.2613 - accuracy: 0.8890 - val_loss: 0.3553 - val_accuracy: 0.8468\n",
            "Epoch 50/50\n",
            "344/344 [==============================] - 3s 10ms/step - loss: 0.2556 - accuracy: 0.8909 - val_loss: 0.4011 - val_accuracy: 0.8332\n"
          ]
        }
      ]
    },
    {
      "cell_type": "code",
      "source": [
        "x_train[0]"
      ],
      "metadata": {
        "colab": {
          "base_uri": "https://localhost:8080/"
        },
        "id": "QkVzMVDgr-cC",
        "outputId": "0e511ee1-cf1f-4d45-eb78-883799215d29"
      },
      "execution_count": 43,
      "outputs": [
        {
          "output_type": "execute_result",
          "data": {
            "text/plain": [
              "array([0., 1., 1., 0., 1., 0., 1., 0., 0., 1., 1., 0., 1., 0., 0., 1., 0.,\n",
              "       0., 0., 0., 0., 0., 0., 0., 0., 0., 0., 0.])"
            ]
          },
          "metadata": {},
          "execution_count": 43
        }
      ]
    },
    {
      "cell_type": "code",
      "source": [
        "predicted_labels = model.predict(x_test_embedding)"
      ],
      "metadata": {
        "colab": {
          "base_uri": "https://localhost:8080/"
        },
        "id": "8psKr2B8rNRg",
        "outputId": "3076f9a6-340a-4066-b899-d2591c325d49"
      },
      "execution_count": 44,
      "outputs": [
        {
          "output_type": "stream",
          "name": "stdout",
          "text": [
            "506/506 [==============================] - 2s 3ms/step\n"
          ]
        }
      ]
    },
    {
      "cell_type": "code",
      "source": [
        "print(type(predicted_labels),type(y_test))"
      ],
      "metadata": {
        "colab": {
          "base_uri": "https://localhost:8080/"
        },
        "id": "_PGoiW9QtGtJ",
        "outputId": "92d7accd-d9ef-42cf-a77d-058fecfabc07"
      },
      "execution_count": 45,
      "outputs": [
        {
          "output_type": "stream",
          "name": "stdout",
          "text": [
            "<class 'numpy.ndarray'> <class 'pandas.core.series.Series'>\n"
          ]
        }
      ]
    },
    {
      "cell_type": "code",
      "source": [
        "predicted_labels"
      ],
      "metadata": {
        "colab": {
          "base_uri": "https://localhost:8080/"
        },
        "id": "p6HnrDDMuFCv",
        "outputId": "44fcc2aa-b62f-42ea-9443-3d90f3a40438"
      },
      "execution_count": 46,
      "outputs": [
        {
          "output_type": "execute_result",
          "data": {
            "text/plain": [
              "array([[0.999386  ],\n",
              "       [0.8073914 ],\n",
              "       [0.9961702 ],\n",
              "       ...,\n",
              "       [0.9842679 ],\n",
              "       [0.02593355],\n",
              "       [0.9952114 ]], dtype=float32)"
            ]
          },
          "metadata": {},
          "execution_count": 46
        }
      ]
    },
    {
      "cell_type": "code",
      "source": [
        "my_list = map(lambda x: x[0], predicted_labels)\n",
        "predictions = pd.Series(my_list)"
      ],
      "metadata": {
        "id": "sFLsLYHst1Ui"
      },
      "execution_count": 47,
      "outputs": []
    },
    {
      "cell_type": "code",
      "source": [
        "len(predictions)"
      ],
      "metadata": {
        "id": "_B9a2FwxU2tO",
        "outputId": "415ec0f5-43f5-4772-8b66-5c5ff6c396c6",
        "colab": {
          "base_uri": "https://localhost:8080/"
        }
      },
      "execution_count": 48,
      "outputs": [
        {
          "output_type": "execute_result",
          "data": {
            "text/plain": [
              "16162"
            ]
          },
          "metadata": {},
          "execution_count": 48
        }
      ]
    },
    {
      "cell_type": "code",
      "source": [
        "len(y_test)"
      ],
      "metadata": {
        "id": "nhBdWS5tU5s7",
        "outputId": "b219c5a1-9f95-4874-ab4b-89c7f1421966",
        "colab": {
          "base_uri": "https://localhost:8080/"
        }
      },
      "execution_count": 49,
      "outputs": [
        {
          "output_type": "execute_result",
          "data": {
            "text/plain": [
              "16162"
            ]
          },
          "metadata": {},
          "execution_count": 49
        }
      ]
    },
    {
      "cell_type": "code",
      "source": [
        "predictions"
      ],
      "metadata": {
        "id": "aY3XRUqSU9ab",
        "outputId": "67e27e11-9432-4d21-a292-29ee5f14ca72",
        "colab": {
          "base_uri": "https://localhost:8080/"
        }
      },
      "execution_count": 50,
      "outputs": [
        {
          "output_type": "execute_result",
          "data": {
            "text/plain": [
              "0        0.999386\n",
              "1        0.807391\n",
              "2        0.996170\n",
              "3        0.997528\n",
              "4        0.957968\n",
              "           ...   \n",
              "16157    0.479061\n",
              "16158    0.048900\n",
              "16159    0.984268\n",
              "16160    0.025934\n",
              "16161    0.995211\n",
              "Length: 16162, dtype: float32"
            ]
          },
          "metadata": {},
          "execution_count": 50
        }
      ]
    },
    {
      "cell_type": "code",
      "source": [
        "y_test_ri = y_test.reset_index() "
      ],
      "metadata": {
        "id": "C3uqheINVCxx"
      },
      "execution_count": 51,
      "outputs": []
    },
    {
      "cell_type": "code",
      "source": [
        "y_test_ri"
      ],
      "metadata": {
        "id": "YEBMUXSnVMx5",
        "outputId": "107d5f4b-76e3-4350-dfb3-77625d3cce11",
        "colab": {
          "base_uri": "https://localhost:8080/",
          "height": 424
        }
      },
      "execution_count": 52,
      "outputs": [
        {
          "output_type": "execute_result",
          "data": {
            "text/plain": [
              "       index  label\n",
              "0      15542      1\n",
              "1      14953      0\n",
              "2      20832      1\n",
              "3      20498      1\n",
              "4       1782      1\n",
              "...      ...    ...\n",
              "16157  26075      0\n",
              "16158  27721      0\n",
              "16159  36666      1\n",
              "16160  41767      0\n",
              "16161  12782      1\n",
              "\n",
              "[16162 rows x 2 columns]"
            ],
            "text/html": [
              "\n",
              "  <div id=\"df-76271f0e-59c3-40be-bf88-7039e4640da1\">\n",
              "    <div class=\"colab-df-container\">\n",
              "      <div>\n",
              "<style scoped>\n",
              "    .dataframe tbody tr th:only-of-type {\n",
              "        vertical-align: middle;\n",
              "    }\n",
              "\n",
              "    .dataframe tbody tr th {\n",
              "        vertical-align: top;\n",
              "    }\n",
              "\n",
              "    .dataframe thead th {\n",
              "        text-align: right;\n",
              "    }\n",
              "</style>\n",
              "<table border=\"1\" class=\"dataframe\">\n",
              "  <thead>\n",
              "    <tr style=\"text-align: right;\">\n",
              "      <th></th>\n",
              "      <th>index</th>\n",
              "      <th>label</th>\n",
              "    </tr>\n",
              "  </thead>\n",
              "  <tbody>\n",
              "    <tr>\n",
              "      <th>0</th>\n",
              "      <td>15542</td>\n",
              "      <td>1</td>\n",
              "    </tr>\n",
              "    <tr>\n",
              "      <th>1</th>\n",
              "      <td>14953</td>\n",
              "      <td>0</td>\n",
              "    </tr>\n",
              "    <tr>\n",
              "      <th>2</th>\n",
              "      <td>20832</td>\n",
              "      <td>1</td>\n",
              "    </tr>\n",
              "    <tr>\n",
              "      <th>3</th>\n",
              "      <td>20498</td>\n",
              "      <td>1</td>\n",
              "    </tr>\n",
              "    <tr>\n",
              "      <th>4</th>\n",
              "      <td>1782</td>\n",
              "      <td>1</td>\n",
              "    </tr>\n",
              "    <tr>\n",
              "      <th>...</th>\n",
              "      <td>...</td>\n",
              "      <td>...</td>\n",
              "    </tr>\n",
              "    <tr>\n",
              "      <th>16157</th>\n",
              "      <td>26075</td>\n",
              "      <td>0</td>\n",
              "    </tr>\n",
              "    <tr>\n",
              "      <th>16158</th>\n",
              "      <td>27721</td>\n",
              "      <td>0</td>\n",
              "    </tr>\n",
              "    <tr>\n",
              "      <th>16159</th>\n",
              "      <td>36666</td>\n",
              "      <td>1</td>\n",
              "    </tr>\n",
              "    <tr>\n",
              "      <th>16160</th>\n",
              "      <td>41767</td>\n",
              "      <td>0</td>\n",
              "    </tr>\n",
              "    <tr>\n",
              "      <th>16161</th>\n",
              "      <td>12782</td>\n",
              "      <td>1</td>\n",
              "    </tr>\n",
              "  </tbody>\n",
              "</table>\n",
              "<p>16162 rows × 2 columns</p>\n",
              "</div>\n",
              "      <button class=\"colab-df-convert\" onclick=\"convertToInteractive('df-76271f0e-59c3-40be-bf88-7039e4640da1')\"\n",
              "              title=\"Convert this dataframe to an interactive table.\"\n",
              "              style=\"display:none;\">\n",
              "        \n",
              "  <svg xmlns=\"http://www.w3.org/2000/svg\" height=\"24px\"viewBox=\"0 0 24 24\"\n",
              "       width=\"24px\">\n",
              "    <path d=\"M0 0h24v24H0V0z\" fill=\"none\"/>\n",
              "    <path d=\"M18.56 5.44l.94 2.06.94-2.06 2.06-.94-2.06-.94-.94-2.06-.94 2.06-2.06.94zm-11 1L8.5 8.5l.94-2.06 2.06-.94-2.06-.94L8.5 2.5l-.94 2.06-2.06.94zm10 10l.94 2.06.94-2.06 2.06-.94-2.06-.94-.94-2.06-.94 2.06-2.06.94z\"/><path d=\"M17.41 7.96l-1.37-1.37c-.4-.4-.92-.59-1.43-.59-.52 0-1.04.2-1.43.59L10.3 9.45l-7.72 7.72c-.78.78-.78 2.05 0 2.83L4 21.41c.39.39.9.59 1.41.59.51 0 1.02-.2 1.41-.59l7.78-7.78 2.81-2.81c.8-.78.8-2.07 0-2.86zM5.41 20L4 18.59l7.72-7.72 1.47 1.35L5.41 20z\"/>\n",
              "  </svg>\n",
              "      </button>\n",
              "      \n",
              "  <style>\n",
              "    .colab-df-container {\n",
              "      display:flex;\n",
              "      flex-wrap:wrap;\n",
              "      gap: 12px;\n",
              "    }\n",
              "\n",
              "    .colab-df-convert {\n",
              "      background-color: #E8F0FE;\n",
              "      border: none;\n",
              "      border-radius: 50%;\n",
              "      cursor: pointer;\n",
              "      display: none;\n",
              "      fill: #1967D2;\n",
              "      height: 32px;\n",
              "      padding: 0 0 0 0;\n",
              "      width: 32px;\n",
              "    }\n",
              "\n",
              "    .colab-df-convert:hover {\n",
              "      background-color: #E2EBFA;\n",
              "      box-shadow: 0px 1px 2px rgba(60, 64, 67, 0.3), 0px 1px 3px 1px rgba(60, 64, 67, 0.15);\n",
              "      fill: #174EA6;\n",
              "    }\n",
              "\n",
              "    [theme=dark] .colab-df-convert {\n",
              "      background-color: #3B4455;\n",
              "      fill: #D2E3FC;\n",
              "    }\n",
              "\n",
              "    [theme=dark] .colab-df-convert:hover {\n",
              "      background-color: #434B5C;\n",
              "      box-shadow: 0px 1px 3px 1px rgba(0, 0, 0, 0.15);\n",
              "      filter: drop-shadow(0px 1px 2px rgba(0, 0, 0, 0.3));\n",
              "      fill: #FFFFFF;\n",
              "    }\n",
              "  </style>\n",
              "\n",
              "      <script>\n",
              "        const buttonEl =\n",
              "          document.querySelector('#df-76271f0e-59c3-40be-bf88-7039e4640da1 button.colab-df-convert');\n",
              "        buttonEl.style.display =\n",
              "          google.colab.kernel.accessAllowed ? 'block' : 'none';\n",
              "\n",
              "        async function convertToInteractive(key) {\n",
              "          const element = document.querySelector('#df-76271f0e-59c3-40be-bf88-7039e4640da1');\n",
              "          const dataTable =\n",
              "            await google.colab.kernel.invokeFunction('convertToInteractive',\n",
              "                                                     [key], {});\n",
              "          if (!dataTable) return;\n",
              "\n",
              "          const docLinkHtml = 'Like what you see? Visit the ' +\n",
              "            '<a target=\"_blank\" href=https://colab.research.google.com/notebooks/data_table.ipynb>data table notebook</a>'\n",
              "            + ' to learn more about interactive tables.';\n",
              "          element.innerHTML = '';\n",
              "          dataTable['output_type'] = 'display_data';\n",
              "          await google.colab.output.renderOutput(dataTable, element);\n",
              "          const docLink = document.createElement('div');\n",
              "          docLink.innerHTML = docLinkHtml;\n",
              "          element.appendChild(docLink);\n",
              "        }\n",
              "      </script>\n",
              "    </div>\n",
              "  </div>\n",
              "  "
            ]
          },
          "metadata": {},
          "execution_count": 52
        }
      ]
    },
    {
      "cell_type": "code",
      "source": [
        "pd.concat([predictions, y_test_ri], axis=1)"
      ],
      "metadata": {
        "colab": {
          "base_uri": "https://localhost:8080/",
          "height": 424
        },
        "id": "m_4BvwEbulVu",
        "outputId": "e45c76a4-0540-4b3e-e910-f2b356c1d19f"
      },
      "execution_count": 53,
      "outputs": [
        {
          "output_type": "execute_result",
          "data": {
            "text/plain": [
              "              0  index  label\n",
              "0      0.999386  15542      1\n",
              "1      0.807391  14953      0\n",
              "2      0.996170  20832      1\n",
              "3      0.997528  20498      1\n",
              "4      0.957968   1782      1\n",
              "...         ...    ...    ...\n",
              "16157  0.479061  26075      0\n",
              "16158  0.048900  27721      0\n",
              "16159  0.984268  36666      1\n",
              "16160  0.025934  41767      0\n",
              "16161  0.995211  12782      1\n",
              "\n",
              "[16162 rows x 3 columns]"
            ],
            "text/html": [
              "\n",
              "  <div id=\"df-a1fe461c-e28f-449d-913b-45b8b59f4e5f\">\n",
              "    <div class=\"colab-df-container\">\n",
              "      <div>\n",
              "<style scoped>\n",
              "    .dataframe tbody tr th:only-of-type {\n",
              "        vertical-align: middle;\n",
              "    }\n",
              "\n",
              "    .dataframe tbody tr th {\n",
              "        vertical-align: top;\n",
              "    }\n",
              "\n",
              "    .dataframe thead th {\n",
              "        text-align: right;\n",
              "    }\n",
              "</style>\n",
              "<table border=\"1\" class=\"dataframe\">\n",
              "  <thead>\n",
              "    <tr style=\"text-align: right;\">\n",
              "      <th></th>\n",
              "      <th>0</th>\n",
              "      <th>index</th>\n",
              "      <th>label</th>\n",
              "    </tr>\n",
              "  </thead>\n",
              "  <tbody>\n",
              "    <tr>\n",
              "      <th>0</th>\n",
              "      <td>0.999386</td>\n",
              "      <td>15542</td>\n",
              "      <td>1</td>\n",
              "    </tr>\n",
              "    <tr>\n",
              "      <th>1</th>\n",
              "      <td>0.807391</td>\n",
              "      <td>14953</td>\n",
              "      <td>0</td>\n",
              "    </tr>\n",
              "    <tr>\n",
              "      <th>2</th>\n",
              "      <td>0.996170</td>\n",
              "      <td>20832</td>\n",
              "      <td>1</td>\n",
              "    </tr>\n",
              "    <tr>\n",
              "      <th>3</th>\n",
              "      <td>0.997528</td>\n",
              "      <td>20498</td>\n",
              "      <td>1</td>\n",
              "    </tr>\n",
              "    <tr>\n",
              "      <th>4</th>\n",
              "      <td>0.957968</td>\n",
              "      <td>1782</td>\n",
              "      <td>1</td>\n",
              "    </tr>\n",
              "    <tr>\n",
              "      <th>...</th>\n",
              "      <td>...</td>\n",
              "      <td>...</td>\n",
              "      <td>...</td>\n",
              "    </tr>\n",
              "    <tr>\n",
              "      <th>16157</th>\n",
              "      <td>0.479061</td>\n",
              "      <td>26075</td>\n",
              "      <td>0</td>\n",
              "    </tr>\n",
              "    <tr>\n",
              "      <th>16158</th>\n",
              "      <td>0.048900</td>\n",
              "      <td>27721</td>\n",
              "      <td>0</td>\n",
              "    </tr>\n",
              "    <tr>\n",
              "      <th>16159</th>\n",
              "      <td>0.984268</td>\n",
              "      <td>36666</td>\n",
              "      <td>1</td>\n",
              "    </tr>\n",
              "    <tr>\n",
              "      <th>16160</th>\n",
              "      <td>0.025934</td>\n",
              "      <td>41767</td>\n",
              "      <td>0</td>\n",
              "    </tr>\n",
              "    <tr>\n",
              "      <th>16161</th>\n",
              "      <td>0.995211</td>\n",
              "      <td>12782</td>\n",
              "      <td>1</td>\n",
              "    </tr>\n",
              "  </tbody>\n",
              "</table>\n",
              "<p>16162 rows × 3 columns</p>\n",
              "</div>\n",
              "      <button class=\"colab-df-convert\" onclick=\"convertToInteractive('df-a1fe461c-e28f-449d-913b-45b8b59f4e5f')\"\n",
              "              title=\"Convert this dataframe to an interactive table.\"\n",
              "              style=\"display:none;\">\n",
              "        \n",
              "  <svg xmlns=\"http://www.w3.org/2000/svg\" height=\"24px\"viewBox=\"0 0 24 24\"\n",
              "       width=\"24px\">\n",
              "    <path d=\"M0 0h24v24H0V0z\" fill=\"none\"/>\n",
              "    <path d=\"M18.56 5.44l.94 2.06.94-2.06 2.06-.94-2.06-.94-.94-2.06-.94 2.06-2.06.94zm-11 1L8.5 8.5l.94-2.06 2.06-.94-2.06-.94L8.5 2.5l-.94 2.06-2.06.94zm10 10l.94 2.06.94-2.06 2.06-.94-2.06-.94-.94-2.06-.94 2.06-2.06.94z\"/><path d=\"M17.41 7.96l-1.37-1.37c-.4-.4-.92-.59-1.43-.59-.52 0-1.04.2-1.43.59L10.3 9.45l-7.72 7.72c-.78.78-.78 2.05 0 2.83L4 21.41c.39.39.9.59 1.41.59.51 0 1.02-.2 1.41-.59l7.78-7.78 2.81-2.81c.8-.78.8-2.07 0-2.86zM5.41 20L4 18.59l7.72-7.72 1.47 1.35L5.41 20z\"/>\n",
              "  </svg>\n",
              "      </button>\n",
              "      \n",
              "  <style>\n",
              "    .colab-df-container {\n",
              "      display:flex;\n",
              "      flex-wrap:wrap;\n",
              "      gap: 12px;\n",
              "    }\n",
              "\n",
              "    .colab-df-convert {\n",
              "      background-color: #E8F0FE;\n",
              "      border: none;\n",
              "      border-radius: 50%;\n",
              "      cursor: pointer;\n",
              "      display: none;\n",
              "      fill: #1967D2;\n",
              "      height: 32px;\n",
              "      padding: 0 0 0 0;\n",
              "      width: 32px;\n",
              "    }\n",
              "\n",
              "    .colab-df-convert:hover {\n",
              "      background-color: #E2EBFA;\n",
              "      box-shadow: 0px 1px 2px rgba(60, 64, 67, 0.3), 0px 1px 3px 1px rgba(60, 64, 67, 0.15);\n",
              "      fill: #174EA6;\n",
              "    }\n",
              "\n",
              "    [theme=dark] .colab-df-convert {\n",
              "      background-color: #3B4455;\n",
              "      fill: #D2E3FC;\n",
              "    }\n",
              "\n",
              "    [theme=dark] .colab-df-convert:hover {\n",
              "      background-color: #434B5C;\n",
              "      box-shadow: 0px 1px 3px 1px rgba(0, 0, 0, 0.15);\n",
              "      filter: drop-shadow(0px 1px 2px rgba(0, 0, 0, 0.3));\n",
              "      fill: #FFFFFF;\n",
              "    }\n",
              "  </style>\n",
              "\n",
              "      <script>\n",
              "        const buttonEl =\n",
              "          document.querySelector('#df-a1fe461c-e28f-449d-913b-45b8b59f4e5f button.colab-df-convert');\n",
              "        buttonEl.style.display =\n",
              "          google.colab.kernel.accessAllowed ? 'block' : 'none';\n",
              "\n",
              "        async function convertToInteractive(key) {\n",
              "          const element = document.querySelector('#df-a1fe461c-e28f-449d-913b-45b8b59f4e5f');\n",
              "          const dataTable =\n",
              "            await google.colab.kernel.invokeFunction('convertToInteractive',\n",
              "                                                     [key], {});\n",
              "          if (!dataTable) return;\n",
              "\n",
              "          const docLinkHtml = 'Like what you see? Visit the ' +\n",
              "            '<a target=\"_blank\" href=https://colab.research.google.com/notebooks/data_table.ipynb>data table notebook</a>'\n",
              "            + ' to learn more about interactive tables.';\n",
              "          element.innerHTML = '';\n",
              "          dataTable['output_type'] = 'display_data';\n",
              "          await google.colab.output.renderOutput(dataTable, element);\n",
              "          const docLink = document.createElement('div');\n",
              "          docLink.innerHTML = docLinkHtml;\n",
              "          element.appendChild(docLink);\n",
              "        }\n",
              "      </script>\n",
              "    </div>\n",
              "  </div>\n",
              "  "
            ]
          },
          "metadata": {},
          "execution_count": 53
        }
      ]
    },
    {
      "cell_type": "code",
      "source": [
        "x_train_orig, x_test_orig, y_train_orig, y_test_orig = train_test_split(X, y, test_size=0.33, random_state=4, stratify=y)"
      ],
      "metadata": {
        "id": "7DYW_3w_V5Up"
      },
      "execution_count": 54,
      "outputs": []
    },
    {
      "cell_type": "code",
      "source": [
        "x_test_orig"
      ],
      "metadata": {
        "id": "tA9nWRl3V_bS",
        "outputId": "2b5c0f3e-55aa-4a1b-be43-2aedc380e833",
        "colab": {
          "base_uri": "https://localhost:8080/"
        }
      },
      "execution_count": 55,
      "outputs": [
        {
          "output_type": "execute_result",
          "data": {
            "text/plain": [
              "15542      מאדםועדבהמה\n",
              "14953       דךמיהךטטנו\n",
              "20832      ואכלואתםאשר\n",
              "20498    ומשחתאתםומלאת\n",
              "1782        עשבנתתילכם\n",
              "             ...      \n",
              "26075    הנמוגיותלבאחה\n",
              "27721      ישחתעאולללו\n",
              "36666      הארץכיידעתי\n",
              "41767     רתושוואיתאצמ\n",
              "12782       מזקןלאיוכל\n",
              "Name: text, Length: 16162, dtype: object"
            ]
          },
          "metadata": {},
          "execution_count": 55
        }
      ]
    },
    {
      "cell_type": "code",
      "source": [
        "pd.concat([x_test_orig, y_test], axis=1)"
      ],
      "metadata": {
        "id": "RUR1VQlgWG8m",
        "outputId": "ee38ebc9-2388-41bb-ddf6-280fc48e34e9",
        "colab": {
          "base_uri": "https://localhost:8080/",
          "height": 424
        }
      },
      "execution_count": 56,
      "outputs": [
        {
          "output_type": "execute_result",
          "data": {
            "text/plain": [
              "                text  label\n",
              "15542    מאדםועדבהמה      1\n",
              "14953     דךמיהךטטנו      0\n",
              "20832    ואכלואתםאשר      1\n",
              "20498  ומשחתאתםומלאת      1\n",
              "1782      עשבנתתילכם      1\n",
              "...              ...    ...\n",
              "26075  הנמוגיותלבאחה      0\n",
              "27721    ישחתעאולללו      0\n",
              "36666    הארץכיידעתי      1\n",
              "41767   רתושוואיתאצמ      0\n",
              "12782     מזקןלאיוכל      1\n",
              "\n",
              "[16162 rows x 2 columns]"
            ],
            "text/html": [
              "\n",
              "  <div id=\"df-82cbc80c-53f5-4b40-b368-4f582961831a\">\n",
              "    <div class=\"colab-df-container\">\n",
              "      <div>\n",
              "<style scoped>\n",
              "    .dataframe tbody tr th:only-of-type {\n",
              "        vertical-align: middle;\n",
              "    }\n",
              "\n",
              "    .dataframe tbody tr th {\n",
              "        vertical-align: top;\n",
              "    }\n",
              "\n",
              "    .dataframe thead th {\n",
              "        text-align: right;\n",
              "    }\n",
              "</style>\n",
              "<table border=\"1\" class=\"dataframe\">\n",
              "  <thead>\n",
              "    <tr style=\"text-align: right;\">\n",
              "      <th></th>\n",
              "      <th>text</th>\n",
              "      <th>label</th>\n",
              "    </tr>\n",
              "  </thead>\n",
              "  <tbody>\n",
              "    <tr>\n",
              "      <th>15542</th>\n",
              "      <td>מאדםועדבהמה</td>\n",
              "      <td>1</td>\n",
              "    </tr>\n",
              "    <tr>\n",
              "      <th>14953</th>\n",
              "      <td>דךמיהךטטנו</td>\n",
              "      <td>0</td>\n",
              "    </tr>\n",
              "    <tr>\n",
              "      <th>20832</th>\n",
              "      <td>ואכלואתםאשר</td>\n",
              "      <td>1</td>\n",
              "    </tr>\n",
              "    <tr>\n",
              "      <th>20498</th>\n",
              "      <td>ומשחתאתםומלאת</td>\n",
              "      <td>1</td>\n",
              "    </tr>\n",
              "    <tr>\n",
              "      <th>1782</th>\n",
              "      <td>עשבנתתילכם</td>\n",
              "      <td>1</td>\n",
              "    </tr>\n",
              "    <tr>\n",
              "      <th>...</th>\n",
              "      <td>...</td>\n",
              "      <td>...</td>\n",
              "    </tr>\n",
              "    <tr>\n",
              "      <th>26075</th>\n",
              "      <td>הנמוגיותלבאחה</td>\n",
              "      <td>0</td>\n",
              "    </tr>\n",
              "    <tr>\n",
              "      <th>27721</th>\n",
              "      <td>ישחתעאולללו</td>\n",
              "      <td>0</td>\n",
              "    </tr>\n",
              "    <tr>\n",
              "      <th>36666</th>\n",
              "      <td>הארץכיידעתי</td>\n",
              "      <td>1</td>\n",
              "    </tr>\n",
              "    <tr>\n",
              "      <th>41767</th>\n",
              "      <td>רתושוואיתאצמ</td>\n",
              "      <td>0</td>\n",
              "    </tr>\n",
              "    <tr>\n",
              "      <th>12782</th>\n",
              "      <td>מזקןלאיוכל</td>\n",
              "      <td>1</td>\n",
              "    </tr>\n",
              "  </tbody>\n",
              "</table>\n",
              "<p>16162 rows × 2 columns</p>\n",
              "</div>\n",
              "      <button class=\"colab-df-convert\" onclick=\"convertToInteractive('df-82cbc80c-53f5-4b40-b368-4f582961831a')\"\n",
              "              title=\"Convert this dataframe to an interactive table.\"\n",
              "              style=\"display:none;\">\n",
              "        \n",
              "  <svg xmlns=\"http://www.w3.org/2000/svg\" height=\"24px\"viewBox=\"0 0 24 24\"\n",
              "       width=\"24px\">\n",
              "    <path d=\"M0 0h24v24H0V0z\" fill=\"none\"/>\n",
              "    <path d=\"M18.56 5.44l.94 2.06.94-2.06 2.06-.94-2.06-.94-.94-2.06-.94 2.06-2.06.94zm-11 1L8.5 8.5l.94-2.06 2.06-.94-2.06-.94L8.5 2.5l-.94 2.06-2.06.94zm10 10l.94 2.06.94-2.06 2.06-.94-2.06-.94-.94-2.06-.94 2.06-2.06.94z\"/><path d=\"M17.41 7.96l-1.37-1.37c-.4-.4-.92-.59-1.43-.59-.52 0-1.04.2-1.43.59L10.3 9.45l-7.72 7.72c-.78.78-.78 2.05 0 2.83L4 21.41c.39.39.9.59 1.41.59.51 0 1.02-.2 1.41-.59l7.78-7.78 2.81-2.81c.8-.78.8-2.07 0-2.86zM5.41 20L4 18.59l7.72-7.72 1.47 1.35L5.41 20z\"/>\n",
              "  </svg>\n",
              "      </button>\n",
              "      \n",
              "  <style>\n",
              "    .colab-df-container {\n",
              "      display:flex;\n",
              "      flex-wrap:wrap;\n",
              "      gap: 12px;\n",
              "    }\n",
              "\n",
              "    .colab-df-convert {\n",
              "      background-color: #E8F0FE;\n",
              "      border: none;\n",
              "      border-radius: 50%;\n",
              "      cursor: pointer;\n",
              "      display: none;\n",
              "      fill: #1967D2;\n",
              "      height: 32px;\n",
              "      padding: 0 0 0 0;\n",
              "      width: 32px;\n",
              "    }\n",
              "\n",
              "    .colab-df-convert:hover {\n",
              "      background-color: #E2EBFA;\n",
              "      box-shadow: 0px 1px 2px rgba(60, 64, 67, 0.3), 0px 1px 3px 1px rgba(60, 64, 67, 0.15);\n",
              "      fill: #174EA6;\n",
              "    }\n",
              "\n",
              "    [theme=dark] .colab-df-convert {\n",
              "      background-color: #3B4455;\n",
              "      fill: #D2E3FC;\n",
              "    }\n",
              "\n",
              "    [theme=dark] .colab-df-convert:hover {\n",
              "      background-color: #434B5C;\n",
              "      box-shadow: 0px 1px 3px 1px rgba(0, 0, 0, 0.15);\n",
              "      filter: drop-shadow(0px 1px 2px rgba(0, 0, 0, 0.3));\n",
              "      fill: #FFFFFF;\n",
              "    }\n",
              "  </style>\n",
              "\n",
              "      <script>\n",
              "        const buttonEl =\n",
              "          document.querySelector('#df-82cbc80c-53f5-4b40-b368-4f582961831a button.colab-df-convert');\n",
              "        buttonEl.style.display =\n",
              "          google.colab.kernel.accessAllowed ? 'block' : 'none';\n",
              "\n",
              "        async function convertToInteractive(key) {\n",
              "          const element = document.querySelector('#df-82cbc80c-53f5-4b40-b368-4f582961831a');\n",
              "          const dataTable =\n",
              "            await google.colab.kernel.invokeFunction('convertToInteractive',\n",
              "                                                     [key], {});\n",
              "          if (!dataTable) return;\n",
              "\n",
              "          const docLinkHtml = 'Like what you see? Visit the ' +\n",
              "            '<a target=\"_blank\" href=https://colab.research.google.com/notebooks/data_table.ipynb>data table notebook</a>'\n",
              "            + ' to learn more about interactive tables.';\n",
              "          element.innerHTML = '';\n",
              "          dataTable['output_type'] = 'display_data';\n",
              "          await google.colab.output.renderOutput(dataTable, element);\n",
              "          const docLink = document.createElement('div');\n",
              "          docLink.innerHTML = docLinkHtml;\n",
              "          element.appendChild(docLink);\n",
              "        }\n",
              "      </script>\n",
              "    </div>\n",
              "  </div>\n",
              "  "
            ]
          },
          "metadata": {},
          "execution_count": 56
        }
      ]
    },
    {
      "cell_type": "code",
      "source": [
        "[l for l in 'ויאמריהוהאלמשה']"
      ],
      "metadata": {
        "id": "qcLROIkhXIPR",
        "outputId": "0dbd03b6-c953-4210-9d9f-8489e4fd081b",
        "colab": {
          "base_uri": "https://localhost:8080/"
        }
      },
      "execution_count": 58,
      "outputs": [
        {
          "output_type": "execute_result",
          "data": {
            "text/plain": [
              "['ו', 'י', 'א', 'מ', 'ר', 'י', 'ה', 'ו', 'ה', 'א', 'ל', 'מ', 'ש', 'ה']"
            ]
          },
          "metadata": {},
          "execution_count": 58
        }
      ]
    },
    {
      "cell_type": "code",
      "source": [
        "[word_index[l] for l in 'ויאמריהוהאלמשה']"
      ],
      "metadata": {
        "id": "K47niuBgXmU3",
        "outputId": "4a709af9-4827-4a18-bcc3-f8d789fd7b76",
        "colab": {
          "base_uri": "https://localhost:8080/"
        }
      },
      "execution_count": 59,
      "outputs": [
        {
          "output_type": "execute_result",
          "data": {
            "text/plain": [
              "[2, 1, 4, 10, 7, 1, 3, 2, 3, 4, 5, 10, 9, 3]"
            ]
          },
          "metadata": {},
          "execution_count": 59
        }
      ]
    },
    {
      "cell_type": "code",
      "source": [
        "string = 'ויאמריהוהאלמשה'"
      ],
      "metadata": {
        "id": "OB8Pj2auX0Zo"
      },
      "execution_count": 66,
      "outputs": []
    },
    {
      "cell_type": "code",
      "source": [
        "predict_me = [[word_index[l] for l in string]]"
      ],
      "metadata": {
        "id": "fntYuy-yXtBv"
      },
      "execution_count": 67,
      "outputs": []
    },
    {
      "cell_type": "code",
      "source": [
        "model.predict(predict_me)"
      ],
      "metadata": {
        "id": "R-LFYvT_V-ky",
        "outputId": "530363ac-98c8-4d24-b96c-9a8efd8a8932",
        "colab": {
          "base_uri": "https://localhost:8080/"
        }
      },
      "execution_count": 68,
      "outputs": [
        {
          "output_type": "stream",
          "name": "stdout",
          "text": [
            "1/1 [==============================] - 0s 28ms/step\n"
          ]
        },
        {
          "output_type": "execute_result",
          "data": {
            "text/plain": [
              "array([[0.9947397]], dtype=float32)"
            ]
          },
          "metadata": {},
          "execution_count": 68
        }
      ]
    }
  ]
}