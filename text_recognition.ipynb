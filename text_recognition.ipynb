{
  "nbformat": 4,
  "nbformat_minor": 0,
  "metadata": {
    "colab": {
      "provenance": [],
      "include_colab_link": true
    },
    "kernelspec": {
      "name": "python3",
      "display_name": "Python 3"
    }
  },
  "cells": [
    {
      "cell_type": "markdown",
      "metadata": {
        "id": "view-in-github",
        "colab_type": "text"
      },
      "source": [
        "<a href=\"https://colab.research.google.com/github/mannmoshe/text-recognition/blob/main/text_recognition.ipynb\" target=\"_parent\"><img src=\"https://colab.research.google.com/assets/colab-badge.svg\" alt=\"Open In Colab\"/></a>"
      ]
    },
    {
      "cell_type": "code",
      "metadata": {
        "id": "5XgKTMRwUHu6"
      },
      "source": [
        "# based on:\n",
        "# https://deeplearningcourses.com/c/data-science-natural-language-processing-in-python\n",
        "# https://www.udemy.com/data-science-natural-language-processing-in-python\n",
        "\n",
        "# Author: Moshe Mann\n",
        "\n",
        "import numpy as np\n",
        "import string\n",
        "import random\n",
        "import requests"
      ],
      "execution_count": 25,
      "outputs": []
    },
    {
      "cell_type": "code",
      "source": [
        "for l in range(1488, 1515):\n",
        "  print(chr(l))"
      ],
      "metadata": {
        "colab": {
          "base_uri": "https://localhost:8080/"
        },
        "id": "T3N-0av3HDDU",
        "outputId": "afd4b7ab-072b-4dde-8e38-308a82522144"
      },
      "execution_count": 26,
      "outputs": [
        {
          "output_type": "stream",
          "name": "stdout",
          "text": [
            "א\n",
            "ב\n",
            "ג\n",
            "ד\n",
            "ה\n",
            "ו\n",
            "ז\n",
            "ח\n",
            "ט\n",
            "י\n",
            "ך\n",
            "כ\n",
            "ל\n",
            "ם\n",
            "מ\n",
            "ן\n",
            "נ\n",
            "ס\n",
            "ע\n",
            "ף\n",
            "פ\n",
            "ץ\n",
            "צ\n",
            "ק\n",
            "ר\n",
            "ש\n",
            "ת\n"
          ]
        }
      ]
    },
    {
      "cell_type": "code",
      "metadata": {
        "id": "IyAGzd5iUQ_W"
      },
      "source": [
        "### the language model\n",
        "\n",
        "# initialize Markov matrix\n",
        "M = np.ones((27, 27))\n",
        "\n",
        "# initial state distribution\n",
        "pi = np.zeros(27)\n",
        "\n",
        "# a function to update the Markov matrix\n",
        "def update_transition(ch1, ch2):\n",
        "  # ord('א') = 1488, ord('ב') = 1489, ...\n",
        "  i = ord(ch1) - 1488\n",
        "  j = ord(ch2) - 1488\n",
        "  M[i,j] += 1\n",
        "\n",
        "# a function to update the initial state distribution\n",
        "def update_pi(ch):\n",
        "  i = ord(ch) - 1488\n",
        "  pi[i] += 1\n",
        "\n",
        "# get the log-probability of a word / token\n",
        "def get_word_prob(word):\n",
        "  # print(\"word:\", word)\n",
        "  i = ord(word[0]) - 1488\n",
        "  logp = np.log(pi[i])\n",
        "\n",
        "  for ch in word[1:]:\n",
        "    j = ord(ch) - 1488\n",
        "    logp += np.log(M[i, j]) # update prob\n",
        "    i = j # update j\n",
        "\n",
        "  return logp\n",
        "\n",
        "# get the probability of a sequence of words\n",
        "def get_sequence_prob(words):\n",
        "  # if input is a string, split into an array of tokens\n",
        "  if type(words) == str:\n",
        "    words = words.split()\n",
        "\n",
        "  logp = 0\n",
        "  for word in words:\n",
        "    logp += get_word_prob(word)\n",
        "  return logp"
      ],
      "execution_count": 27,
      "outputs": []
    },
    {
      "cell_type": "code",
      "source": [
        "with open('torah_text.txt', encoding='ISO-8859-8') as f:\n",
        "    torah_text = f.read()"
      ],
      "metadata": {
        "id": "NctsICEMIMcj"
      },
      "execution_count": 28,
      "outputs": []
    },
    {
      "cell_type": "code",
      "source": [
        "torah_text[:50]"
      ],
      "metadata": {
        "colab": {
          "base_uri": "https://localhost:8080/",
          "height": 35
        },
        "id": "Yn9f_gKKIueM",
        "outputId": "77ca0bb2-a319-41a5-b748-47ed051c727a"
      },
      "execution_count": 29,
      "outputs": [
        {
          "output_type": "execute_result",
          "data": {
            "text/plain": [
              "'  בראשית ברא אלהים את השמים ואת הארץ והארץ היתה תה'"
            ],
            "application/vnd.google.colaboratory.intrinsic+json": {
              "type": "string"
            }
          },
          "metadata": {},
          "execution_count": 29
        }
      ]
    },
    {
      "cell_type": "code",
      "metadata": {
        "id": "PxacIxtyUZFd"
      },
      "source": [
        "tokens = torah_text.split()\n",
        "\n",
        "for token in tokens:\n",
        "  # update the model\n",
        "\n",
        "  # first letter\n",
        "  ch0 = token[0]\n",
        "  update_pi(ch0)\n",
        "\n",
        "  # other letters\n",
        "  for ch1 in token[1:]:\n",
        "    update_transition(ch0, ch1)\n",
        "    ch0 = ch1\n",
        "\n",
        "# normalize the probabilities\n",
        "pi /= pi.sum()\n",
        "M /= M.sum(axis=1, keepdims=True)"
      ],
      "execution_count": 30,
      "outputs": []
    },
    {
      "cell_type": "code",
      "source": [
        "pi"
      ],
      "metadata": {
        "colab": {
          "base_uri": "https://localhost:8080/"
        },
        "id": "KLgoLlUvMKbJ",
        "outputId": "f5a480b1-fea3-4b6d-c61a-812fe676d25e"
      },
      "execution_count": 31,
      "outputs": [
        {
          "output_type": "execute_result",
          "data": {
            "text/plain": [
              "array([0.16489595, 0.07711079, 0.00665741, 0.00687014, 0.10917145,\n",
              "       0.17239179, 0.00793383, 0.01342744, 0.00314099, 0.06989025,\n",
              "       0.        , 0.04297281, 0.08583299, 0.        , 0.06736244,\n",
              "       0.        , 0.01804508, 0.00364155, 0.04984295, 0.        ,\n",
              "       0.01278923, 0.        , 0.00644467, 0.00992354, 0.01072443,\n",
              "       0.03423809, 0.0266922 ])"
            ]
          },
          "metadata": {},
          "execution_count": 31
        }
      ]
    },
    {
      "cell_type": "code",
      "source": [
        "M[26]"
      ],
      "metadata": {
        "colab": {
          "base_uri": "https://localhost:8080/"
        },
        "id": "PmRMpKygMM5A",
        "outputId": "48b96eda-c239-4863-fa69-cea2916276c9"
      },
      "execution_count": 32,
      "outputs": [
        {
          "output_type": "execute_result",
          "data": {
            "text/plain": [
              "array([0.02937976, 0.02448313, 0.00685528, 0.00816104, 0.10010881,\n",
              "       0.13949946, 0.00369967, 0.04722524, 0.00261153, 0.16441785,\n",
              "       0.02840044, 0.03014146, 0.0171926 , 0.11675734, 0.02415669,\n",
              "       0.04069641, 0.04047878, 0.00402612, 0.03166485, 0.00097933,\n",
              "       0.00914037, 0.00032644, 0.00402612, 0.02143634, 0.03405876,\n",
              "       0.0336235 , 0.03645267])"
            ]
          },
          "metadata": {},
          "execution_count": 32
        }
      ]
    },
    {
      "cell_type": "code",
      "source": [
        "get_sequence_prob('וידבריהוהאלמשהלאמר')"
      ],
      "metadata": {
        "colab": {
          "base_uri": "https://localhost:8080/"
        },
        "id": "Ikqls-jkQ2AA",
        "outputId": "418a846f-7e43-42ba-a418-da576ad56381"
      },
      "execution_count": 33,
      "outputs": [
        {
          "output_type": "execute_result",
          "data": {
            "text/plain": [
              "-39.40077723365758"
            ]
          },
          "metadata": {},
          "execution_count": 33
        }
      ]
    },
    {
      "cell_type": "code",
      "source": [
        "len('וידבריהוהאלמשהלאמר')"
      ],
      "metadata": {
        "colab": {
          "base_uri": "https://localhost:8080/"
        },
        "id": "l1hHY_JwSwFT",
        "outputId": "00d3b0a8-edae-434d-f465-5a5d53582dda"
      },
      "execution_count": 34,
      "outputs": [
        {
          "output_type": "execute_result",
          "data": {
            "text/plain": [
              "18"
            ]
          },
          "metadata": {},
          "execution_count": 34
        }
      ]
    },
    {
      "cell_type": "code",
      "source": [
        "import random\n",
        "import string\n",
        "np.seterr(divide = 'ignore') \n",
        "\n",
        "# printing lowercase\n",
        "letters = [chr(l) for l in range(1488, 1515)]\n",
        "\n",
        "random_texts = []\n",
        "random_scores = []\n",
        "for i in range(1000):\n",
        "  random_text = ''.join(random.choice(letters) for i in range(18)) # len('וידבריהוהאלמשהלאמר') equals 18\n",
        "  #print (random_text)\n",
        "  random_scores.append(get_sequence_prob(random_text))\n",
        "  random_texts.append(random_text)\n",
        "\n",
        "print(len(random_scores))\n",
        "#print(random_texts)\n",
        "#print(random_scores)\n",
        "print('average_score:', sum(random_scores) / len(random_scores))\n",
        "print(\"\\n\")\n",
        "fixed_random_scores = [value for value in random_scores if value != float('-inf')]\n",
        "print(len(fixed_random_scores))\n",
        "#print(fixed_random_scores)\n",
        "print('average_score:', sum(fixed_random_scores) / len(fixed_random_scores))"
      ],
      "metadata": {
        "colab": {
          "base_uri": "https://localhost:8080/"
        },
        "id": "Bsitz3ywTGxr",
        "outputId": "2abb644f-6e6b-4e47-8e2b-158d41bab91e"
      },
      "execution_count": 35,
      "outputs": [
        {
          "output_type": "stream",
          "name": "stdout",
          "text": [
            "1000\n",
            "average_score: -inf\n",
            "\n",
            "\n",
            "808\n",
            "average_score: -74.88927595200538\n"
          ]
        }
      ]
    },
    {
      "cell_type": "markdown",
      "source": [
        "get_sequence_prob('וידבריהוהאלמשהלאמר') is bigger than average score of a random 18 characters-long string."
      ],
      "metadata": {
        "id": "tuQ8crv9YfSW"
      }
    },
    {
      "cell_type": "code",
      "source": [
        "get_sequence_prob('ואהבתם את הגר')"
      ],
      "metadata": {
        "colab": {
          "base_uri": "https://localhost:8080/"
        },
        "id": "MFJM4hOAZCkl",
        "outputId": "efe8167e-553b-4643-f161-5d04121def56"
      },
      "execution_count": 36,
      "outputs": [
        {
          "output_type": "execute_result",
          "data": {
            "text/plain": [
              "-27.056798620938007"
            ]
          },
          "metadata": {},
          "execution_count": 36
        }
      ]
    },
    {
      "cell_type": "code",
      "source": [
        "get_sequence_prob('ואהבת לרעך כמוך')"
      ],
      "metadata": {
        "colab": {
          "base_uri": "https://localhost:8080/"
        },
        "id": "3M9JlUr3Zddz",
        "outputId": "0185da8a-d60d-46d1-bfc8-6ded61513ddf"
      },
      "execution_count": 37,
      "outputs": [
        {
          "output_type": "execute_result",
          "data": {
            "text/plain": [
              "-42.81038222930017"
            ]
          },
          "metadata": {},
          "execution_count": 37
        }
      ]
    }
  ]
}