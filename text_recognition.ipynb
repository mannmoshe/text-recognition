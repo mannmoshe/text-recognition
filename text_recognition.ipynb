{
  "nbformat": 4,
  "nbformat_minor": 0,
  "metadata": {
    "colab": {
      "provenance": [],
      "include_colab_link": true
    },
    "kernelspec": {
      "name": "python3",
      "display_name": "Python 3"
    }
  },
  "cells": [
    {
      "cell_type": "markdown",
      "metadata": {
        "id": "view-in-github",
        "colab_type": "text"
      },
      "source": [
        "<a href=\"https://colab.research.google.com/github/mannmoshe/text-recognition/blob/main/text_recognition.ipynb\" target=\"_parent\"><img src=\"https://colab.research.google.com/assets/colab-badge.svg\" alt=\"Open In Colab\"/></a>"
      ]
    },
    {
      "cell_type": "code",
      "metadata": {
        "id": "5XgKTMRwUHu6"
      },
      "source": [
        "# based on:\n",
        "# https://deeplearningcourses.com/c/data-science-natural-language-processing-in-python \n",
        "# https://www.udemy.com/data-science-natural-language-processing-in-python Section 7 Cipher Decryption\n",
        "\n",
        "# Author: Moshe Mann\n",
        "\n",
        "import numpy as np\n",
        "np.seterr(divide = 'ignore') \n",
        "\n",
        "import string\n",
        "import random\n",
        "import requests"
      ],
      "execution_count": 55,
      "outputs": []
    },
    {
      "cell_type": "code",
      "source": [
        "for l in range(1488, 1515):\n",
        "  print(l - 1488, chr(l))"
      ],
      "metadata": {
        "colab": {
          "base_uri": "https://localhost:8080/"
        },
        "id": "T3N-0av3HDDU",
        "outputId": "f86f6497-c174-4b8b-b2c4-2a5025b5bb4a"
      },
      "execution_count": 77,
      "outputs": [
        {
          "output_type": "stream",
          "name": "stdout",
          "text": [
            "0 א\n",
            "1 ב\n",
            "2 ג\n",
            "3 ד\n",
            "4 ה\n",
            "5 ו\n",
            "6 ז\n",
            "7 ח\n",
            "8 ט\n",
            "9 י\n",
            "10 ך\n",
            "11 כ\n",
            "12 ל\n",
            "13 ם\n",
            "14 מ\n",
            "15 ן\n",
            "16 נ\n",
            "17 ס\n",
            "18 ע\n",
            "19 ף\n",
            "20 פ\n",
            "21 ץ\n",
            "22 צ\n",
            "23 ק\n",
            "24 ר\n",
            "25 ש\n",
            "26 ת\n"
          ]
        }
      ]
    },
    {
      "cell_type": "code",
      "metadata": {
        "id": "IyAGzd5iUQ_W"
      },
      "source": [
        "### the language model\n",
        "\n",
        "# initialize Markov matrix\n",
        "# MM: matrix for the bi-gram probabilites\n",
        "M = np.ones((27, 27))\n",
        "\n",
        "# initial state distribution\n",
        "# MM: vector for the uni-gram probabilites\n",
        "# MM: uni-gram probabilites calculated only by first letters of the words\n",
        "pi = np.zeros(27)\n",
        "\n",
        "# a function to update the Markov matrix\n",
        "def update_transition(ch1, ch2):\n",
        "  # ord('א') = 1488, ord('ב') = 1489, ...\n",
        "  i = ord(ch1) - 1488 # 'א' will mapped to 0, 'ב' will mapped to 1 and so on\n",
        "  j = ord(ch2) - 1488\n",
        "  M[i,j] += 1\n",
        "\n",
        "# a function to update the initial state distribution\n",
        "def update_pi(ch):\n",
        "  i = ord(ch) - 1488\n",
        "  pi[i] += 1\n",
        "\n",
        "# get the log-probability of a word / token\n",
        "def get_word_prob(word):\n",
        "  # print(\"word:\", word)\n",
        "  i = ord(word[0]) - 1488\n",
        "  logp = np.log(pi[i])\n",
        "\n",
        "  for ch in word[1:]:\n",
        "    j = ord(ch) - 1488\n",
        "    logp += np.log(M[i, j]) # update prob\n",
        "    i = j # update i to j\n",
        "\n",
        "  return logp\n",
        "\n",
        "# get the probability of a sequence of words\n",
        "def get_sequence_prob(words):\n",
        "  # if input is a string, split into an array of tokens\n",
        "  if type(words) == str:\n",
        "    words = words.split()\n",
        "\n",
        "  logp = 0\n",
        "  for word in words:\n",
        "    logp += get_word_prob(word)\n",
        "  return logp"
      ],
      "execution_count": 57,
      "outputs": []
    },
    {
      "cell_type": "code",
      "source": [
        "# with open('torah_text.txt', encoding='ISO-8859-8') as f:\n",
        "#     torah_text = f.read()\n",
        "req = requests.get(\"https://raw.githubusercontent.com/mannmoshe/text-recognition/main/torah_text.txt\")\n",
        "req.encoding = 'ISO-8859-8'\n",
        "torah_text = req.text"
      ],
      "metadata": {
        "id": "NctsICEMIMcj"
      },
      "execution_count": 58,
      "outputs": []
    },
    {
      "cell_type": "code",
      "source": [
        "torah_text[:50]"
      ],
      "metadata": {
        "colab": {
          "base_uri": "https://localhost:8080/",
          "height": 35
        },
        "id": "Yn9f_gKKIueM",
        "outputId": "2cb34124-f0a5-4fff-b897-28a70db56e65"
      },
      "execution_count": 59,
      "outputs": [
        {
          "output_type": "execute_result",
          "data": {
            "text/plain": [
              "'  בראשית ברא אלהים את השמים ואת הארץ והארץ היתה תה'"
            ],
            "application/vnd.google.colaboratory.intrinsic+json": {
              "type": "string"
            }
          },
          "metadata": {},
          "execution_count": 59
        }
      ]
    },
    {
      "cell_type": "markdown",
      "source": [
        "מספר הפעמים שהאות א מופיעה שלא בסוף המילה"
      ],
      "metadata": {
        "id": "T6PYGkk4wo4o"
      }
    },
    {
      "cell_type": "code",
      "source": [
        "torah_text.count('א') - torah_text.count('א ')"
      ],
      "metadata": {
        "colab": {
          "base_uri": "https://localhost:8080/"
        },
        "id": "fJ_5FVZQEvAR",
        "outputId": "0a7f36b4-cf66-43a0-b3d4-e557d2b6f29c"
      },
      "execution_count": 74,
      "outputs": [
        {
          "output_type": "execute_result",
          "data": {
            "text/plain": [
              "23502"
            ]
          },
          "metadata": {},
          "execution_count": 74
        }
      ]
    },
    {
      "cell_type": "code",
      "source": [
        "torah_text.count('אב')"
      ],
      "metadata": {
        "colab": {
          "base_uri": "https://localhost:8080/"
        },
        "id": "A9QGUFHNFAcA",
        "outputId": "a3b3187c-9350-4983-a2f6-15ce77718643"
      },
      "execution_count": 65,
      "outputs": [
        {
          "output_type": "execute_result",
          "data": {
            "text/plain": [
              "972"
            ]
          },
          "metadata": {},
          "execution_count": 65
        }
      ]
    },
    {
      "cell_type": "code",
      "metadata": {
        "id": "PxacIxtyUZFd"
      },
      "source": [
        "tokens = torah_text.split()\n",
        "\n",
        "for token in tokens:\n",
        "  # update the model\n",
        "\n",
        "  # first letter\n",
        "  ch0 = token[0]\n",
        "  update_pi(ch0)\n",
        "\n",
        "  # other letters\n",
        "  for ch1 in token[1:]:\n",
        "    update_transition(ch0, ch1)\n",
        "    ch0 = ch1\n",
        "\n",
        "pi_initial_count = pi.copy()\n",
        "M_initial_count = M.copy()\n",
        "\n",
        "# normalize the probabilities\n",
        "pi /= pi.sum()\n",
        "M /= M.sum(axis=1, keepdims=True)"
      ],
      "execution_count": 66,
      "outputs": []
    },
    {
      "cell_type": "markdown",
      "source": [
        "first letter distribution:"
      ],
      "metadata": {
        "id": "wcpAnG77tVx0"
      }
    },
    {
      "cell_type": "code",
      "source": [
        "pi_initial_count"
      ],
      "metadata": {
        "id": "_RHxwx4ItPyj",
        "outputId": "7d856864-f36f-4b2b-a9d1-5a164e0807d4",
        "colab": {
          "base_uri": "https://localhost:8080/"
        }
      },
      "execution_count": 67,
      "outputs": [
        {
          "output_type": "execute_result",
          "data": {
            "text/plain": [
              "array([13177.,  6162.,   532.,   549.,  8724., 13776.,   634.,  1073.,\n",
              "         251.,  5585.,     0.,  3434.,  6859.,     0.,  5383.,     0.,\n",
              "        1442.,   291.,  3983.,     0.,  1022.,     0.,   515.,   793.,\n",
              "         857.,  2736.,  2133.])"
            ]
          },
          "metadata": {},
          "execution_count": 67
        }
      ]
    },
    {
      "cell_type": "markdown",
      "source": [
        "The probabilties vector of first letters in word:"
      ],
      "metadata": {
        "id": "I8epcUrXfohx"
      }
    },
    {
      "cell_type": "code",
      "source": [
        "pi"
      ],
      "metadata": {
        "colab": {
          "base_uri": "https://localhost:8080/"
        },
        "id": "KLgoLlUvMKbJ",
        "outputId": "2bccab01-5302-45b2-aad5-dffb3c0fbe2b"
      },
      "execution_count": 39,
      "outputs": [
        {
          "output_type": "execute_result",
          "data": {
            "text/plain": [
              "array([0.16489595, 0.07711079, 0.00665741, 0.00687014, 0.10917145,\n",
              "       0.17239179, 0.00793383, 0.01342744, 0.00314099, 0.06989025,\n",
              "       0.        , 0.04297281, 0.08583299, 0.        , 0.06736244,\n",
              "       0.        , 0.01804508, 0.00364155, 0.04984295, 0.        ,\n",
              "       0.01278923, 0.        , 0.00644467, 0.00992354, 0.01072443,\n",
              "       0.03423809, 0.0266922 ])"
            ]
          },
          "metadata": {},
          "execution_count": 39
        }
      ]
    },
    {
      "cell_type": "code",
      "source": [
        "pi.sum()"
      ],
      "metadata": {
        "colab": {
          "base_uri": "https://localhost:8080/"
        },
        "id": "Wg_YGWHgd04b",
        "outputId": "09c6cee7-a58e-4ce7-d52f-23275565959d"
      },
      "execution_count": 40,
      "outputs": [
        {
          "output_type": "execute_result",
          "data": {
            "text/plain": [
              "1.0"
            ]
          },
          "metadata": {},
          "execution_count": 40
        }
      ]
    },
    {
      "cell_type": "code",
      "source": [
        "M_initial_count[0]"
      ],
      "metadata": {
        "id": "jqHVtBfjthzr",
        "outputId": "cbd642c8-c0cb-4cab-c359-311abcfbb607",
        "colab": {
          "base_uri": "https://localhost:8080/"
        }
      },
      "execution_count": 69,
      "outputs": [
        {
          "output_type": "execute_result",
          "data": {
            "text/plain": [
              "array([2.000e+00, 9.730e+02, 1.600e+01, 5.360e+02, 9.610e+02, 1.111e+03,\n",
              "       1.030e+02, 1.098e+03, 4.000e+00, 1.073e+03, 1.010e+02, 4.900e+02,\n",
              "       4.090e+03, 3.880e+02, 1.688e+03, 1.060e+02, 5.920e+02, 1.140e+02,\n",
              "       5.500e+01, 5.300e+01, 1.450e+02, 2.000e+00, 5.600e+01, 3.200e+01,\n",
              "       1.460e+03, 2.737e+03, 5.543e+03])"
            ]
          },
          "metadata": {},
          "execution_count": 69
        }
      ]
    },
    {
      "cell_type": "code",
      "source": [
        "M_initial_count[0].sum()"
      ],
      "metadata": {
        "id": "Zr8xWGOytxZz",
        "outputId": "72e26d07-7a0c-4da3-c5a5-781c73c1a2fa",
        "colab": {
          "base_uri": "https://localhost:8080/"
        }
      },
      "execution_count": 71,
      "outputs": [
        {
          "output_type": "execute_result",
          "data": {
            "text/plain": [
              "23529.0"
            ]
          },
          "metadata": {},
          "execution_count": 71
        }
      ]
    },
    {
      "cell_type": "markdown",
      "source": [
        "The probabilties matrix of bi-gram where the first letter is: א"
      ],
      "metadata": {
        "id": "oWIgPn_RfzDZ"
      }
    },
    {
      "cell_type": "code",
      "source": [
        "M[0]"
      ],
      "metadata": {
        "colab": {
          "base_uri": "https://localhost:8080/"
        },
        "id": "mceSlhy5e-Zs",
        "outputId": "4dc666b2-ea15-409d-8b55-d5069a487752"
      },
      "execution_count": 78,
      "outputs": [
        {
          "output_type": "execute_result",
          "data": {
            "text/plain": [
              "array([8.50014875e-05, 4.13532237e-02, 6.80011900e-04, 2.27803987e-02,\n",
              "       4.08432148e-02, 4.72183263e-02, 4.37757661e-03, 4.66658167e-02,\n",
              "       1.70002975e-04, 4.56032981e-02, 4.29257512e-03, 2.08253644e-02,\n",
              "       1.73828042e-01, 1.64902886e-02, 7.17412555e-02, 4.50507884e-03,\n",
              "       2.51604403e-02, 4.84508479e-03, 2.33754091e-03, 2.25253942e-03,\n",
              "       6.16260785e-03, 8.50014875e-05, 2.38004165e-03, 1.36002380e-03,\n",
              "       6.20510859e-02, 1.16324536e-01, 2.35581623e-01])"
            ]
          },
          "metadata": {},
          "execution_count": 78
        }
      ]
    },
    {
      "cell_type": "code",
      "source": [
        "M.sum(axis=1)"
      ],
      "metadata": {
        "colab": {
          "base_uri": "https://localhost:8080/"
        },
        "id": "PmRMpKygMM5A",
        "outputId": "91fdd786-856c-42c6-caf9-510135767c8c"
      },
      "execution_count": 43,
      "outputs": [
        {
          "output_type": "execute_result",
          "data": {
            "text/plain": [
              "array([1., 1., 1., 1., 1., 1., 1., 1., 1., 1., 1., 1., 1., 1., 1., 1., 1.,\n",
              "       1., 1., 1., 1., 1., 1., 1., 1., 1., 1.])"
            ]
          },
          "metadata": {},
          "execution_count": 43
        }
      ]
    },
    {
      "cell_type": "code",
      "source": [
        "get_sequence_prob('וידבר יהוה אל משה לאמר')"
      ],
      "metadata": {
        "colab": {
          "base_uri": "https://localhost:8080/"
        },
        "id": "Ikqls-jkQ2AA",
        "outputId": "1173ab61-229f-4b78-cb47-842cfc8e200d"
      },
      "execution_count": 14,
      "outputs": [
        {
          "output_type": "execute_result",
          "data": {
            "text/plain": [
              "-38.291733346990895"
            ]
          },
          "metadata": {},
          "execution_count": 14
        }
      ]
    },
    {
      "cell_type": "code",
      "source": [
        "letters = [chr(l) for l in range(1488, 1515)]\n",
        "\n",
        "random_texts = []\n",
        "random_scores = []\n",
        "for i in range(1000):\n",
        "  random_text = ''.join(random.choice(letters) for i in range(5)) + ' ' \\\n",
        "                 + ''.join(random.choice(letters) for i in range(4)) + ' ' \\\n",
        "                 + ''.join(random.choice(letters) for i in range(2)) + ' ' \\\n",
        "                 + ''.join(random.choice(letters) for i in range(3)) + ' ' \\\n",
        "                 + ''.join(random.choice(letters) for i in range(4)) \n",
        "  #print (random_text)\n",
        "  random_scores.append(get_sequence_prob(random_text))\n",
        "  random_texts.append(random_text)\n",
        "\n",
        "print(len(random_scores))\n",
        "print(random_texts[:10])\n",
        "print(random_scores[:10])\n",
        "print('average_score:', sum(random_scores) / len(random_scores))\n",
        "print(\"\\n\")\n",
        "fixed_random_scores = [value for value in random_scores if value != float('-inf')]\n",
        "print(len(fixed_random_scores))\n",
        "#print(fixed_random_scores)\n",
        "print('average_score:', sum(fixed_random_scores) / len(fixed_random_scores))"
      ],
      "metadata": {
        "colab": {
          "base_uri": "https://localhost:8080/"
        },
        "id": "Bsitz3ywTGxr",
        "outputId": "dac0107c-bba1-486f-aa94-73c84060ac84"
      },
      "execution_count": 20,
      "outputs": [
        {
          "output_type": "stream",
          "name": "stdout",
          "text": [
            "1000\n",
            "['תךרטט שחסט וח שכי יוףר', 'שהטבף בשלא תן יספ ואטן', 'נגץלת טקככ ףר האל וףקצ', 'יוךבנ סראא חץ צלמ כקנך', 'בחדכה ףםרכ זס םהץ נטמכ', 'אפףופ הץםע חכ נמצ הקגח', 'פהזשה פכטמ ךה זגל ודכת', 'ךשתהא כךיד דץ אסע קקגע', 'צהןבצ חןאה קצ חץל רגןץ', 'ץןכפז קתנד גנ גדפ עאפד']\n",
            "[-72.32711115224632, -65.9709281637593, -inf, -73.62320329853983, -inf, -82.00289436177977, -inf, -inf, -72.65773746183035, -inf]\n",
            "average_score: -inf\n",
            "\n",
            "\n",
            "370\n",
            "average_score: -73.00430344971377\n"
          ]
        }
      ]
    },
    {
      "cell_type": "markdown",
      "source": [
        "get_sequence_prob('וידבר יהוה אל משה לאמר') is bigger than average score of a sentence with a same structure."
      ],
      "metadata": {
        "id": "tuQ8crv9YfSW"
      }
    },
    {
      "cell_type": "code",
      "source": [
        "get_sequence_prob('ואהבתם את הגר')"
      ],
      "metadata": {
        "colab": {
          "base_uri": "https://localhost:8080/"
        },
        "id": "MFJM4hOAZCkl",
        "outputId": "26bd1de9-0143-438a-9dcc-fa039b38d56b"
      },
      "execution_count": 21,
      "outputs": [
        {
          "output_type": "execute_result",
          "data": {
            "text/plain": [
              "-27.056798620938007"
            ]
          },
          "metadata": {},
          "execution_count": 21
        }
      ]
    },
    {
      "cell_type": "code",
      "source": [
        "get_sequence_prob('ואהבת לרעך כמוך')"
      ],
      "metadata": {
        "colab": {
          "base_uri": "https://localhost:8080/"
        },
        "id": "3M9JlUr3Zddz",
        "outputId": "cff89a63-023e-4bf6-bfff-7cc0cfb4f526"
      },
      "execution_count": 22,
      "outputs": [
        {
          "output_type": "execute_result",
          "data": {
            "text/plain": [
              "-42.81038222930017"
            ]
          },
          "metadata": {},
          "execution_count": 22
        }
      ]
    },
    {
      "cell_type": "code",
      "source": [
        "get_sequence_prob('וילך משה ויאמר אל עמו הנה פרעה משלח אתכם ואת טפכם')"
      ],
      "metadata": {
        "colab": {
          "base_uri": "https://localhost:8080/"
        },
        "id": "_G6zA35OUFX1",
        "outputId": "19bdb9f4-463d-4f00-9bf1-8b8a72152b4f"
      },
      "execution_count": 27,
      "outputs": [
        {
          "output_type": "execute_result",
          "data": {
            "text/plain": [
              "-101.2397427430866"
            ]
          },
          "metadata": {},
          "execution_count": 27
        }
      ]
    },
    {
      "cell_type": "code",
      "source": [
        "letters = [chr(l) for l in range(1488, 1515)]\n",
        "\n",
        "random_texts = []\n",
        "random_scores = []\n",
        "for i in range(1000):\n",
        "  random_text = ''.join(random.choice(letters) for i in range(4)) + ' ' \\\n",
        "                 + ''.join(random.choice(letters) for i in range(3)) + ' ' \\\n",
        "                 + ''.join(random.choice(letters) for i in range(5)) + ' ' \\\n",
        "                 + ''.join(random.choice(letters) for i in range(2)) + ' ' \\\n",
        "                 + ''.join(random.choice(letters) for i in range(3)) + ' ' \\\n",
        "                 + ''.join(random.choice(letters) for i in range(3)) + ' ' \\\n",
        "                 + ''.join(random.choice(letters) for i in range(4)) + ' ' \\\n",
        "                 + ''.join(random.choice(letters) for i in range(4)) + ' ' \\\n",
        "                 + ''.join(random.choice(letters) for i in range(4)) + ' ' \\\n",
        "                 + ''.join(random.choice(letters) for i in range(3)) + ' ' \\\n",
        "                 + ''.join(random.choice(letters) for i in range(4)) \n",
        "  #print (random_text)\n",
        "  random_scores.append(get_sequence_prob(random_text))\n",
        "  random_texts.append(random_text)\n",
        "\n",
        "print(len(random_scores))\n",
        "print(random_texts[:10])\n",
        "print(random_scores[:10])\n",
        "print('average_score:', sum(random_scores) / len(random_scores))\n",
        "print(\"\\n\")\n",
        "fixed_random_scores = [value for value in random_scores if value != float('-inf')]\n",
        "print(len(fixed_random_scores))\n",
        "#print(fixed_random_scores)\n",
        "print('average_score:', sum(fixed_random_scores) / len(fixed_random_scores))"
      ],
      "metadata": {
        "colab": {
          "base_uri": "https://localhost:8080/"
        },
        "id": "LcqERpKTUiIM",
        "outputId": "76510b16-da68-4a09-edae-01de98d254b4"
      },
      "execution_count": 28,
      "outputs": [
        {
          "output_type": "stream",
          "name": "stdout",
          "text": [
            "1000\n",
            "['כתאת לנג סרזגל הש שםע לרה וגץה רמלק צסםח דעי דרףך', 'רנאג ץוו קןךקז תם חפנ טוץ הןםר כםךך יזךט ןצס יהסק', 'ףאוא ןעה הפנכם ךן שסמ יעט ירקכ נמפק מרנפ יךנ ראהט', 'עזךה חפל משדצק םנ ללו ןטנ פנזג ועץך לצתך ךםס טצשא', 'ךשעע לףס דלגטם שך בץץ חום םךנב לטכד בקפח צףי טםםת', 'פץהי חםמ ןסןרא תע ףאח זבג לוצו זתזפ ץףבמ גסף ןזקת', 'תליז פוו חנגאד הם גמץ וכפ בגהש בגתף שגזג יטה רכצט', 'ךהםח מתץ עהךאז קץ פהח בףמ דסתצ ךסתש קהרז שףר שהסי', 'פתמג נטא פעמצה שע כלצ טכף וזרן ףפיכ ךמרס וטל זמדי', 'דרנח וץצ ןעאץו ןה תשר ךןב תבקן תרקג םפשג פוק הסגק']\n",
            "[-154.12234787372574, -inf, -inf, -inf, -inf, -inf, -162.50427635252774, -inf, -inf, -inf]\n",
            "average_score: -inf\n",
            "\n",
            "\n",
            "108\n",
            "average_score: -159.6885760222407\n"
          ]
        }
      ]
    }
  ]
}